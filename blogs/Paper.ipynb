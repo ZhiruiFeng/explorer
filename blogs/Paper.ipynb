{
 "cells": [
  {
   "cell_type": "markdown",
   "metadata": {},
   "source": [
    "# The FastMap Algorithm for Directed Graph Problems in Euclidean Space"
   ]
  },
  {
   "cell_type": "markdown",
   "metadata": {},
   "source": [
    "## Abstract\n",
    "\n",
    "In Euclidean space, structures like distance provide efficiently accessible information to facilitates informed search strategies on graphs, makes it easier to solve many graph problems, like the Traveling Salesman Problem. FastMap, a preprocessing algorithm, is able to embed the vertices of a given non-negative edge-weighted undirected graph into a Euclidean space within near-linear time and approximately preserved the pairwise shortest path distances between vertices through Euclidean distances. However, directed graph,  a more general representation of problems, is unable to be embedded directly into Euclidean space because of the asymmetry of distances between vertices. In this paper, we present the DIrected Graph FastMap (DIG-FastMap) algorithm, which uses two embeddings to resolve the difficulty of asymmetry. We analyze and compare the properties of different embedding strategies theoretically and empirically. Furthermore, through performances tests on shortest path computation problems, we demonstrate FastMap is useful on directed graphs, and it is competitive with other state-of-the-art heuristics, such as the Differential heuristic in A* search. "
   ]
  },
  {
   "cell_type": "markdown",
   "metadata": {},
   "source": [
    "## Introduction"
   ]
  },
  {
   "cell_type": "markdown",
   "metadata": {},
   "source": [
    "**outline**\n",
    "\n",
    "There are four aspects we need to talk about: at all of these, we also need to emphasis the directed graph's asymmetric problem.\n",
    "\n",
    "- From graph representation: distance based and structure based graph embedding, what's their focus and how we uses it in a wider range of traditional graph problems. Where we should emphasis the usefulness of distance heuristic.\n",
    "- Talk about heuristic search, especially DH, and more about it's limit at not being able to show more structure on graphs.\n",
    "- How Euclidean Heuristic works among the heuristic search field, and it's limit which emphasis our contribution of FastMap.\n",
    "- Introduce DIG-FastMap, which is useful on both problems.\n"
   ]
  },
  {
   "cell_type": "markdown",
   "metadata": {},
   "source": [
    "Alan Newell and Herbert Simon described problem solving as a search that occurs between the posing of the problem and its solution [cite]. Since then, shortest path computations commonly occur in many AI programs [cite]. A\\* search is a power technology especially when equipped with an good informed heuristic [cite]. Real time path finding like navigation systems requires A\\* algorithm to find the shortest path between two locations efficiently and repeatedly [cite], which gives high demand for the design of heuristic function.\n",
    "\n",
    "Currently, most existing heuristics are only useful for undirectd graph. However, directed graph is more general than undirected graph and more realistic in practical problems. For example, roadmap with travel time as edge's weight, which is more useful than distance in navigation system, and two point may have different time weights for different direction especially during rush hours. Another example is the state lattice graph for motion planning in robotics. Since the agent's preferences on various motions are not equal (e.g., moving forward is easier than moving backward for most robots), the state lattice graph is directed. Based on these facts, finding better heuristic for directed graph can be a meaningful and promissing topic.\n",
    "\n",
    "Design heuristics that can perform well is a challenging problem. [Begin explaining the state of art of heuristic for A* algorithm.]\n",
    "\n",
    "Differential Heuristic is the one can be used on directed graph. [More analysis on it.]\n",
    "\n",
    "As pointed by psychology, the statement of problem can influence people's intuition when solving the problem. Thus Eucidean Heuristic is the one with great potential, which introduced ideas from dimentional reduction and graph embedding. [There are many comparison among them, which can be seen from a encoder-decoder perspective. And we can further talking about directed version.]\n",
    "\n",
    "Introduce Fastmap and talking about the contribution of this study.\n",
    "\n"
   ]
  },
  {
   "cell_type": "markdown",
   "metadata": {},
   "source": [
    "## Background"
   ]
  }
 ],
 "metadata": {
  "kernelspec": {
   "display_name": "Python 3",
   "language": "python",
   "name": "python3"
  },
  "language_info": {
   "codemirror_mode": {
    "name": "ipython",
    "version": 3
   },
   "file_extension": ".py",
   "mimetype": "text/x-python",
   "name": "python",
   "nbconvert_exporter": "python",
   "pygments_lexer": "ipython3",
   "version": "3.6.4"
  }
 },
 "nbformat": 4,
 "nbformat_minor": 2
}
