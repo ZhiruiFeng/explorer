{
 "cells": [
  {
   "cell_type": "markdown",
   "metadata": {},
   "source": [
    "# Differential Heuristic and Landmark (underway)"
   ]
  },
  {
   "cell_type": "markdown",
   "metadata": {},
   "source": [
    "True distances heuristic is widely used in heuristic search, but the problem lies on the high computational complexity while preprocessing and the high storage requirement. Thus people came up with an idea of using landmarks distances, use the difference of distance between pivot nodes to get a lower bound for target distance. This idea is used in Differential Heuristic (DH) and later people came up with an idea of compressed DH (CDH) which even reduced the storage further more.\n",
    "\n",
    "Here our goal is to analyze DH's performance with graph topologies and edge weights. What's more, consider its combination with graph embedding."
   ]
  },
  {
   "cell_type": "code",
   "execution_count": null,
   "metadata": {},
   "outputs": [],
   "source": []
  }
 ],
 "metadata": {
  "kernelspec": {
   "display_name": "Python 3",
   "language": "python",
   "name": "python3"
  },
  "language_info": {
   "codemirror_mode": {
    "name": "ipython",
    "version": 3
   },
   "file_extension": ".py",
   "mimetype": "text/x-python",
   "name": "python",
   "nbconvert_exporter": "python",
   "pygments_lexer": "ipython3",
   "version": "3.6.4"
  }
 },
 "nbformat": 4,
 "nbformat_minor": 2
}
