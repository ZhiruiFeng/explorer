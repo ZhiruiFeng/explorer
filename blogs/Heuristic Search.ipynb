{
 "cells": [
  {
   "cell_type": "markdown",
   "metadata": {},
   "source": [
    "# Problem Solving and Search\n",
    "\n",
    "## Backgrounds: \n",
    "\n",
    "Modern research regards problem solving as the Infomation-Processsing approach. It was first proposed by Alan Newell and Herbert Simon, and they described their “logic theorist” computer program that was designed to simulate human problem solving. In other words, instead of just considering the initial structure of a problem and then the new structure achieved when the problem is solved, Newell and Simon described problem solving as a search that occurs between the posing of the problem and its solution.\n",
    "\n",
    "One of the main contributions of Newell and Simon’s approach to problem solving\n",
    "is that it provided a way to specify the possible pathways from the initial to goal states.\n",
    "\n",
    "**Beyond problem space**\n",
    "\n",
    "In phycology perspective, how a problem is stated can affect its diffculty. This is very similar to the Gestalt psychologists’ idea of restructuring. \n",
    "\n",
    "Thus here, I want to talk about the representation of general graph as nodes in Euclidean space, where intuition can be retrieved efficiently because of the structure and closed-form formulars."
   ]
  },
  {
   "cell_type": "markdown",
   "metadata": {},
   "source": [
    "## Euclidean space embedding\n",
    "\n",
    "One significent feature of Euclidean space is the distances between nodes obeys triangular inequality. And such features enable some properties when mapping it with general graph.\n",
    "\n",
    "And FastMap algorithm start from imaging the objects existing in a Euclidean space where the distance information keeps, and then try to find out the coordinates of nodes in a specified $K$ dimensional space which preserves as much original information as possible.\n",
    "\n",
    "Thus when this two direction meets, what's going on with the ignored structure information of graph?"
   ]
  },
  {
   "cell_type": "markdown",
   "metadata": {},
   "source": [
    "## Collection of theorems and properties on graph:"
   ]
  },
  {
   "cell_type": "markdown",
   "metadata": {},
   "source": [
    "**Any edge $(u, v) \\in E$ is the unique shortest $u$-$v$-path is not a limiting assumption when finding shortest paths**.\n",
    "\n",
    "Since any edge $(u, v)$ that does not satisfy the assumption can be removed from the graph without changing the length of any shortest path."
   ]
  },
  {
   "cell_type": "markdown",
   "metadata": {},
   "source": [
    "**A Euclidean heuristic is admissible and consistent if and only if the heuristic is locally admissible**, i.e., $\\forall (i, j) \\in E,  \\|y_i −y_j\\|≤ \\delta(i, j)$ where $E$ is the set of edges."
   ]
  },
  {
   "cell_type": "code",
   "execution_count": null,
   "metadata": {},
   "outputs": [],
   "source": []
  }
 ],
 "metadata": {
  "kernelspec": {
   "display_name": "Python 3",
   "language": "python",
   "name": "python3"
  },
  "language_info": {
   "codemirror_mode": {
    "name": "ipython",
    "version": 3
   },
   "file_extension": ".py",
   "mimetype": "text/x-python",
   "name": "python",
   "nbconvert_exporter": "python",
   "pygments_lexer": "ipython3",
   "version": "3.6.4"
  }
 },
 "nbformat": 4,
 "nbformat_minor": 2
}
