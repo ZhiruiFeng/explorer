{
 "cells": [
  {
   "cell_type": "markdown",
   "metadata": {},
   "source": [
    "# Experiment 1 -- Distortion\n",
    "\n",
    "This is a formal experiment on testing the performance of FastMap when approximate the target distance on directed graph.\n",
    "\n",
    "**Test DataSet:**\n",
    "\n",
    "1. Simulated random directed graphs (10 random, and get average)\n",
    "2. State lattice of game map\n",
    "3. Roadmap, directed\n",
    "\n",
    "The embedding dimention $K$ is a hyperparameter, and incurs a hiden process of finding the relation between distortion and $K$, and choose the best one for external comparison with other benchmark algorithms.\n",
    "\n",
    "**Test design:**\n",
    "\n",
    "1. Test the distortion of embedding `average`\n",
    "2. Test the distortion of embedding `max`\n",
    "3. Test the distortion of `min` through embedding `average` and `max`\n",
    "4. Test the distortion of purely using of differential heuristic\n",
    "5. Test the distortion of real distances through embedding `average` and `max`, plus the stored true distances.\n",
    "\n",
    "**Test Goal:**\n",
    "\n",
    "The accuracy of heuristic value by FastMap."
   ]
  },
  {
   "cell_type": "code",
   "execution_count": 4,
   "metadata": {},
   "outputs": [
    {
     "name": "stdout",
     "output_type": "stream",
     "text": [
      "The autoreload extension is already loaded. To reload it, use:\n",
      "  %reload_ext autoreload\n"
     ]
    }
   ],
   "source": [
    "# Add libraries\n",
    "%load_ext autoreload\n",
    "%autoreload 2\n",
    "import os, sys\n",
    "lib_path = os.path.abspath(os.path.join('../'))\n",
    "sys.path.append(lib_path)\n",
    "\n",
    "import heuristic.fastmap.utils as utils\n",
    "from heuristic.fastmap.difastmap import init_dis_store, difastmap_average, difastmap_diff, difastmap_max \n",
    "import heuristic.fastmap.analyse as analyse\n",
    "\n",
    "import matplotlib.pyplot as plt\n",
    "import networkx as nx\n",
    "import random\n",
    "import multiprocessing as mp\n",
    "import numpy as np\n",
    "import math\n",
    "from random import sample"
   ]
  },
  {
   "cell_type": "code",
   "execution_count": 3,
   "metadata": {},
   "outputs": [
    {
     "name": "stdout",
     "output_type": "stream",
     "text": [
      "Density: 0.007055055055055055\n"
     ]
    },
    {
     "data": {
      "image/png": "[encoded data removed]",
      "text/plain": [
       "<matplotlib.figure.Figure at 0x107996828>"
      ]
     },
     "metadata": {},
     "output_type": "display_data"
    }
   ],
   "source": [
    "n = 1000\n",
    "p = 0.007\n",
    "low = 1\n",
    "high = 5\n",
    "\n",
    "G, density = utils.generate_random_digraph(n, p, low, high)\n",
    "utils.distance_info(G)"
   ]
  },
  {
   "cell_type": "code",
   "execution_count": 3,
   "metadata": {},
   "outputs": [],
   "source": [
    "\n",
    "def meta_distortion(i):\n",
    "    global G, embedding, subset, alg, variant\n",
    "    node_1=subset[i]\n",
    "    emb_1 = np.array(embedding[node_1])\n",
    "    length = nx.single_source_dijkstra_path_length(G, node_1)\n",
    "    sigma = 0\n",
    "    ave_d = 0\n",
    "    for j in range(i+1, len(subset)):\n",
    "        node_2 = subset[j]\n",
    "        emb_2 = np.array(embedding[node_2])\n",
    "        distance = length[node_2]\n",
    "        if variant == 'undirected':\n",
    "            target_dis = distance\n",
    "        elif variant == 'average':\n",
    "            distance_reverse = nx.dijkstra_path_length(G, node_2, node_1)\n",
    "            target_dis = (float(distance) + float(distance_reverse))/2\n",
    "        elif variant == 'max':\n",
    "            distance_reverse = nx.dijkstra_path_length(G, node_2, node_1)\n",
    "            target_dis = max(float(distance), float(distance_reverse))\n",
    "        elif variant == 'diff':\n",
    "            distance_reverse = nx.dijkstra_path_length(G, node_2, node_1)\n",
    "            target_dis = abs(float(distance) - float(distance_reverse))/2\n",
    "        if alg == 'L1':\n",
    "            embdis = np.sum(np.abs(emb_1-emb_2))\n",
    "        elif alg == 'L2':\n",
    "            embdis = math.sqrt(np.dot(emb_1-emb_2, emb_1-emb_2))\n",
    "        sigma += (target_dis-embdis)*(target_dis-embdis)\n",
    "        ave_d += target_dis\n",
    "    return [sigma, ave_d]\n",
    "\n",
    "def distortion_mp(G, embedding, subset, alg, variant):\n",
    "    input_set = list(range(len(subset)))\n",
    "    sigma = 0\n",
    "    ave_d = 0\n",
    "    pool_size = mp.cpu_count() * 2\n",
    "    print(\"Pool size: {}\".format(pool_size))\n",
    "    pool = mp.Pool(processes=pool_size)\n",
    "    pool_outputs = pool.map(meta_distortion, input_set)\n",
    "    pool.close()\n",
    "    pool.join()\n",
    "    # Sum the result of metacalculation\n",
    "    pool_outputs = np.array(pool_outputs)\n",
    "    #print(pool_outputs)\n",
    "    sigma, ave_d = np.sum(pool_outputs, 0)\n",
    "    base = float(S)*float(S-1)/2\n",
    "    sigma = math.sqrt(float(sigma)/base)\n",
    "    ave_d = float(ave_d)/base\n",
    "    return float(sigma)/ave_d"
   ]
  },
  {
   "cell_type": "markdown",
   "metadata": {},
   "source": [
    "## Test the distortion of embedding average"
   ]
  },
  {
   "cell_type": "code",
   "execution_count": 4,
   "metadata": {},
   "outputs": [
    {
     "name": "stdout",
     "output_type": "stream",
     "text": [
      "Density: 0.0069019019019019015\n",
      "#########Test for K:19\n",
      "Pool size: 8\n",
      "0.2202064340887044\n",
      "#########Test for K:20\n",
      "Pool size: 8\n",
      "0.20749105403158655\n",
      "#########Test for K:21\n",
      "Pool size: 8\n",
      "0.19642854480789146\n",
      "#########Test for K:22\n",
      "Pool size: 8\n",
      "0.2129305606489461\n",
      "#########Test for K:23\n",
      "Pool size: 8\n",
      "0.20341642589268447\n",
      "#########Test for K:24\n",
      "Pool size: 8\n",
      "0.2248562628593329\n",
      "#########Test for K:25\n",
      "Pool size: 8\n",
      "0.23608861992862284\n"
     ]
    }
   ],
   "source": [
    "n = 1000\n",
    "p = 0.007\n",
    "low = 1\n",
    "high = 2\n",
    "\n",
    "G, density = utils.generate_random_digraph(n, p, low, high)\n",
    "klist = [19, 20, 21, 22, 23, 24, 25]\n",
    "for K in klist:\n",
    "    print(\"#########Test for K:{}\".format(K))\n",
    "    epsilon = 0.01\n",
    "    alg = 'L2'\n",
    "    dis_store = init_dis_store(G)\n",
    "    embedding = difastmap_average(G, K, epsilon, dis_store, alg)\n",
    "    S = int(0.2*len(list(G.nodes())))\n",
    "    subset = sample(list(G.nodes()), S)\n",
    "    variant = 'average'\n",
    "    results = distortion_mp(G, embedding, subset, alg, variant)\n",
    "    print(results)"
   ]
  },
  {
   "cell_type": "code",
   "execution_count": 45,
   "metadata": {},
   "outputs": [
    {
     "name": "stdout",
     "output_type": "stream",
     "text": [
      "Density: 0.0070200200200200204\n",
      "#########Test for K:10\n",
      "Pool size: 8\n",
      "0.4453068303114654\n",
      "#########Test for K:12\n",
      "Pool size: 8\n",
      "0.3817044191213214\n",
      "#########Test for K:14\n",
      "Pool size: 8\n",
      "0.34044850664474335\n",
      "#########Test for K:16\n",
      "Pool size: 8\n",
      "0.2849624424541413\n",
      "#########Test for K:18\n",
      "Pool size: 8\n",
      "0.25099001635351403\n",
      "#########Test for K:20\n",
      "Pool size: 8\n",
      "0.20171427092952537\n",
      "#########Test for K:22\n",
      "Pool size: 8\n",
      "0.21327058952820044\n"
     ]
    }
   ],
   "source": [
    "n = 1000\n",
    "p = 0.007\n",
    "low = 1\n",
    "high = 5\n",
    "\n",
    "G, density = utils.generate_random_digraph(n, p, low, high)\n",
    "klist = [10, 12, 14, 16, 18, 20, 22]\n",
    "for K in klist:\n",
    "    print(\"#########Test for K:{}\".format(K))\n",
    "    epsilon = 0.01\n",
    "    alg = 'L2'\n",
    "    dis_store = init_dis_store(G)\n",
    "    embedding = difastmap_average(G, K, epsilon, dis_store, alg)\n",
    "    S = int(0.2*len(list(G.nodes())))\n",
    "    subset = sample(list(G.nodes()), S)\n",
    "    variant = 'average'\n",
    "    results = distortion_mp(G, embedding, subset, alg, variant)\n",
    "    print(results)"
   ]
  },
  {
   "cell_type": "code",
   "execution_count": 46,
   "metadata": {},
   "outputs": [
    {
     "name": "stdout",
     "output_type": "stream",
     "text": [
      "#########Test for K:19\n",
      "Pool size: 8\n",
      "0.22867770751374075\n",
      "#########Test for K:20\n",
      "Pool size: 8\n",
      "0.21033163461735888\n",
      "#########Test for K:21\n",
      "Pool size: 8\n",
      "0.19990389477833195\n",
      "#########Test for K:22\n",
      "Pool size: 8\n",
      "0.2005522666051018\n",
      "#########Test for K:23\n",
      "Pool size: 8\n",
      "0.20056564308082037\n",
      "#########Test for K:24\n",
      "Pool size: 8\n",
      "0.19826787435258827\n",
      "#########Test for K:25\n",
      "Pool size: 8\n",
      "0.2500452304461503\n"
     ]
    }
   ],
   "source": [
    "klist = [19, 20, 21, 22, 23, 24, 25]\n",
    "for K in klist:\n",
    "    print(\"#########Test for K:{}\".format(K))\n",
    "    epsilon = 0.01\n",
    "    alg = 'L2'\n",
    "    dis_store = init_dis_store(G)\n",
    "    embedding = difastmap_average(G, K, epsilon, dis_store, alg)\n",
    "    S = int(0.2*len(list(G.nodes())))\n",
    "    subset = sample(list(G.nodes()), S)\n",
    "    variant = 'average'\n",
    "    results = distortion_mp(G, embedding, subset, alg, variant)\n",
    "    print(results)"
   ]
  },
  {
   "cell_type": "markdown",
   "metadata": {},
   "source": [
    "## Test the distortion of embedding max"
   ]
  },
  {
   "cell_type": "code",
   "execution_count": 47,
   "metadata": {},
   "outputs": [
    {
     "name": "stdout",
     "output_type": "stream",
     "text": [
      "Density: 0.007095095095095095\n",
      "#########Test for K:18\n",
      "Pool size: 8\n",
      "0.2132179935999332\n",
      "#########Test for K:19\n",
      "Pool size: 8\n",
      "0.21660451689341007\n",
      "#########Test for K:20\n",
      "Pool size: 8\n",
      "0.24534009469223403\n",
      "#########Test for K:21\n",
      "Pool size: 8\n",
      "0.21983746760684056\n",
      "#########Test for K:22\n",
      "Pool size: 8\n",
      "0.23130715048749972\n",
      "#########Test for K:23\n",
      "Pool size: 8\n",
      "0.22095621291054285\n",
      "#########Test for K:24\n",
      "Pool size: 8\n",
      "0.2872038869779284\n",
      "#########Test for K:25\n",
      "Pool size: 8\n",
      "0.25229110334781424\n",
      "#########Test for K:26\n",
      "Pool size: 8\n",
      "0.282712573600935\n"
     ]
    }
   ],
   "source": [
    "G, density = utils.generate_random_digraph(n, p, low, high)\n",
    "klist = [18, 19, 20, 21, 22, 23, 24, 25, 26]\n",
    "for K in klist:\n",
    "    print(\"#########Test for K:{}\".format(K))\n",
    "    epsilon = 0.01\n",
    "    alg = 'L2'\n",
    "    dis_store = init_dis_store(G)\n",
    "    embedding = difastmap_max(G, K, epsilon, dis_store, alg)\n",
    "    S = int(0.2*len(list(G.nodes())))\n",
    "    subset = sample(list(G.nodes()), S)\n",
    "    variant = 'max'\n",
    "    results = distortion_mp(G, embedding, subset, alg, variant)\n",
    "    print(results)"
   ]
  },
  {
   "cell_type": "markdown",
   "metadata": {},
   "source": [
    "## Test the distortion of embedding differential"
   ]
  },
  {
   "cell_type": "code",
   "execution_count": 48,
   "metadata": {},
   "outputs": [
    {
     "name": "stdout",
     "output_type": "stream",
     "text": [
      "Density: 0.006922922922922923\n",
      "#########Test for K:14\n",
      "Pool size: 8\n",
      "1.35125304136348\n",
      "#########Test for K:16\n",
      "Pool size: 8\n",
      "1.6144205233412579\n",
      "#########Test for K:18\n",
      "Pool size: 8\n",
      "1.5918753538062318\n",
      "#########Test for K:19\n",
      "Pool size: 8\n",
      "1.6291273386038074\n",
      "#########Test for K:20\n",
      "Pool size: 8\n",
      "1.980885084090733\n",
      "#########Test for K:21\n",
      "Pool size: 8\n",
      "1.730777120108588\n",
      "#########Test for K:22\n",
      "Pool size: 8\n",
      "2.0347963736027084\n",
      "#########Test for K:23\n",
      "Pool size: 8\n",
      "1.7741812470586118\n",
      "#########Test for K:25\n",
      "Pool size: 8\n",
      "2.0255471680055397\n"
     ]
    }
   ],
   "source": [
    "G, density = utils.generate_random_digraph(n, p, low, high)\n",
    "klist = [14, 16, 18, 19, 20, 21, 22, 23, 25]\n",
    "for K in klist:\n",
    "    print(\"#########Test for K:{}\".format(K))\n",
    "    epsilon = 0.01\n",
    "    alg = 'L2'\n",
    "    dis_store = init_dis_store(G)\n",
    "    embedding = difastmap_diff(G, K, epsilon, dis_store, alg)\n",
    "    S = int(0.2*len(list(G.nodes())))\n",
    "    subset = sample(list(G.nodes()), S)\n",
    "    variant = 'diff'\n",
    "    results = distortion_mp(G, embedding, subset, alg, variant)\n",
    "    print(results)"
   ]
  },
  {
   "cell_type": "markdown",
   "metadata": {},
   "source": [
    "## Test the distortion of embedding min"
   ]
  },
  {
   "cell_type": "code",
   "execution_count": 49,
   "metadata": {},
   "outputs": [],
   "source": [
    "def meta_distortion_min(i):\n",
    "    global G, embedding_aver, embedding_max, subset, alg\n",
    "    node_1=subset[i]\n",
    "    emb_aver_1 = np.array(embedding_aver[node_1])\n",
    "    emb_max_1 = np.array(embedding_max[node_1])\n",
    "    length = nx.single_source_dijkstra_path_length(G, node_1)\n",
    "    sigma = 0\n",
    "    ave_d = 0\n",
    "    for j in range(i+1, len(subset)):\n",
    "        node_2 = subset[j]\n",
    "        emb_aver_2 = np.array(embedding_aver[node_2])\n",
    "        emb_max_2 = np.array(embedding_max[node_2])\n",
    "        distance = length[node_2]\n",
    "        distance_reverse = nx.dijkstra_path_length(G, node_2, node_1)\n",
    "        target_dis = max(float(distance), float(distance_reverse))\n",
    "        if alg == 'L1':\n",
    "            embdis_aver = np.sum(np.abs(emb_aver_1-emb_aver_2))\n",
    "            embdis_max = np.sum(np.abs(emb_max_1-emb_max_2))\n",
    "        elif alg == 'L2':\n",
    "            embdis_aver = math.sqrt(np.dot(emb_aver_1-emb_aver_2, emb_aver_1-emb_aver_2))\n",
    "            embdis_max = math.sqrt(np.dot(emb_max_1-emb_max_2, emb_max_1-emb_max_2))\n",
    "        embdis = 2.0*embdis_aver - embdis_max\n",
    "        sigma += (target_dis-embdis)*(target_dis-embdis)\n",
    "        ave_d += target_dis\n",
    "    return [sigma, ave_d]\n",
    "\n",
    "def distortion_min_mp(G, embedding_aver, embedding_max, subset, alg):\n",
    "    input_set = list(range(len(subset)))\n",
    "    sigma = 0\n",
    "    ave_d = 0\n",
    "    pool_size = mp.cpu_count() * 2\n",
    "    print(\"Pool size: {}\".format(pool_size))\n",
    "    pool = mp.Pool(processes=pool_size)\n",
    "    pool_outputs = pool.map(meta_distortion_min, input_set)\n",
    "    pool.close()\n",
    "    pool.join()\n",
    "    # Sum the result of metacalculation\n",
    "    pool_outputs = np.array(pool_outputs)\n",
    "    #print(pool_outputs)\n",
    "    sigma, ave_d = np.sum(pool_outputs, 0)\n",
    "    base = float(S)*float(S-1)/2\n",
    "    sigma = math.sqrt(float(sigma)/base)\n",
    "    ave_d = float(ave_d)/base\n",
    "    return float(sigma)/ave_d"
   ]
  },
  {
   "cell_type": "code",
   "execution_count": 50,
   "metadata": {},
   "outputs": [
    {
     "name": "stdout",
     "output_type": "stream",
     "text": [
      "Density: 0.006940940940940941\n",
      "#########Test for K:14\n",
      "Pool size: 8\n",
      "0.639694592920047\n",
      "#########Test for K:16\n",
      "Pool size: 8\n",
      "0.6158658062975496\n",
      "#########Test for K:18\n",
      "Pool size: 8\n",
      "0.5390803710052268\n",
      "#########Test for K:19\n",
      "Pool size: 8\n",
      "0.5619544752707704\n",
      "#########Test for K:20\n",
      "Pool size: 8\n",
      "0.5183878401988282\n",
      "#########Test for K:21\n",
      "Pool size: 8\n",
      "0.5142249046119927\n",
      "#########Test for K:22\n",
      "Pool size: 8\n",
      "0.5714334528773286\n",
      "#########Test for K:23\n",
      "Pool size: 8\n",
      "0.4726132886512551\n",
      "#########Test for K:25\n",
      "Pool size: 8\n",
      "0.5445737740329073\n"
     ]
    }
   ],
   "source": [
    "G, density = utils.generate_random_digraph(n, p, low, high)\n",
    "klist = [14, 16, 18, 19, 20, 21, 22, 23, 25]\n",
    "for K in klist:\n",
    "    print(\"#########Test for K:{}\".format(K))\n",
    "    epsilon = 0.01\n",
    "    alg = 'L2'\n",
    "    dis_store = init_dis_store(G)\n",
    "    embedding_aver = difastmap_average(G, K, epsilon, dis_store, alg)\n",
    "    embedding_max = difastmap_max(G, K, epsilon, dis_store, alg)\n",
    "    S = int(0.2*len(list(G.nodes())))\n",
    "    subset = sample(list(G.nodes()), S)\n",
    "    results = distortion_min_mp(G, embedding_aver, embedding_max, subset, alg)\n",
    "    print(results)"
   ]
  },
  {
   "cell_type": "code",
   "execution_count": 51,
   "metadata": {},
   "outputs": [
    {
     "name": "stdout",
     "output_type": "stream",
     "text": [
      "Density: 0.007028028028028028\n",
      "#########Test for K:19\n",
      "Pool size: 8\n",
      "0.4494126994450494\n",
      "#########Test for K:20\n",
      "Pool size: 8\n",
      "0.48703758977454814\n",
      "#########Test for K:21\n",
      "Pool size: 8\n",
      "0.5265698530666036\n",
      "#########Test for K:22\n",
      "Pool size: 8\n",
      "0.5728926599538232\n"
     ]
    }
   ],
   "source": [
    "G, density = utils.generate_random_digraph(n, p, low, high)\n",
    "klist = [19, 20, 21, 22]\n",
    "for K in klist:\n",
    "    print(\"#########Test for K:{}\".format(K))\n",
    "    epsilon = 0.01\n",
    "    alg = 'L2'\n",
    "    dis_store = init_dis_store(G)\n",
    "    embedding_aver = difastmap_average(G, 21, epsilon, dis_store, alg)\n",
    "    embedding_max = difastmap_max(G, K, epsilon, dis_store, alg)\n",
    "    S = int(0.2*len(list(G.nodes())))\n",
    "    subset = sample(list(G.nodes()), S)\n",
    "    results = distortion_min_mp(G, embedding_aver, embedding_max, subset, alg)\n",
    "    print(results)"
   ]
  },
  {
   "cell_type": "markdown",
   "metadata": {},
   "source": [
    "## Test the distortion of differential heuristic"
   ]
  },
  {
   "cell_type": "code",
   "execution_count": 29,
   "metadata": {},
   "outputs": [],
   "source": [
    "def edgebound(pivots, pivots_dis_i, pivots_dis_j):\n",
    "    upper_ij = float('inf')\n",
    "    lower_ij = 0    \n",
    "    for p in pivots:\n",
    "        dip = pivots_dis_i[p]\n",
    "        dpj = pivots_dis_j['-'+str(p)]\n",
    "        djp = pivots_dis_j[p]\n",
    "        dpi = pivots_dis_i['-'+str(p)]\n",
    "        temp_upper_ij = dip + dpj\n",
    "        if temp_upper_ij < upper_ij:\n",
    "            upper_ij = temp_upper_ij\n",
    "        if dip > djp:\n",
    "            temp_ij = dip - djp\n",
    "            if temp_ij > lower_ij:\n",
    "                lower_ij = temp_ij\n",
    "        if dpj > dpi:\n",
    "            temp_ij = dpj - dpi\n",
    "            if temp_ij > lower_ij:\n",
    "                lower_ij = temp_ij\n",
    "    return lower_ij, upper_ij\n",
    "\n",
    "def meta_distortion_dh(i):\n",
    "    global G, dis_store, subset, pick\n",
    "    node_1=subset[i]\n",
    "    emb_1 = np.array(embedding[node_1])\n",
    "    length = nx.single_source_dijkstra_path_length(G, node_1)\n",
    "    sigma = 0\n",
    "    ave_d = 0\n",
    "    for j in range(i+1, len(subset)):\n",
    "        node_2 = subset[j]\n",
    "        emb_2 = np.array(embedding[node_2])\n",
    "        distance = length[node_2]\n",
    "        target_dis = distance\n",
    "        lower, upper = edgebound(dis_store['pivots'], dis_store[node_1], dis_store[node_2])\n",
    "        if pick == 'upper':\n",
    "            embdis = upper\n",
    "        elif pick == 'lower':\n",
    "            embdis = lower\n",
    "        elif pick == 'median':\n",
    "            embdis = (float(upper)+float(lower))/2\n",
    "        sigma += (target_dis-embdis)*(target_dis-embdis)\n",
    "        ave_d += target_dis\n",
    "    return [sigma, ave_d]\n",
    "\n",
    "def distortion_dh_mp(G, dis_store, subset, pick='upper'):\n",
    "    input_set = list(range(len(subset)))\n",
    "    sigma = 0\n",
    "    ave_d = 0\n",
    "    pool_size = mp.cpu_count() * 2\n",
    "    print(\"Pool size: {}\".format(pool_size))\n",
    "    pool = mp.Pool(processes=pool_size)\n",
    "    pool_outputs = pool.map(meta_distortion_dh, input_set)\n",
    "    pool.close()\n",
    "    pool.join()\n",
    "    # Sum the result of metacalculation\n",
    "    pool_outputs = np.array(pool_outputs)\n",
    "    #print(pool_outputs)\n",
    "    sigma, ave_d = np.sum(pool_outputs, 0)\n",
    "    base = float(S)*float(S-1)/2\n",
    "    sigma = math.sqrt(float(sigma)/base)\n",
    "    ave_d = float(ave_d)/base\n",
    "    return float(sigma)/ave_d"
   ]
  },
  {
   "cell_type": "code",
   "execution_count": 36,
   "metadata": {},
   "outputs": [
    {
     "name": "stdout",
     "output_type": "stream",
     "text": [
      "Density: 0.007002002002002002\n",
      "#########Test for differential heuristic:upper\n",
      "Pool size: 8\n",
      "0.620746431052631\n",
      "#########Test for differential heuristic:lower\n",
      "Pool size: 8\n",
      "0.34528176523682996\n",
      "#########Test for differential heuristic:median\n",
      "Pool size: 8\n",
      "0.24978179634395437\n"
     ]
    }
   ],
   "source": [
    "K = 20\n",
    "G, density = utils.generate_random_digraph(n, p, low, high)\n",
    "picklist = ['upper', 'lower', 'median']\n",
    "for pick in picklist:\n",
    "    print(\"#########Test for differential heuristic:{}\".format(pick))\n",
    "    epsilon = 0.01\n",
    "    alg = 'L2'\n",
    "    dis_store = init_dis_store(G)\n",
    "    embedding = difastmap_max(G, K, epsilon, dis_store, alg)\n",
    "    S = int(0.2*len(list(G.nodes())))\n",
    "    subset = sample(list(G.nodes()), S)\n",
    "    results = distortion_dh_mp(G, dis_store, subset, pick)\n",
    "    print(results)"
   ]
  },
  {
   "cell_type": "markdown",
   "metadata": {},
   "source": [
    "## Result of experiments"
   ]
  },
  {
   "cell_type": "markdown",
   "metadata": {},
   "source": [
    "1. Just think about the approximation of `max` and `average`, we can have a fairly good performance.\n",
    "\n",
    "2. See the differential heuristic algorithm, we can see choosing the average has the best performance, and for the other two, the performance is not that good.\n",
    "\n",
    "3. But our approximation of `min` which is a combination of `max` and `average` is not that good.\n",
    "\n",
    "4. So now we can think we can use some strategies to comine them together to get a fine-tuned value to gain better performance, which is promissing. \n",
    "\n",
    "5. However, if we want to just use the prediction of comparison and choose the approximation value purely, the results will be very bad. \n",
    "\n",
    "Conclusion, there are two upcoming work:\n",
    "\n",
    "1. More specific stretage to get better combination improvement.\n",
    "    - We can try to analysis the distribution of the situation of comaprison, which can help doing some analysis.\n",
    "2. Different directed graph.\n",
    "    - It's sure that for directed graphs with different sturcture, the distribution will be very different, and this has something to do with the FastMap algorithms' theory analysis."
   ]
  },
  {
   "cell_type": "markdown",
   "metadata": {},
   "source": [
    "## Fine-tune the approximation of distances."
   ]
  },
  {
   "cell_type": "code",
   "execution_count": 18,
   "metadata": {},
   "outputs": [],
   "source": [
    "def edgebound(pivots, pivots_dis_i, pivots_dis_j):\n",
    "    upper_ij = float('inf')\n",
    "    lower_ij = 0    \n",
    "    for p in pivots:\n",
    "        dip = pivots_dis_i[p]\n",
    "        dpj = pivots_dis_j['-'+str(p)]\n",
    "        djp = pivots_dis_j[p]\n",
    "        dpi = pivots_dis_i['-'+str(p)]\n",
    "        temp_upper_ij = dip + dpj\n",
    "        if temp_upper_ij < upper_ij:\n",
    "            upper_ij = temp_upper_ij\n",
    "        if dip > djp:\n",
    "            temp_ij = dip - djp\n",
    "            if temp_ij > lower_ij:\n",
    "                lower_ij = temp_ij\n",
    "        if dpj > dpi:\n",
    "            temp_ij = dpj - dpi\n",
    "            if temp_ij > lower_ij:\n",
    "                lower_ij = temp_ij\n",
    "    return lower_ij, upper_ij\n",
    "\n",
    "def compare(pivots, pivots_dis_i, pivots_dis_j, disaver, dismax, realdis):\n",
    "    lower, upper = edgebound(pivots, pivots_dis_i, pivots_dis_j)\n",
    "    median = (float(lower)+float(upper))/2\n",
    "    dismin = 2.0*disaver - dismax\n",
    "    if dismin < 0:\n",
    "        dismin = 0\n",
    "    if upper <= dismin:\n",
    "        state = 1\n",
    "        distune = upper\n",
    "        substate = 1 + np.argmin(np.abs(np.array([lower, median, upper])-realdis))\n",
    "    elif upper > dismin and upper <= disaver and lower <=dismin:\n",
    "        state = 2\n",
    "        distune = dismin\n",
    "        substate = 4 + np.argmin(np.abs(np.array([lower, dismin, median, upper])-realdis))\n",
    "    elif upper > disaver and upper <= dismax and lower <=dismin: # spe\n",
    "        state = 3\n",
    "        distune = median\n",
    "        substate = 8 + np.argmin(np.abs(np.array([lower, dismin, median, disaver, upper])-realdis))\n",
    "    elif upper > dismax and lower <=dismin: # spe\n",
    "        state = 4\n",
    "        distune = disaver\n",
    "        substate = 13 + np.argmin(np.abs(np.array([lower, dismin, median, disaver, dismax, upper])-realdis))\n",
    "    elif upper <= disaver and lower > dismin:\n",
    "        state = 5\n",
    "        distune = lower\n",
    "        substate = 19 + np.argmin(np.abs(np.array([lower, median, upper])-realdis))\n",
    "    elif upper > disaver and upper <= dismax and lower <= disaver and lower > dismin:\n",
    "        state = 6\n",
    "        distune = disaver\n",
    "        substate = 22 + np.argmin(np.abs(np.array([lower, median, disaver, upper])-realdis))\n",
    "    elif upper > dismax and lower <= disaver and lower > dismin: #spe\n",
    "        state = 7\n",
    "        distune = dismax\n",
    "        substate = 26 + np.argmin(np.abs(np.array([lower, disaver, median, dismax, upper])-realdis))\n",
    "    elif upper <= dismax and lower > disaver:\n",
    "        state = 8\n",
    "        distune = upper\n",
    "        substate = 31 + np.argmin(np.abs(np.array([lower, median, upper])-realdis))\n",
    "    elif upper > dismax and lower <= dismax:\n",
    "        state = 9\n",
    "        distune = dismax\n",
    "        substate = 34 + np.argmin(np.abs(np.array([lower, median, dismax, upper])-realdis))\n",
    "    elif lower > dismax:\n",
    "        state = 10\n",
    "        distune = lower\n",
    "        substate = 38 + np.argmin(np.abs(np.array([lower, median, upper])-realdis))\n",
    "    else:\n",
    "        state = 0\n",
    "        distune = disaver\n",
    "    return state, distune, substate\n",
    "\n",
    "def meta_fastmap_dh(i):\n",
    "    global G, embedding_aver, embedding_max, subset, alg\n",
    "    node_1=subset[i]\n",
    "    emb_aver_1 = np.array(embedding_aver[node_1])\n",
    "    emb_max_1 = np.array(embedding_max[node_1])\n",
    "    length = nx.single_source_dijkstra_path_length(G, node_1)\n",
    "    sigma = 0\n",
    "    ave_d = 0\n",
    "    compare_state = []\n",
    "    for t in range(11):\n",
    "        compare_state.append(0)\n",
    "    compare_substate = []\n",
    "    for t in range(41):\n",
    "        compare_substate.append(0)\n",
    "    for j in range(len(subset)):\n",
    "        if i == j:\n",
    "            continue\n",
    "        node_2 = subset[j]\n",
    "        emb_aver_2 = np.array(embedding_aver[node_2])\n",
    "        emb_max_2 = np.array(embedding_max[node_2])\n",
    "        distance = length[node_2]\n",
    "        target_dis = distance\n",
    "        if alg == 'L1':\n",
    "            embdis_aver = np.sum(np.abs(emb_aver_1-emb_aver_2))\n",
    "            embdis_max = np.sum(np.abs(emb_max_1-emb_max_2))\n",
    "        elif alg == 'L2':\n",
    "            embdis_aver = math.sqrt(np.dot(emb_aver_1-emb_aver_2, emb_aver_1-emb_aver_2))\n",
    "            embdis_max = math.sqrt(np.dot(emb_max_1-emb_max_2, emb_max_1-emb_max_2))\n",
    "        state, tunedis, substate = compare(dis_store['pivots'], dis_store[node_1], dis_store[node_2], embdis_aver, embdis_max, target_dis)\n",
    "        compare_state[state] += 1\n",
    "        compare_substate[substate] += 1 \n",
    "        sigma += (target_dis-tunedis)*(target_dis-tunedis)\n",
    "        ave_d += target_dis\n",
    "    output = list([sigma, ave_d])\n",
    "    for n in compare_state:\n",
    "        output.append(n)\n",
    "    for n in compare_substate:\n",
    "        output.append(n)\n",
    "    return output\n",
    "\n",
    "def draw_distribution(states, xl, yl, title):\n",
    "    s = sum(states)\n",
    "    x = list(range(len(states)))\n",
    "    y = []\n",
    "    for i in range(len(states)):\n",
    "        y.append(float(states[i])/s)\n",
    "    plt.plot(x,y,'r-o', linewidth=1)\n",
    "    plt.xlabel(xl)\n",
    "    plt.ylabel(yl)\n",
    "    plt.title(title)\n",
    "    plt.show()\n",
    "    \n",
    "def fastmap_dh_distribution_mp(G, embedding_aver, embedding_max, subset, alg):\n",
    "    input_set = list(range(len(subset)))\n",
    "    sigma = 0\n",
    "    ave_d = 0\n",
    "    pool_size = mp.cpu_count() * 2\n",
    "    print(\"Pool size: {}\".format(pool_size))\n",
    "    pool = mp.Pool(processes=pool_size)\n",
    "    pool_outputs = pool.map(meta_fastmap_dh, input_set)\n",
    "    pool.close()\n",
    "    pool.join()\n",
    "    # Sum the result of metacalculation\n",
    "    pool_outputs = np.array(pool_outputs)\n",
    "    #print(pool_outputs)\n",
    "    resultsum = np.sum(pool_outputs, 0)\n",
    "    sigma, ave_d = resultsum[:2]\n",
    "    states = resultsum[2:13]\n",
    "    substates = resultsum[13:]\n",
    "    xlabel = 'states'\n",
    "    ylabel = 'count (persents)'\n",
    "    title = 'Distribution of DH and FastMap result'\n",
    "    s = sum(states)\n",
    "    x = list(range(len(states)))\n",
    "    y = []\n",
    "    for i in range(len(states)):\n",
    "        y.append(float(states[i])/s)\n",
    "    s_sub = sum(substates)\n",
    "    x_sub =[0,\n",
    "            0.75, 1, 1.25,\n",
    "            1.7, 1.9, 2.1, 2.3,\n",
    "            2.6, 2.8, 3, 3.2, 3.4,\n",
    "            3.5, 3.7, 3.9, 4.1, 4.3, 4.5,\n",
    "            4.75, 5, 5.25,\n",
    "            5.7, 5.9, 6.1, 6.3,\n",
    "            6.6, 6.8, 7, 7.2, 7.4,\n",
    "            7.75, 8, 8.25,\n",
    "            8.7, 8.9, 9.1, 9.3,\n",
    "            9.75, 10, 10.25]\n",
    "    y_sub = []\n",
    "    for i in range(len(substates)):\n",
    "        y_sub.append(float(substates[i])/s_sub)\n",
    "    plt.plot(x,y,'r-o', linewidth=1)\n",
    "    plt.plot(x_sub, y_sub, 'g-*')\n",
    "    plt.xlabel(xlabel)\n",
    "    plt.ylabel(ylabel)\n",
    "    plt.title(title)\n",
    "    plt.show()\n",
    "    \n",
    "    plt.figure(1)\n",
    "    adjlist = [3,4,5,6,3,4,5,3,4,3]\n",
    "    for i in range(1,11):\n",
    "        tempx = [i-1, i, i+1]\n",
    "        tempy = [0, y[i], 0]\n",
    "        tempxsub = x_sub[sum(adjlist[:i-1])+1:sum(adjlist[:i])+1]\n",
    "        tempysub = y_sub[sum(adjlist[:i-1])+1:sum(adjlist[:i])+1]\n",
    "        plt.subplot(4, 3, i)\n",
    "        plt.plot(tempx,tempy,'r-o', linewidth=1)\n",
    "        plt.plot(tempxsub, tempysub, 'g-*')\n",
    "    plt.show()\n",
    "    \n",
    "    upper_states = [0,0,0,0]\n",
    "    upper_states[0] += states[1]\n",
    "    upper_states[1] += states[2] + states[5]\n",
    "    upper_states[2] += states[3] + states[6] + states[8]\n",
    "    upper_states[3] += states[4] + states[7] + states[9] + states[10]\n",
    "    title = 'Upper Distribution of DH and FastMap result'\n",
    "    draw_distribution(upper_states, xlabel, ylabel, title)\n",
    "    \n",
    "    lower_states = [0,0,0,0]\n",
    "    lower_states[0] += states[1] + states[2] + states[3] + states[4]\n",
    "    lower_states[1] += states[5] + states[6] + states[7]\n",
    "    lower_states[2] += states[8] + states[9]\n",
    "    lower_states[3] += states[10]\n",
    "    title = 'Lower Distribution of DH and FastMap result'\n",
    "    draw_distribution(lower_states, xlabel, ylabel, title) \n",
    "    \n",
    "    base = float(S)*float(S-1)\n",
    "    sigma = math.sqrt(float(sigma)/base)\n",
    "    ave_d = float(ave_d)/base\n",
    "    return float(sigma)/ave_d"
   ]
  },
  {
   "cell_type": "code",
   "execution_count": 19,
   "metadata": {},
   "outputs": [
    {
     "name": "stdout",
     "output_type": "stream",
     "text": [
      "Density: 0.007133133133133133\n"
     ]
    },
    {
     "data": {
      "image/png": "[encoded data removed]",
      "text/plain": [
       "<matplotlib.figure.Figure at 0x15144834a8>"
      ]
     },
     "metadata": {},
     "output_type": "display_data"
    }
   ],
   "source": [
    "n = 1000\n",
    "p = 0.007\n",
    "low = 1\n",
    "high = 5\n",
    "\n",
    "G, density = utils.generate_random_digraph(n, p, low, high)\n",
    "utils.distance_info(G)"
   ]
  },
  {
   "cell_type": "code",
   "execution_count": 20,
   "metadata": {},
   "outputs": [
    {
     "name": "stdout",
     "output_type": "stream",
     "text": [
      "Pool size: 8\n"
     ]
    },
    {
     "data": {
      "image/png": "[encoded data removed]",
      "text/plain": [
       "<matplotlib.figure.Figure at 0x15143924a8>"
      ]
     },
     "metadata": {},
     "output_type": "display_data"
    },
    {
     "data": {
      "image/png": "[encoded data removed]",
      "text/plain": [
       "<matplotlib.figure.Figure at 0x151423f6d8>"
      ]
     },
     "metadata": {},
     "output_type": "display_data"
    },
    {
     "data": {
      "image/png": "[encoded data removed]",
      "text/plain": [
       "<matplotlib.figure.Figure at 0x15142bbc50>"
      ]
     },
     "metadata": {},
     "output_type": "display_data"
    },
    {
     "data": {
      "image/png": "[encoded data removed]",
      "text/plain": [
       "<matplotlib.figure.Figure at 0x1514552668>"
      ]
     },
     "metadata": {},
     "output_type": "display_data"
    },
    {
     "name": "stdout",
     "output_type": "stream",
     "text": [
      "0.22936439546683202\n"
     ]
    }
   ],
   "source": [
    "epsilon = 0.01\n",
    "alg = 'L2'\n",
    "dis_store = init_dis_store(G)\n",
    "embedding_aver = difastmap_average(G, 21, epsilon, dis_store, alg)\n",
    "embedding_max = difastmap_max(G, 19, epsilon, dis_store, alg)\n",
    "S = int(800)\n",
    "subset = sample(list(G.nodes()), S)\n",
    "results = fastmap_dh_distribution_mp(G, embedding_aver, embedding_max, subset, alg)\n",
    "print(results)\n"
   ]
  },
  {
   "cell_type": "markdown",
   "metadata": {},
   "source": [
    "### Some analysis\n",
    "\n",
    "1. The improvements of precision is very tiny. (about 3%)\n",
    "2. Upper tender to be higher than dismax (from abover image 3)\n",
    "3. Lower tender to be lower than disaver (from abover image 4)\n",
    "\n",
    "The inner situation of every states: analysis from abover image 1 and 2\n",
    "\n",
    "Here the considerations are:\n",
    "\n",
    "- The distribution of those states\n",
    "- Inside every state, which point is clostest to the real distance?\n",
    "\n",
    "Blew are the summary on random graph:\n",
    "\n",
    "1. **10% upper < dismin**: Upper $$dis_{real} \\to lower$$\n",
    "2. 0.25% lower < dismin < upper < disaver: Dismin $$dis_{real} \\to upper$$ \n",
    "3. 1% lower < dismin < disaver < upper < dismax:  Median $$dis_{real}$$ \n",
    "4. **46% lower < dismin < dismax < upper**: Disaver $$dis_{real}$$\n",
    "5. 2.5% dismin < lower < upper < disaver: Lower $$dis_{real} \\to lower$$\n",
    "6. 2.5% dismin < lower < disaver < upper < dismax: Disaver $$dis_{real}$$\n",
    "7. **16% dismin < lower < disaver < dismax < upper**: Dismax $$dis_{real} \\to median$$\n",
    "8. 4% disaver < lower < upper < dismax: Upper $$dis_{real} \\to lower$$\n",
    "9. **12% disaver < lower < dismax < upper**: Dismax $$dis_{real} \\to lower$$\n",
    "10. 8% dismax < lower: Lower $$dis_{real} \\to lower$$"
   ]
  },
  {
   "cell_type": "markdown",
   "metadata": {},
   "source": [
    "**Later plan**\n",
    "\n",
    "1. Try to analysis different graphs, especially the real map.\n",
    "2. Then try to figure out the relationship between structure of network and the performance of FastMap.\n",
    "3. Try to think about the idea of embedding general graph problem into the Euclidean space."
   ]
  },
  {
   "cell_type": "code",
   "execution_count": null,
   "metadata": {},
   "outputs": [],
   "source": []
  }
 ],
 "metadata": {
  "kernelspec": {
   "display_name": "Python 3",
   "language": "python",
   "name": "python3"
  },
  "language_info": {
   "codemirror_mode": {
    "name": "ipython",
    "version": 3
   },
   "file_extension": ".py",
   "mimetype": "text/x-python",
   "name": "python",
   "nbconvert_exporter": "python",
   "pygments_lexer": "ipython3",
   "version": "3.6.4"
  }
 },
 "nbformat": 4,
 "nbformat_minor": 2
}
