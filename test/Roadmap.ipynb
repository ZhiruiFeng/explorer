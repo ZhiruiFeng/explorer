{
 "cells": [
  {
   "cell_type": "markdown",
   "metadata": {},
   "source": [
    "# Roadmap -- Distortion\n",
    "\n",
    "This is the real dataset test of [Experiment Distortion](https://github.com/ZhiruiFeng/explorer/blob/master/test/RandomGraph.ipynb).\n",
    "\n",
    "Here we have our dataset from [DIMACS](http://www.diag.uniroma1.it/challenge9/).\n",
    "\n",
    "Then we will analysis the distortion on this graph as what we have done on random graph."
   ]
  },
  {
   "cell_type": "code",
   "execution_count": 85,
   "metadata": {},
   "outputs": [
    {
     "name": "stdout",
     "output_type": "stream",
     "text": [
      "The autoreload extension is already loaded. To reload it, use:\n",
      "  %reload_ext autoreload\n"
     ]
    }
   ],
   "source": [
    "# Add libraries\n",
    "%load_ext autoreload\n",
    "%autoreload 2\n",
    "import os, sys\n",
    "lib_path = os.path.abspath(os.path.join('../'))\n",
    "sys.path.append(lib_path)\n",
    "\n",
    "import heuristic.fastmap.utils as utils\n",
    "from heuristic.fastmap.difastmap import init_dis_store, difastmap_average, difastmap_diff, difastmap_max \n",
    "import heuristic.fastmap.analyse as analyse\n",
    "\n",
    "import matplotlib.pyplot as plt\n",
    "import networkx as nx\n",
    "import random\n",
    "import multiprocessing as mp\n",
    "import numpy as np\n",
    "import math\n",
    "from random import sample"
   ]
  },
  {
   "cell_type": "markdown",
   "metadata": {},
   "source": [
    "**Load the graph**"
   ]
  },
  {
   "cell_type": "code",
   "execution_count": 86,
   "metadata": {},
   "outputs": [],
   "source": [
    "filepath = \"../data/roadmap/rome99.road\"\n",
    "\n",
    "def readDiGraph_type(infile):\n",
    "    G = nx.DiGraph()\n",
    "    with open(infile) as f:\n",
    "        l = f.readline()\n",
    "        while l:\n",
    "            if l[0] != 'a':\n",
    "                l = f.readline()\n",
    "                continue\n",
    "            items = l.strip().split()\n",
    "            if len(items) == 4:\n",
    "                node1, node2, weight = items[1:]\n",
    "            elif len(items) == 3:\n",
    "                node1, node2 = items[1:]\n",
    "                wight = 1.0\n",
    "            G.add_edge(node1, node2, weight=float(weight))\n",
    "            l = f.readline()\n",
    "    return G"
   ]
  },
  {
   "cell_type": "code",
   "execution_count": 87,
   "metadata": {},
   "outputs": [],
   "source": [
    "G = readDiGraph_type(filepath)"
   ]
  },
  {
   "cell_type": "code",
   "execution_count": 88,
   "metadata": {},
   "outputs": [
    {
     "name": "stdout",
     "output_type": "stream",
     "text": [
      "A strongly connected graph.\n",
      "3353\n",
      "8859\n",
      "0.0007882194337418775\n"
     ]
    }
   ],
   "source": [
    "utils.connectivity_info(G)\n",
    "countn = G.number_of_nodes()\n",
    "counte = G.number_of_edges()\n",
    "density = float(counte)/(countn * (countn-1))\n",
    "print(countn)\n",
    "print(counte)\n",
    "print(density)"
   ]
  },
  {
   "cell_type": "code",
   "execution_count": 89,
   "metadata": {},
   "outputs": [],
   "source": [
    "def get_dijkstra_path_length(G):\n",
    "    dijkstra_path_length = {}\n",
    "    for node in G.nodes:\n",
    "        dijkstra_path_length[node] = nx.single_source_dijkstra_path_length(G, node)\n",
    "    return dijkstra_path_length"
   ]
  },
  {
   "cell_type": "code",
   "execution_count": 90,
   "metadata": {},
   "outputs": [],
   "source": [
    "dijkstra_path_length = get_dijkstra_path_length(G)"
   ]
  },
  {
   "cell_type": "code",
   "execution_count": 91,
   "metadata": {},
   "outputs": [],
   "source": [
    "def thedistance_info(G):\n",
    "    dis = []\n",
    "    nodelist = list(G.nodes())\n",
    "    for i in range(G.number_of_nodes()):\n",
    "        length = dijkstra_path_length[nodelist[i]]\n",
    "        dis.extend(list(length.values()))\n",
    "    plt.hist(dis)\n",
    "    plt.xlabel('distance')\n",
    "    plt.ylabel('count (persents)')\n",
    "    plt.title('Statistic of pair distances')\n",
    "    plt.show()"
   ]
  },
  {
   "cell_type": "code",
   "execution_count": 92,
   "metadata": {},
   "outputs": [
    {
     "data": {
      "image/png": "[encoded data removed]",
      "text/plain": [
       "<matplotlib.figure.Figure at 0x1537b1b2b0>"
      ]
     },
     "metadata": {},
     "output_type": "display_data"
    }
   ],
   "source": [
    "thedistance_info(G)"
   ]
  },
  {
   "cell_type": "markdown",
   "metadata": {},
   "source": [
    "## Distortion of embedding average and max"
   ]
  },
  {
   "cell_type": "code",
   "execution_count": 93,
   "metadata": {},
   "outputs": [],
   "source": [
    "def meta_distortion_analyse(i):\n",
    "    global G, embedding, subset, alg, variant, threshold\n",
    "    node_1=subset[i]\n",
    "    emb_1 = np.array(embedding[node_1])\n",
    "    length = dijkstra_path_length[node_1]\n",
    "    sigma = 0\n",
    "    ave_d = 0\n",
    "    larger = 0\n",
    "    equal = 0\n",
    "    smaller = 0\n",
    "    for j in range(len(subset)):\n",
    "        if i == j:\n",
    "            continue\n",
    "        node_2 = subset[j]\n",
    "        emb_2 = np.array(embedding[node_2])\n",
    "        distance = length[node_2]\n",
    "        if variant == 'undirected':\n",
    "            target_dis = distance\n",
    "        elif variant == 'average':\n",
    "            distance_reverse = dijkstra_path_length[node_2][node_1]\n",
    "            target_dis = (float(distance) + float(distance_reverse))/2\n",
    "        elif variant == 'max':\n",
    "            distance_reverse = dijkstra_path_length[node_2][node_1]\n",
    "            target_dis = max(float(distance), float(distance_reverse))\n",
    "        elif variant == 'diff':\n",
    "            distance_reverse = dijkstra_path_length[node_2][node_1]\n",
    "            target_dis = abs(float(distance) - float(distance_reverse))/2\n",
    "        if alg == 'L1':\n",
    "            embdis = np.sum(np.abs(emb_1-emb_2))\n",
    "        elif alg == 'L2':\n",
    "            embdis = math.sqrt(np.dot(emb_1-emb_2, emb_1-emb_2))\n",
    "        if embdis > target_dis + threshold:\n",
    "            larger += 1\n",
    "        elif embdis < target_dis - threshold:\n",
    "            smaller += 1\n",
    "        else:\n",
    "            equal += 1\n",
    "        sigma += (target_dis-embdis)*(target_dis-embdis)\n",
    "        ave_d += target_dis\n",
    "    return [sigma, ave_d, larger, equal, smaller]\n",
    "\n",
    "def distortion_analyse_mp(G, embedding, subset, alg, variant, threshold):\n",
    "    input_set = list(range(len(subset)))\n",
    "    sigma = 0\n",
    "    ave_d = 0\n",
    "    larger = 0\n",
    "    equal = 0\n",
    "    smaller = 0\n",
    "    pool_size = mp.cpu_count() * 2\n",
    "    print(\"Pool size: {}\".format(pool_size))\n",
    "    pool = mp.Pool(processes=pool_size)\n",
    "    pool_outputs = pool.map(meta_distortion_analyse, input_set)\n",
    "    pool.close()\n",
    "    pool.join()\n",
    "    # Sum the result of metacalculation\n",
    "    pool_outputs = np.array(pool_outputs)\n",
    "    #print(pool_outputs)\n",
    "    sigma, ave_d, larger, equal, smaller = np.sum(pool_outputs, 0)\n",
    "    base = float(S)*float(S-1)\n",
    "    sigma = math.sqrt(float(sigma)/base)\n",
    "    ave_d = float(ave_d)/base\n",
    "\n",
    "    return float(sigma)/ave_d, larger, equal, smaller"
   ]
  },
  {
   "cell_type": "code",
   "execution_count": 94,
   "metadata": {},
   "outputs": [
    {
     "name": "stdout",
     "output_type": "stream",
     "text": [
      "#########Test for K:2\n",
      "Pool size: 8\n",
      "(0.1501690891837608, 538114.0, 37112.0, 3422774.0)\n",
      "#########Test for K:3\n",
      "Pool size: 8\n",
      "(0.09864116289347953, 1331642.0, 58396.0, 2607962.0)\n",
      "#########Test for K:4\n",
      "Pool size: 8\n",
      "(0.10808589677097144, 1718508.0, 56580.0, 2222912.0)\n",
      "#########Test for K:5\n",
      "Pool size: 8\n",
      "(0.10272467014041221, 2366164.0, 64950.0, 1566886.0)\n",
      "#########Test for K:6\n",
      "Pool size: 8\n",
      "(0.11487044168304744, 2689708.0, 61998.0, 1246294.0)\n",
      "#########Test for K:7\n",
      "Pool size: 8\n",
      "(0.11175756008899183, 3031032.0, 52552.0, 914416.0)\n"
     ]
    }
   ],
   "source": [
    "klist = [2, 3, 4, 5, 6, 7]\n",
    "for K in klist:\n",
    "    print(\"#########Test for K:{}\".format(K))\n",
    "    epsilon = 0.01\n",
    "    threshold = 20\n",
    "    alg = 'L2'\n",
    "    dis_store = init_dis_store(G)\n",
    "    embedding = difastmap_average(G, K, epsilon, dis_store, alg)\n",
    "    S = int(2000)\n",
    "    subset = sample(list(G.nodes()), S)\n",
    "    variant = 'average'\n",
    "    results = distortion_analyse_mp(G, embedding, subset, alg, variant, threshold)\n",
    "    print(results)"
   ]
  },
  {
   "cell_type": "code",
   "execution_count": 95,
   "metadata": {},
   "outputs": [
    {
     "name": "stdout",
     "output_type": "stream",
     "text": [
      "#########Test for K:1\n",
      "Pool size: 8\n",
      "(0.710744726707453, 0.0, 7696.0, 3990304.0)\n",
      "#########Test for K:2\n",
      "Pool size: 8\n",
      "(0.20573555632452817, 2152656.0, 38860.0, 1806484.0)\n",
      "#########Test for K:3\n",
      "Pool size: 8\n",
      "(0.3111985902444959, 3321540.0, 20252.0, 656208.0)\n",
      "#########Test for K:4\n",
      "Pool size: 8\n",
      "(0.3701012142194539, 3610378.0, 13134.0, 374488.0)\n",
      "#########Test for K:5\n",
      "Pool size: 8\n",
      "(0.44492299392147283, 3794694.0, 8996.0, 194310.0)\n"
     ]
    }
   ],
   "source": [
    "klist = [1, 2, 3, 4, 5]\n",
    "for K in klist:\n",
    "    print(\"#########Test for K:{}\".format(K))\n",
    "    epsilon = 0.01\n",
    "    threshold = 20\n",
    "    alg = 'L1'\n",
    "    dis_store = init_dis_store(G)\n",
    "    embedding = difastmap_average(G, K, epsilon, dis_store, alg)\n",
    "    S = int(2000)\n",
    "    subset = sample(list(G.nodes()), S)\n",
    "    variant = 'average'\n",
    "    results = distortion_analyse_mp(G, embedding, subset, alg, variant, threshold)\n",
    "    print(results)"
   ]
  },
  {
   "cell_type": "code",
   "execution_count": 96,
   "metadata": {},
   "outputs": [
    {
     "name": "stdout",
     "output_type": "stream",
     "text": [
      "#########Test for K:2\n",
      "Pool size: 8\n",
      "(0.14768512527820965, 518864.0, 34244.0, 3444892.0)\n",
      "#########Test for K:3\n",
      "Pool size: 8\n",
      "(0.10069886001035086, 1230532.0, 52938.0, 2714530.0)\n",
      "#########Test for K:4\n",
      "Pool size: 8\n",
      "(0.1046932872752638, 1683120.0, 52900.0, 2261980.0)\n",
      "#########Test for K:5\n",
      "Pool size: 8\n",
      "(0.09396217683777658, 2150168.0, 68458.0, 1779374.0)\n",
      "#########Test for K:6\n",
      "Pool size: 8\n",
      "(0.09681681090633258, 2455128.0, 71550.0, 1471322.0)\n",
      "#########Test for K:7\n",
      "Pool size: 8\n",
      "(0.12560319145753998, 2889298.0, 66284.0, 1042418.0)\n",
      "#########Test for K:8\n",
      "Pool size: 8\n",
      "(0.1187890663387309, 3239424.0, 54606.0, 703970.0)\n"
     ]
    }
   ],
   "source": [
    "klist = [2, 3, 4, 5, 6, 7, 8]\n",
    "for K in klist:\n",
    "    print(\"#########Test for K:{}\".format(K))\n",
    "    epsilon = 0.01\n",
    "    threshold = 20\n",
    "    alg = 'L2'\n",
    "    dis_store = init_dis_store(G)\n",
    "    embedding = difastmap_max(G, K, epsilon, dis_store, alg)\n",
    "    S = int(2000)\n",
    "    subset = sample(list(G.nodes()), S)\n",
    "    variant = 'max'\n",
    "    results = distortion_analyse_mp(G, embedding, subset, alg, variant, threshold)\n",
    "    print(results)"
   ]
  },
  {
   "cell_type": "code",
   "execution_count": 97,
   "metadata": {},
   "outputs": [
    {
     "name": "stdout",
     "output_type": "stream",
     "text": [
      "#########Test for K:1\n",
      "Pool size: 8\n",
      "(0.7102999153585338, 0.0, 8132.0, 3989868.0)\n",
      "#########Test for K:2\n",
      "Pool size: 8\n",
      "(0.19810884130123493, 2154638.0, 38446.0, 1804916.0)\n",
      "#########Test for K:3\n",
      "Pool size: 8\n",
      "(0.3092737050908313, 3311036.0, 20306.0, 666658.0)\n",
      "#########Test for K:4\n",
      "Pool size: 8\n",
      "(0.3762249320083465, 3595236.0, 13656.0, 389108.0)\n",
      "#########Test for K:5\n",
      "Pool size: 8\n",
      "(0.44039579536804646, 3796512.0, 9044.0, 192444.0)\n",
      "#########Test for K:6\n",
      "Pool size: 8\n",
      "(0.5817349549278109, 3881152.0, 5568.0, 111280.0)\n",
      "#########Test for K:7\n",
      "Pool size: 8\n",
      "(0.5691934677764731, 3946782.0, 3140.0, 48078.0)\n",
      "#########Test for K:8\n",
      "Pool size: 8\n",
      "(0.7066407407606299, 3955996.0, 2606.0, 39398.0)\n"
     ]
    }
   ],
   "source": [
    "klist = [1, 2, 3, 4, 5, 6, 7, 8]\n",
    "for K in klist:\n",
    "    print(\"#########Test for K:{}\".format(K))\n",
    "    epsilon = 0.01\n",
    "    threshold = 20\n",
    "    alg = 'L1'\n",
    "    dis_store = init_dis_store(G)\n",
    "    embedding = difastmap_max(G, K, epsilon, dis_store, alg)\n",
    "    S = int(2000)\n",
    "    subset = sample(list(G.nodes()), S)\n",
    "    variant = 'max'\n",
    "    results = distortion_analyse_mp(G, embedding, subset, alg, variant, threshold)\n",
    "    print(results)"
   ]
  },
  {
   "cell_type": "markdown",
   "metadata": {},
   "source": [
    "**Conclusion**\n",
    "\n",
    "Except that $K$ here is very small in roadmap compared with $K$ in the random graph. And $L_2$ performs way better than $L_1$.\n",
    "\n",
    "**Attention:** Figure out the theoretical reason behind is very important in this period."
   ]
  },
  {
   "cell_type": "markdown",
   "metadata": {},
   "source": [
    "## Test the distortion of embedding min"
   ]
  },
  {
   "cell_type": "code",
   "execution_count": 98,
   "metadata": {},
   "outputs": [],
   "source": [
    "def meta_distortion_min(i):\n",
    "    global G, embedding_aver, embedding_max, subset, alg\n",
    "    node_1=subset[i]\n",
    "    emb_aver_1 = np.array(embedding_aver[node_1])\n",
    "    emb_max_1 = np.array(embedding_max[node_1])\n",
    "    length = dijkstra_path_length[node_1]\n",
    "    sigma = 0\n",
    "    ave_d = 0\n",
    "    for j in range(len(subset)):\n",
    "        if i == j:\n",
    "            continue\n",
    "        node_2 = subset[j]\n",
    "        emb_aver_2 = np.array(embedding_aver[node_2])\n",
    "        emb_max_2 = np.array(embedding_max[node_2])\n",
    "        distance = length[node_2]\n",
    "        distance_reverse = dijkstra_path_length[node_2][node_1]\n",
    "        target_dis = min(float(distance), float(distance_reverse))\n",
    "        if alg == 'L1':\n",
    "            embdis_aver = np.sum(np.abs(emb_aver_1-emb_aver_2))\n",
    "            embdis_max = np.sum(np.abs(emb_max_1-emb_max_2))\n",
    "        elif alg == 'L2':\n",
    "            embdis_aver = math.sqrt(np.dot(emb_aver_1-emb_aver_2, emb_aver_1-emb_aver_2))\n",
    "            embdis_max = math.sqrt(np.dot(emb_max_1-emb_max_2, emb_max_1-emb_max_2))\n",
    "        embdis = 2.0*embdis_aver - embdis_max\n",
    "        sigma += (target_dis-embdis)*(target_dis-embdis)\n",
    "        ave_d += target_dis\n",
    "    return [sigma, ave_d]\n",
    "\n",
    "def distortion_min_mp(G, embedding_aver, embedding_max, subset, alg):\n",
    "    input_set = list(range(len(subset)))\n",
    "    sigma = 0\n",
    "    ave_d = 0\n",
    "    pool_size = mp.cpu_count() * 2\n",
    "    print(\"Pool size: {}\".format(pool_size))\n",
    "    pool = mp.Pool(processes=pool_size)\n",
    "    pool_outputs = pool.map(meta_distortion_min, input_set)\n",
    "    pool.close()\n",
    "    pool.join()\n",
    "    # Sum the result of metacalculation\n",
    "    pool_outputs = np.array(pool_outputs)\n",
    "    #print(pool_outputs)\n",
    "    sigma, ave_d = np.sum(pool_outputs, 0)\n",
    "    base = float(S)*float(S-1)\n",
    "    sigma = math.sqrt(float(sigma)/base)\n",
    "    ave_d = float(ave_d)/base\n",
    "    return float(sigma)/ave_d"
   ]
  },
  {
   "cell_type": "code",
   "execution_count": 100,
   "metadata": {},
   "outputs": [
    {
     "name": "stdout",
     "output_type": "stream",
     "text": [
      "#########Test for K1:2, K2:2\n",
      "Pool size: 8\n",
      "0.14491048055989042\n",
      "#########Test for K1:2, K2:3\n",
      "Pool size: 8\n",
      "0.2556035717671641\n",
      "#########Test for K1:2, K2:4\n",
      "Pool size: 8\n",
      "0.27627993027023534\n",
      "#########Test for K1:2, K2:5\n",
      "Pool size: 8\n",
      "0.3041854118851774\n",
      "#########Test for K1:2, K2:6\n",
      "Pool size: 8\n",
      "0.2970098125010851\n",
      "#########Test for K1:3, K2:2\n",
      "Pool size: 8\n",
      "0.1623076993603434\n",
      "#########Test for K1:3, K2:3\n",
      "Pool size: 8\n",
      "0.10045194558113624\n",
      "#########Test for K1:3, K2:4\n",
      "Pool size: 8\n",
      "0.12825086593006915\n",
      "#########Test for K1:3, K2:5\n",
      "Pool size: 8\n",
      "0.15801055590264104\n",
      "#########Test for K1:3, K2:6\n",
      "Pool size: 8\n",
      "0.16537220362754482\n",
      "#########Test for K1:4, K2:2\n",
      "Pool size: 8\n",
      "0.20468186571985636\n",
      "#########Test for K1:4, K2:3\n",
      "Pool size: 8\n",
      "0.1487865278007752\n",
      "#########Test for K1:4, K2:4\n",
      "Pool size: 8\n",
      "0.11113317289694581\n",
      "#########Test for K1:4, K2:5\n",
      "Pool size: 8\n",
      "0.13892324602589587\n",
      "#########Test for K1:4, K2:6\n",
      "Pool size: 8\n",
      "0.1463845768496332\n",
      "#########Test for K1:5, K2:2\n",
      "Pool size: 8\n",
      "0.25170936246143505\n",
      "#########Test for K1:5, K2:3\n",
      "Pool size: 8\n",
      "0.16888182985505998\n",
      "#########Test for K1:5, K2:4\n",
      "Pool size: 8\n",
      "0.13519105935951733\n",
      "#########Test for K1:5, K2:5\n",
      "Pool size: 8\n",
      "0.11938206217651055\n",
      "#########Test for K1:5, K2:6\n",
      "Pool size: 8\n",
      "0.11507700696912829\n",
      "#########Test for K1:6, K2:2\n",
      "Pool size: 8\n",
      "0.260066081661681\n",
      "#########Test for K1:6, K2:3\n",
      "Pool size: 8\n",
      "0.2122009967111352\n",
      "#########Test for K1:6, K2:4\n",
      "Pool size: 8\n",
      "0.17112354697990928\n",
      "#########Test for K1:6, K2:5\n",
      "Pool size: 8\n",
      "0.11229356753411987\n",
      "#########Test for K1:6, K2:6\n",
      "Pool size: 8\n",
      "0.15020140496377574\n"
     ]
    }
   ],
   "source": [
    "klist = [2, 3, 4, 5, 6]\n",
    "for K1 in klist:\n",
    "    for K2 in klist:\n",
    "        print(\"#########Test for K1:{}, K2:{}\".format(K1, K2))\n",
    "        epsilon = 0.01\n",
    "        alg = 'L2'\n",
    "        dis_store = init_dis_store(G)\n",
    "        embedding_aver = difastmap_average(G, K1, epsilon, dis_store, alg)\n",
    "        embedding_max = difastmap_max(G, K2, epsilon, dis_store, alg)\n",
    "        S = int(1000)\n",
    "        subset = sample(list(G.nodes()), S)\n",
    "        results = distortion_min_mp(G, embedding_aver, embedding_max, subset, alg)\n",
    "        print(results)"
   ]
  },
  {
   "cell_type": "markdown",
   "metadata": {},
   "source": [
    "**Conclusion**\n",
    "\n",
    "The approximation of the `min`, which didn't get directly, is also fairly promissing. \n",
    "\n",
    "The the whole precision line on the accuracy of predicting the comparison reasult of $d_{ij}$ and $d_{ji}$."
   ]
  },
  {
   "cell_type": "markdown",
   "metadata": {},
   "source": [
    "## Test the distortion of differential heuristic"
   ]
  },
  {
   "cell_type": "code",
   "execution_count": 101,
   "metadata": {},
   "outputs": [],
   "source": [
    "def edgebound(pivots, pivots_dis_i, pivots_dis_j):\n",
    "    upper_ij = float('inf')\n",
    "    lower_ij = 0    \n",
    "    for p in pivots:\n",
    "        dip = pivots_dis_i[p]\n",
    "        dpj = pivots_dis_j['-'+str(p)]\n",
    "        djp = pivots_dis_j[p]\n",
    "        dpi = pivots_dis_i['-'+str(p)]\n",
    "        temp_upper_ij = dip + dpj\n",
    "        if temp_upper_ij < upper_ij:\n",
    "            upper_ij = temp_upper_ij\n",
    "        if dip > djp:\n",
    "            temp_ij = dip - djp\n",
    "            if temp_ij > lower_ij:\n",
    "                lower_ij = temp_ij\n",
    "        if dpj > dpi:\n",
    "            temp_ij = dpj - dpi\n",
    "            if temp_ij > lower_ij:\n",
    "                lower_ij = temp_ij\n",
    "    return lower_ij, upper_ij\n",
    "\n",
    "def meta_distortion_dh(i):\n",
    "    global G, dis_store, subset, pick\n",
    "    node_1=subset[i]\n",
    "    emb_1 = np.array(embedding[node_1])\n",
    "    length = dijkstra_path_length[node_1]\n",
    "    sigma = 0\n",
    "    ave_d = 0\n",
    "    for j in range(len(subset)):\n",
    "        if i == j:\n",
    "            continue\n",
    "        node_2 = subset[j]\n",
    "        emb_2 = np.array(embedding[node_2])\n",
    "        distance = length[node_2]\n",
    "        target_dis = distance\n",
    "        lower, upper = edgebound(dis_store['pivots'], dis_store[node_1], dis_store[node_2])\n",
    "        if pick == 'upper':\n",
    "            embdis = upper\n",
    "        elif pick == 'lower':\n",
    "            embdis = lower\n",
    "        elif pick == 'median':\n",
    "            embdis = (float(upper)+float(lower))/2\n",
    "        sigma += (target_dis-embdis)*(target_dis-embdis)\n",
    "        ave_d += target_dis\n",
    "    return [sigma, ave_d]\n",
    "\n",
    "def distortion_dh_mp(G, dis_store, subset, pick='upper'):\n",
    "    input_set = list(range(len(subset)))\n",
    "    sigma = 0\n",
    "    ave_d = 0\n",
    "    pool_size = mp.cpu_count() * 2\n",
    "    print(\"Pool size: {}\".format(pool_size))\n",
    "    pool = mp.Pool(processes=pool_size)\n",
    "    pool_outputs = pool.map(meta_distortion_dh, input_set)\n",
    "    pool.close()\n",
    "    pool.join()\n",
    "    # Sum the result of metacalculation\n",
    "    pool_outputs = np.array(pool_outputs)\n",
    "    #print(pool_outputs)\n",
    "    sigma, ave_d = np.sum(pool_outputs, 0)\n",
    "    base = float(S)*float(S-1)\n",
    "    sigma = math.sqrt(float(sigma)/base)\n",
    "    ave_d = float(ave_d)/base\n",
    "    return float(sigma)/ave_d"
   ]
  },
  {
   "cell_type": "code",
   "execution_count": 102,
   "metadata": {},
   "outputs": [
    {
     "name": "stdout",
     "output_type": "stream",
     "text": [
      "!!!!!!!!!The number of K: 3\n",
      "#########Test for differential heuristic:upper\n",
      "Pool size: 8\n",
      "2.742439115719525\n",
      "#########Test for differential heuristic:lower\n",
      "Pool size: 8\n",
      "0.1122370855300115\n",
      "#########Test for differential heuristic:median\n",
      "Pool size: 8\n",
      "1.3422907985687438\n",
      "!!!!!!!!!The number of K: 4\n",
      "#########Test for differential heuristic:upper\n",
      "Pool size: 8\n",
      "2.31403990773282\n",
      "#########Test for differential heuristic:lower\n",
      "Pool size: 8\n",
      "0.10005880779224606\n",
      "#########Test for differential heuristic:median\n",
      "Pool size: 8\n",
      "1.1653398640708543\n",
      "!!!!!!!!!The number of K: 5\n",
      "#########Test for differential heuristic:upper\n",
      "Pool size: 8\n",
      "2.3382377154872316\n",
      "#########Test for differential heuristic:lower\n",
      "Pool size: 8\n",
      "0.0856530531035157\n",
      "#########Test for differential heuristic:median\n",
      "Pool size: 8\n",
      "1.1672490740137924\n",
      "!!!!!!!!!The number of K: 6\n",
      "#########Test for differential heuristic:upper\n",
      "Pool size: 8\n",
      "2.277559910460499\n",
      "#########Test for differential heuristic:lower\n",
      "Pool size: 8\n",
      "0.07426925865326374\n",
      "#########Test for differential heuristic:median\n",
      "Pool size: 8\n",
      "1.0166219569375203\n",
      "!!!!!!!!!The number of K: 7\n",
      "#########Test for differential heuristic:upper\n",
      "Pool size: 8\n",
      "2.0832779887317026\n",
      "#########Test for differential heuristic:lower\n",
      "Pool size: 8\n",
      "0.07916547980322522\n",
      "#########Test for differential heuristic:median\n",
      "Pool size: 8\n",
      "0.9241796420708063\n",
      "!!!!!!!!!The number of K: 8\n",
      "#########Test for differential heuristic:upper\n",
      "Pool size: 8\n",
      "1.8076962350154968\n",
      "#########Test for differential heuristic:lower\n",
      "Pool size: 8\n",
      "0.07201272053558701\n",
      "#########Test for differential heuristic:median\n",
      "Pool size: 8\n",
      "0.9507124015066939\n",
      "!!!!!!!!!The number of K: 9\n",
      "#########Test for differential heuristic:upper\n",
      "Pool size: 8\n",
      "1.4714377052510552\n",
      "#########Test for differential heuristic:lower\n",
      "Pool size: 8\n",
      "0.061762784730413155\n",
      "#########Test for differential heuristic:median\n",
      "Pool size: 8\n",
      "0.8274913008429043\n",
      "!!!!!!!!!The number of K: 10\n",
      "#########Test for differential heuristic:upper\n",
      "Pool size: 8\n",
      "1.7025631616113819\n",
      "#########Test for differential heuristic:lower\n",
      "Pool size: 8\n",
      "0.06142464991734965\n",
      "#########Test for differential heuristic:median\n",
      "Pool size: 8\n",
      "0.7439586386712401\n"
     ]
    }
   ],
   "source": [
    "klist = [3, 4, 5, 6, 7, 8, 9, 10]\n",
    "for K in klist:\n",
    "    print(\"!!!!!!!!!The number of K: {}\".format(K))\n",
    "    picklist = ['upper', 'lower', 'median']\n",
    "    for pick in picklist:\n",
    "        print(\"#########Test for differential heuristic:{}\".format(pick))\n",
    "        epsilon = 0.01\n",
    "        alg = 'L2'\n",
    "        dis_store = init_dis_store(G)\n",
    "        embedding = difastmap_max(G, K, epsilon, dis_store, alg)\n",
    "        S = int(1000)\n",
    "        subset = sample(list(G.nodes()), S)\n",
    "        results = distortion_dh_mp(G, dis_store, subset, pick)\n",
    "        print(results)"
   ]
  },
  {
   "cell_type": "markdown",
   "metadata": {},
   "source": [
    "**Conclusion**\n",
    "\n",
    "While using the differential heuristic, the lower bound is amazingly good, and it even keeps the property of admissibility.\n",
    "\n",
    "**Next planning**\n",
    "\n",
    "1. I have a theory: the distrotion here has a very tight relation with the scale of the weight of the edge, so we can adjust it to see the change of performance. (make the weight of the edges closer, to see whether it's the sturcture of the graph of just the weight that plays an important role.)\n",
    "    - This assumption of difference between weights is right proved by latter experiments.\n",
    "    - **Structures** still havn't been proved, which is more interesting in this topic.\n",
    "2. Try to analyse the combination, and the details in different situations.\n",
    "3. **Try to analyse the reason why differential heuristic can performs so good, because it's kind of counterintuitive.**\n",
    "    - It has something to do with the edges' weight, because when the edge is very different, the lower bound can be very accurate."
   ]
  },
  {
   "cell_type": "markdown",
   "metadata": {},
   "source": [
    "## Fine-tune the approximation of distances."
   ]
  },
  {
   "cell_type": "code",
   "execution_count": 103,
   "metadata": {},
   "outputs": [],
   "source": [
    "def edgebound(pivots, pivots_dis_i, pivots_dis_j):\n",
    "    upper_ij = float('inf')\n",
    "    lower_ij = 0    \n",
    "    for p in pivots:\n",
    "        dip = pivots_dis_i[p]\n",
    "        dpj = pivots_dis_j['-'+str(p)]\n",
    "        djp = pivots_dis_j[p]\n",
    "        dpi = pivots_dis_i['-'+str(p)]\n",
    "        temp_upper_ij = dip + dpj\n",
    "        if temp_upper_ij < upper_ij:\n",
    "            upper_ij = temp_upper_ij\n",
    "        if dip > djp:\n",
    "            temp_ij = dip - djp\n",
    "            if temp_ij > lower_ij:\n",
    "                lower_ij = temp_ij\n",
    "        if dpj > dpi:\n",
    "            temp_ij = dpj - dpi\n",
    "            if temp_ij > lower_ij:\n",
    "                lower_ij = temp_ij\n",
    "    return lower_ij, upper_ij\n",
    "\n",
    "def compare(pivots, pivots_dis_i, pivots_dis_j, disaver, dismax, realdis):\n",
    "    lower, upper = edgebound(pivots, pivots_dis_i, pivots_dis_j)\n",
    "    median = (float(lower)+float(upper))/2\n",
    "    dismin = 2.0*disaver - dismax\n",
    "    if dismin < 0:\n",
    "        dismin = 0\n",
    "    if upper <= dismin:\n",
    "        state = 1\n",
    "        distune = upper\n",
    "        substate = 1 + np.argmin(np.abs(np.array([lower, median, upper])-realdis))\n",
    "    elif upper > dismin and upper <= disaver and lower <=dismin:\n",
    "        state = 2\n",
    "        distune = dismin\n",
    "        substate = 4 + np.argmin(np.abs(np.array([lower, dismin, median, upper])-realdis))\n",
    "    elif upper > disaver and upper <= dismax and lower <=dismin: # spe\n",
    "        state = 3\n",
    "        distune = median\n",
    "        substate = 8 + np.argmin(np.abs(np.array([lower, dismin, median, disaver, upper])-realdis))\n",
    "    elif upper > dismax and lower <=dismin: # spe\n",
    "        state = 4\n",
    "        distune = disaver\n",
    "        substate = 13 + np.argmin(np.abs(np.array([lower, dismin, median, disaver, dismax, upper])-realdis))\n",
    "    elif upper <= disaver and lower > dismin:\n",
    "        state = 5\n",
    "        distune = lower\n",
    "        substate = 19 + np.argmin(np.abs(np.array([lower, median, upper])-realdis))\n",
    "    elif upper > disaver and upper <= dismax and lower <= disaver and lower > dismin:\n",
    "        state = 6\n",
    "        distune = disaver\n",
    "        substate = 22 + np.argmin(np.abs(np.array([lower, median, disaver, upper])-realdis))\n",
    "    elif upper > dismax and lower <= disaver and lower > dismin: #spe\n",
    "        state = 7\n",
    "        distune = dismax\n",
    "        substate = 26 + np.argmin(np.abs(np.array([lower, disaver, median, dismax, upper])-realdis))\n",
    "    elif upper <= dismax and lower > disaver:\n",
    "        state = 8\n",
    "        distune = upper\n",
    "        substate = 31 + np.argmin(np.abs(np.array([lower, median, upper])-realdis))\n",
    "    elif upper > dismax and lower <= dismax:\n",
    "        state = 9\n",
    "        distune = dismax\n",
    "        substate = 34 + np.argmin(np.abs(np.array([lower, median, dismax, upper])-realdis))\n",
    "    elif lower > dismax:\n",
    "        state = 10\n",
    "        distune = lower\n",
    "        substate = 38 + np.argmin(np.abs(np.array([lower, median, upper])-realdis))\n",
    "    else:\n",
    "        state = 0\n",
    "        distune = disaver\n",
    "    return state, distune, substate\n",
    "\n",
    "def meta_fastmap_dh(i):\n",
    "    global G, embedding_aver, embedding_max, subset, alg\n",
    "    node_1=subset[i]\n",
    "    emb_aver_1 = np.array(embedding_aver[node_1])\n",
    "    emb_max_1 = np.array(embedding_max[node_1])\n",
    "    length = dijkstra_path_length[node_1]\n",
    "    sigma = 0\n",
    "    ave_d = 0\n",
    "    compare_state = []\n",
    "    for t in range(11):\n",
    "        compare_state.append(0)\n",
    "    compare_substate = []\n",
    "    for t in range(41):\n",
    "        compare_substate.append(0)\n",
    "    for j in range(len(subset)):\n",
    "        if i == j:\n",
    "            continue\n",
    "        node_2 = subset[j]\n",
    "        emb_aver_2 = np.array(embedding_aver[node_2])\n",
    "        emb_max_2 = np.array(embedding_max[node_2])\n",
    "        distance = length[node_2]\n",
    "        target_dis = distance\n",
    "        if alg == 'L1':\n",
    "            embdis_aver = np.sum(np.abs(emb_aver_1-emb_aver_2))\n",
    "            embdis_max = np.sum(np.abs(emb_max_1-emb_max_2))\n",
    "        elif alg == 'L2':\n",
    "            embdis_aver = math.sqrt(np.dot(emb_aver_1-emb_aver_2, emb_aver_1-emb_aver_2))\n",
    "            embdis_max = math.sqrt(np.dot(emb_max_1-emb_max_2, emb_max_1-emb_max_2))\n",
    "        state, tunedis, substate = compare(dis_store['pivots'], dis_store[node_1], dis_store[node_2], embdis_aver, embdis_max, target_dis)\n",
    "        compare_state[state] += 1\n",
    "        compare_substate[substate] += 1 \n",
    "        sigma += (target_dis-tunedis)*(target_dis-tunedis)\n",
    "        ave_d += target_dis\n",
    "    output = list([sigma, ave_d])\n",
    "    for n in compare_state:\n",
    "        output.append(n)\n",
    "    for n in compare_substate:\n",
    "        output.append(n)\n",
    "    return output\n",
    "\n",
    "def draw_distribution(states, xl, yl, title):\n",
    "    s = sum(states)\n",
    "    x = list(range(len(states)))\n",
    "    y = []\n",
    "    for i in range(len(states)):\n",
    "        y.append(float(states[i])/s)\n",
    "    plt.plot(x,y,'r-o', linewidth=1)\n",
    "    plt.xlabel(xl)\n",
    "    plt.ylabel(yl)\n",
    "    plt.title(title)\n",
    "    plt.show()\n",
    "    \n",
    "def fastmap_dh_distribution_mp(G, embedding_aver, embedding_max, subset, alg):\n",
    "    input_set = list(range(len(subset)))\n",
    "    sigma = 0\n",
    "    ave_d = 0\n",
    "    pool_size = mp.cpu_count() * 2\n",
    "    print(\"Pool size: {}\".format(pool_size))\n",
    "    pool = mp.Pool(processes=pool_size)\n",
    "    pool_outputs = pool.map(meta_fastmap_dh, input_set)\n",
    "    pool.close()\n",
    "    pool.join()\n",
    "    # Sum the result of metacalculation\n",
    "    pool_outputs = np.array(pool_outputs)\n",
    "    #print(pool_outputs)\n",
    "    resultsum = np.sum(pool_outputs, 0)\n",
    "    sigma, ave_d = resultsum[:2]\n",
    "    states = resultsum[2:13]\n",
    "    substates = resultsum[13:]\n",
    "    xlabel = 'states'\n",
    "    ylabel = 'count (persents)'\n",
    "    title = 'Distribution of DH and FastMap result'\n",
    "    s = sum(states)\n",
    "    x = list(range(len(states)))\n",
    "    y = []\n",
    "    for i in range(len(states)):\n",
    "        y.append(float(states[i])/s)\n",
    "    s_sub = sum(substates)\n",
    "    x_sub =[0,\n",
    "            0.75, 1, 1.25,\n",
    "            1.7, 1.9, 2.1, 2.3,\n",
    "            2.6, 2.8, 3, 3.2, 3.4,\n",
    "            3.5, 3.7, 3.9, 4.1, 4.3, 4.5,\n",
    "            4.75, 5, 5.25,\n",
    "            5.7, 5.9, 6.1, 6.3,\n",
    "            6.6, 6.8, 7, 7.2, 7.4,\n",
    "            7.75, 8, 8.25,\n",
    "            8.7, 8.9, 9.1, 9.3,\n",
    "            9.75, 10, 10.25]\n",
    "    y_sub = []\n",
    "    for i in range(len(substates)):\n",
    "        y_sub.append(float(substates[i])/s_sub)\n",
    "    plt.plot(x,y,'r-o', linewidth=1)\n",
    "    plt.plot(x_sub, y_sub, 'g-*')\n",
    "    plt.xlabel(xlabel)\n",
    "    plt.ylabel(ylabel)\n",
    "    plt.title(title)\n",
    "    plt.show()\n",
    "    \n",
    "    plt.figure(1)\n",
    "    adjlist = [3,4,5,6,3,4,5,3,4,3]\n",
    "    for i in range(1,11):\n",
    "        tempx = [i-1, i, i+1]\n",
    "        tempy = [0, y[i], 0]\n",
    "        tempxsub = x_sub[sum(adjlist[:i-1])+1:sum(adjlist[:i])+1]\n",
    "        tempysub = y_sub[sum(adjlist[:i-1])+1:sum(adjlist[:i])+1]\n",
    "        plt.subplot(4, 3, i)\n",
    "        plt.plot(tempx,tempy,'r-o', linewidth=1)\n",
    "        plt.plot(tempxsub, tempysub, 'g-*')\n",
    "    plt.show()\n",
    "    \n",
    "    upper_states = [0,0,0,0]\n",
    "    upper_states[0] += states[1]\n",
    "    upper_states[1] += states[2] + states[5]\n",
    "    upper_states[2] += states[3] + states[6] + states[8]\n",
    "    upper_states[3] += states[4] + states[7] + states[9] + states[10]\n",
    "    title = 'Upper Distribution of DH and FastMap result'\n",
    "    draw_distribution(upper_states, xlabel, ylabel, title)\n",
    "    \n",
    "    lower_states = [0,0,0,0]\n",
    "    lower_states[0] += states[1] + states[2] + states[3] + states[4]\n",
    "    lower_states[1] += states[5] + states[6] + states[7]\n",
    "    lower_states[2] += states[8] + states[9]\n",
    "    lower_states[3] += states[10]\n",
    "    title = 'Lower Distribution of DH and FastMap result'\n",
    "    draw_distribution(lower_states, xlabel, ylabel, title) \n",
    "    \n",
    "    base = float(S)*float(S-1)\n",
    "    sigma = math.sqrt(float(sigma)/base)\n",
    "    ave_d = float(ave_d)/base\n",
    "    return float(sigma)/ave_d"
   ]
  },
  {
   "cell_type": "code",
   "execution_count": 104,
   "metadata": {},
   "outputs": [
    {
     "name": "stdout",
     "output_type": "stream",
     "text": [
      "Pool size: 8\n"
     ]
    },
    {
     "data": {
      "image/png": "[encoded data removed]",
      "text/plain": [
       "<matplotlib.figure.Figure at 0x1538992f98>"
      ]
     },
     "metadata": {},
     "output_type": "display_data"
    },
    {
     "data": {
      "image/png": "[encoded data removed]",
      "text/plain": [
       "<matplotlib.figure.Figure at 0x153599a080>"
      ]
     },
     "metadata": {},
     "output_type": "display_data"
    },
    {
     "data": {
      "image/png": "[encoded data removed]",
      "text/plain": [
       "<matplotlib.figure.Figure at 0x15381b1a58>"
      ]
     },
     "metadata": {},
     "output_type": "display_data"
    },
    {
     "data": {
      "image/png": "[encoded data removed]",
      "text/plain": [
       "<matplotlib.figure.Figure at 0x15376f4d68>"
      ]
     },
     "metadata": {},
     "output_type": "display_data"
    },
    {
     "name": "stdout",
     "output_type": "stream",
     "text": [
      "0.09076109285306941\n",
      "#########Test for differential heuristic:upper\n",
      "Pool size: 8\n",
      "2.438122240613316\n",
      "#########Test for differential heuristic:lower\n",
      "Pool size: 8\n",
      "0.09743690237193713\n",
      "#########Test for differential heuristic:median\n",
      "Pool size: 8\n",
      "1.193652365307689\n"
     ]
    }
   ],
   "source": [
    "epsilon = 0.01\n",
    "alg = 'L2'\n",
    "dis_store = init_dis_store(G)\n",
    "embedding_aver = difastmap_average(G, 4, epsilon, dis_store, alg)\n",
    "embedding_max = difastmap_max(G, 4, epsilon, dis_store, alg)\n",
    "S = int(2000)\n",
    "subset = sample(list(G.nodes()), S)\n",
    "results = fastmap_dh_distribution_mp(G, embedding_aver, embedding_max, subset, alg)\n",
    "print(results)\n",
    "picklist = ['upper', 'lower', 'median']\n",
    "for pick in picklist:\n",
    "    print(\"#########Test for differential heuristic:{}\".format(pick))\n",
    "    results = distortion_dh_mp(G, dis_store, subset, pick)\n",
    "    print(results)"
   ]
  },
  {
   "cell_type": "markdown",
   "metadata": {},
   "source": [
    "**Summary:**\n",
    "\n",
    "1. The result show most of the time, the `lower bound` has the better approximation of the real distance, which matches the restults of distortion. \n",
    "2. And here we can see the `upper bound` is always large than our prediction of `dismax`, which is reasonable.\n",
    "3. However, why there are a large proportion of `lower bound` greater than the `dismax`?\n",
    "    - **Because DH can take an advantage of great difference between edges' weight.** And maybe this situation we met the bigger edge among $d_{ij}$ and $d_{ji}$, but at the same time we still underestimate the distance because the $K$ is not that large.\n",
    "4. We still need more information to see how to improve the approximation further more. Because currently, the dominate situation both shows our approximation from embedding could not help make a better choice.\n",
    "    - We can try to keep adjust the strategies on every situation, and the improvements **can be improved** even more.\n",
    "5. And because the orignal distortion by DH is already very good, and even better than the approximation, so we need rather improves the approximation from FastMap, or find more usable information beyond the pure distance in Euclidean space. \n",
    "    - We already showed latter that the performance of DH is unstable, and we have stable FastMap performance and the improvement is also always exists.\n",
    "    - But we still need more consideration on **more usable information** based on theoretical property."
   ]
  },
  {
   "cell_type": "markdown",
   "metadata": {},
   "source": [
    "## Test the influence of edge weights "
   ]
  },
  {
   "cell_type": "code",
   "execution_count": 50,
   "metadata": {},
   "outputs": [],
   "source": [
    "filepath = \"../data/roadmap/rome99.road\"\n",
    "\n",
    "def readDiGraph_type_scaled(infile, rate):\n",
    "    G = nx.DiGraph()\n",
    "    with open(infile) as f:\n",
    "        l = f.readline()\n",
    "        while l:\n",
    "            if l[0] != 'a':\n",
    "                l = f.readline()\n",
    "                continue\n",
    "            items = l.strip().split()\n",
    "            if len(items) == 4:\n",
    "                node1, node2, weight = items[1:]\n",
    "                weight = float(weight) * rate\n",
    "            elif len(items) == 3:\n",
    "                node1, node2 = items[1:]\n",
    "                wight = 1.0\n",
    "            G.add_edge(node1, node2, weight=float(weight))\n",
    "            l = f.readline()\n",
    "    return G"
   ]
  },
  {
   "cell_type": "code",
   "execution_count": 51,
   "metadata": {},
   "outputs": [],
   "source": [
    "rate = 0.01\n",
    "G = readDiGraph_type_scaled(filepath, rate)"
   ]
  },
  {
   "cell_type": "code",
   "execution_count": 52,
   "metadata": {},
   "outputs": [],
   "source": [
    "dijkstra_path_length = {}\n",
    "span = G.number_of_nodes() / 20\n",
    "i = 0\n",
    "for node in G.nodes:\n",
    "    i += 1\n",
    "    if i%span == 0:\n",
    "        print(\"\\r {}% Finished\".format(int(i/span)*20))\n",
    "    dijkstra_path_length[node] = nx.single_source_dijkstra_path_length(G, node)"
   ]
  },
  {
   "cell_type": "code",
   "execution_count": 53,
   "metadata": {},
   "outputs": [],
   "source": [
    "def thedistance_info(G):\n",
    "    dis = []\n",
    "    nodelist = list(G.nodes())\n",
    "    for i in range(G.number_of_nodes()):\n",
    "        length = dijkstra_path_length[nodelist[i]]\n",
    "        dis.extend(list(length.values()))\n",
    "    plt.hist(dis)\n",
    "    plt.xlabel('distance')\n",
    "    plt.ylabel('count (persents)')\n",
    "    plt.title('Statistic of pair distances')\n",
    "    plt.show()"
   ]
  },
  {
   "cell_type": "code",
   "execution_count": 55,
   "metadata": {},
   "outputs": [
    {
     "data": {
      "image/png": "[encoded data removed]",
      "text/plain": [
       "<matplotlib.figure.Figure at 0x15378f1550>"
      ]
     },
     "metadata": {},
     "output_type": "display_data"
    }
   ],
   "source": [
    "thedistance_info(G)"
   ]
  },
  {
   "cell_type": "code",
   "execution_count": 58,
   "metadata": {},
   "outputs": [
    {
     "name": "stdout",
     "output_type": "stream",
     "text": [
      "#########Test for K:2\n",
      "Pool size: 8\n",
      "(0.14565674301135167, 15877.0, 1521053.0, 462070.0)\n",
      "#########Test for K:3\n",
      "Pool size: 8\n",
      "(0.09897669958375964, 69719.0, 1738915.0, 190366.0)\n",
      "#########Test for K:4\n",
      "Pool size: 8\n",
      "(0.10471682488716155, 205456.0, 1660064.0, 133480.0)\n",
      "#########Test for K:5\n",
      "Pool size: 8\n",
      "(0.10229824635176533, 262917.0, 1683327.0, 52756.0)\n",
      "#########Test for K:6\n",
      "Pool size: 8\n",
      "(0.11752902380920544, 361145.0, 1605591.0, 32264.0)\n",
      "#########Test for K:7\n",
      "Pool size: 8\n",
      "(0.11347132431641954, 385547.0, 1594668.0, 18785.0)\n"
     ]
    }
   ],
   "source": [
    "klist = [2,  3,  4,  5, 6, 7]\n",
    "for  K  in  klist:\n",
    "    print(\"#########Test for K:{}\".format(K))\n",
    "    epsilon = 0.01\n",
    "    threshold = 2\n",
    "    alg = 'L2'\n",
    "    dis_store = init_dis_store(G)\n",
    "    embedding = difastmap_average(G, K, epsilon, dis_store, alg)\n",
    "    S = int(2000)\n",
    "    subset = sample(list(G.nodes()), S)\n",
    "    variant = 'average'\n",
    "    results = distortion_analyse_mp(G, embedding, subset, alg, variant, threshold)\n",
    "    print(results)"
   ]
  },
  {
   "cell_type": "code",
   "execution_count": 59,
   "metadata": {},
   "outputs": [
    {
     "name": "stdout",
     "output_type": "stream",
     "text": [
      "#########Test for K:1\n",
      "Pool size: 8\n",
      "(0.69106667089358, 0.0, 445972.0, 1553028.0)\n",
      "#########Test for K:2\n",
      "Pool size: 8\n",
      "(0.19946385570098576, 504485.0, 1182422.0, 312093.0)\n",
      "#########Test for K:3\n",
      "Pool size: 8\n",
      "(0.3138063357976999, 1103236.0, 805219.0, 90545.0)\n",
      "#########Test for K:4\n",
      "Pool size: 8\n",
      "(0.37530891611211303, 1388143.0, 574154.0, 36703.0)\n",
      "#########Test for K:5\n",
      "Pool size: 8\n",
      "(0.4577582800234237, 1576538.0, 412816.0, 9646.0)\n"
     ]
    }
   ],
   "source": [
    "klist = [1, 2,  3,  4,  5]\n",
    "for  K  in  klist:\n",
    "    print(\"#########Test for K:{}\".format(K))\n",
    "    epsilon = 0.01\n",
    "    threshold = 2\n",
    "    alg = 'L1'\n",
    "    dis_store = init_dis_store(G)\n",
    "    embedding = difastmap_average(G, K, epsilon, dis_store, alg)\n",
    "    S = int(2000)\n",
    "    subset = sample(list(G.nodes()), S)\n",
    "    variant = 'average'\n",
    "    results = distortion_analyse_mp(G, embedding, subset, alg, variant, threshold)\n",
    "    print(results)"
   ]
  },
  {
   "cell_type": "code",
   "execution_count": 60,
   "metadata": {},
   "outputs": [
    {
     "name": "stdout",
     "output_type": "stream",
     "text": [
      "#########Test for K:2\n",
      "Pool size: 8\n",
      "(0.15490023834634986, 11807.0, 1452475.0, 534718.0)\n",
      "#########Test for K:3\n",
      "Pool size: 8\n",
      "(0.10061653000483707, 67368.0, 1736341.0, 195291.0)\n",
      "#########Test for K:4\n",
      "Pool size: 8\n",
      "(0.10547617856127385, 185526.0, 1668539.0, 144935.0)\n",
      "#########Test for K:5\n",
      "Pool size: 8\n",
      "(0.0950268703104877, 229650.0, 1706660.0, 62690.0)\n",
      "#########Test for K:6\n",
      "Pool size: 8\n",
      "(0.09643881760961279, 247648.0, 1712302.0, 39050.0)\n",
      "#########Test for K:7\n",
      "Pool size: 8\n",
      "(0.12756307967588143, 377572.0, 1598520.0, 22908.0)\n"
     ]
    }
   ],
   "source": [
    "klist = [2,  3,  4,  5, 6, 7]\n",
    "for  K  in  klist:\n",
    "    print(\"#########Test for K:{}\".format(K))\n",
    "    epsilon = 0.01\n",
    "    threshold = 2\n",
    "    alg = 'L2'\n",
    "    dis_store = init_dis_store(G)\n",
    "    embedding = difastmap_max(G, K, epsilon, dis_store, alg)\n",
    "    S = int(2000)\n",
    "    subset = sample(list(G.nodes()), S)\n",
    "    variant = 'max'\n",
    "    results = distortion_analyse_mp(G, embedding, subset, alg, variant, threshold)\n",
    "    print(results)"
   ]
  },
  {
   "cell_type": "code",
   "execution_count": 61,
   "metadata": {},
   "outputs": [
    {
     "name": "stdout",
     "output_type": "stream",
     "text": [
      "#########Test for K1:2, K2:2\n",
      "Pool size: 8\n",
      "0.14822101660731962\n",
      "#########Test for K1:2, K2:3\n",
      "Pool size: 8\n",
      "0.2533773681169644\n",
      "#########Test for K1:2, K2:4\n",
      "Pool size: 8\n",
      "0.264817230892045\n",
      "#########Test for K1:2, K2:5\n",
      "Pool size: 8\n",
      "0.29704628078522366\n",
      "#########Test for K1:2, K2:6\n",
      "Pool size: 8\n",
      "0.29276208547697646\n",
      "#########Test for K1:3, K2:2\n",
      "Pool size: 8\n",
      "0.1583804562444665\n",
      "#########Test for K1:3, K2:3\n",
      "Pool size: 8\n",
      "0.10367747362647159\n",
      "#########Test for K1:3, K2:4\n",
      "Pool size: 8\n",
      "0.1892612562411764\n",
      "#########Test for K1:3, K2:5\n",
      "Pool size: 8\n",
      "0.15347348527841437\n",
      "#########Test for K1:3, K2:6\n",
      "Pool size: 8\n",
      "0.2373504674699618\n",
      "#########Test for K1:4, K2:2\n",
      "Pool size: 8\n",
      "0.2010729325074508\n",
      "#########Test for K1:4, K2:3\n",
      "Pool size: 8\n",
      "0.14647129429323213\n",
      "#########Test for K1:4, K2:4\n",
      "Pool size: 8\n",
      "0.116109154990035\n",
      "#########Test for K1:4, K2:5\n",
      "Pool size: 8\n",
      "0.1368747707716621\n",
      "#########Test for K1:4, K2:6\n",
      "Pool size: 8\n",
      "0.15397721875427467\n",
      "#########Test for K1:5, K2:2\n",
      "Pool size: 8\n",
      "0.24156685034046194\n",
      "#########Test for K1:5, K2:3\n",
      "Pool size: 8\n",
      "0.17351876532306373\n",
      "#########Test for K1:5, K2:4\n",
      "Pool size: 8\n",
      "0.1080036963981228\n",
      "#########Test for K1:5, K2:5\n",
      "Pool size: 8\n",
      "0.12126568507164355\n",
      "#########Test for K1:5, K2:6\n",
      "Pool size: 8\n",
      "0.1186136089324719\n",
      "#########Test for K1:6, K2:2\n",
      "Pool size: 8\n",
      "0.2598777426397323\n",
      "#########Test for K1:6, K2:3\n",
      "Pool size: 8\n",
      "0.21338801480702796\n",
      "#########Test for K1:6, K2:4\n",
      "Pool size: 8\n",
      "0.1715652140172373\n",
      "#########Test for K1:6, K2:5\n",
      "Pool size: 8\n",
      "0.16133274336086406\n",
      "#########Test for K1:6, K2:6\n",
      "Pool size: 8\n",
      "0.1556603801577409\n"
     ]
    }
   ],
   "source": [
    "klist = [2, 3, 4, 5, 6]\n",
    "for K1 in klist:\n",
    "    for K2 in klist:\n",
    "        print(\"#########Test for K1:{}, K2:{}\".format(K1, K2))\n",
    "        epsilon = 0.01\n",
    "        alg = 'L2'\n",
    "        dis_store = init_dis_store(G)\n",
    "        embedding_aver = difastmap_average(G, K1, epsilon, dis_store, alg)\n",
    "        embedding_max = difastmap_max(G, K2, epsilon, dis_store, alg)\n",
    "        S = int(1000)\n",
    "        subset = sample(list(G.nodes()), S)\n",
    "        results = distortion_min_mp(G, embedding_aver, embedding_max, subset, alg)\n",
    "        print(results)"
   ]
  },
  {
   "cell_type": "code",
   "execution_count": 62,
   "metadata": {},
   "outputs": [
    {
     "name": "stdout",
     "output_type": "stream",
     "text": [
      "!!!!!!!!!The number of K: {}\n",
      "#########Test for differential heuristic:upper\n",
      "Pool size: 8\n",
      "2.6641057221502886\n",
      "#########Test for differential heuristic:lower\n",
      "Pool size: 8\n",
      "0.1108186648959615\n",
      "#########Test for differential heuristic:median\n",
      "Pool size: 8\n",
      "1.300187513440863\n",
      "!!!!!!!!!The number of K: {}\n",
      "#########Test for differential heuristic:upper\n",
      "Pool size: 8\n",
      "2.5101152348454447\n",
      "#########Test for differential heuristic:lower\n",
      "Pool size: 8\n",
      "0.09593108027335533\n",
      "#########Test for differential heuristic:median\n",
      "Pool size: 8\n",
      "1.1915058449558673\n",
      "!!!!!!!!!The number of K: {}\n",
      "#########Test for differential heuristic:upper\n",
      "Pool size: 8\n",
      "2.390399276489372\n",
      "#########Test for differential heuristic:lower\n",
      "Pool size: 8\n",
      "0.08925943531968993\n",
      "#########Test for differential heuristic:median\n",
      "Pool size: 8\n",
      "1.0606457975172126\n",
      "!!!!!!!!!The number of K: {}\n",
      "#########Test for differential heuristic:upper\n",
      "Pool size: 8\n",
      "2.073016690638368\n",
      "#########Test for differential heuristic:lower\n",
      "Pool size: 8\n",
      "0.08851655066626639\n",
      "#########Test for differential heuristic:median\n",
      "Pool size: 8\n",
      "1.011467884108929\n",
      "!!!!!!!!!The number of K: {}\n",
      "#########Test for differential heuristic:upper\n",
      "Pool size: 8\n",
      "1.8283054590144823\n",
      "#########Test for differential heuristic:lower\n",
      "Pool size: 8\n",
      "0.0804118422460099\n",
      "#########Test for differential heuristic:median\n",
      "Pool size: 8\n",
      "0.8999006120979234\n",
      "!!!!!!!!!The number of K: {}\n",
      "#########Test for differential heuristic:upper\n",
      "Pool size: 8\n",
      "1.626702399094826\n",
      "#########Test for differential heuristic:lower\n",
      "Pool size: 8\n",
      "0.07207775928587169\n",
      "#########Test for differential heuristic:median\n",
      "Pool size: 8\n",
      "0.9534633628219836\n",
      "!!!!!!!!!The number of K: {}\n",
      "#########Test for differential heuristic:upper\n",
      "Pool size: 8\n",
      "1.6725552143794982\n",
      "#########Test for differential heuristic:lower\n",
      "Pool size: 8\n",
      "0.06650442308223785\n",
      "#########Test for differential heuristic:median\n",
      "Pool size: 8\n",
      "0.763479696800229\n",
      "!!!!!!!!!The number of K: {}\n",
      "#########Test for differential heuristic:upper\n",
      "Pool size: 8\n",
      "1.6992385840415887\n",
      "#########Test for differential heuristic:lower\n",
      "Pool size: 8\n",
      "0.06348894669012016\n",
      "#########Test for differential heuristic:median\n",
      "Pool size: 8\n",
      "0.7434670071966206\n"
     ]
    }
   ],
   "source": [
    "klist = [3, 4, 5, 6, 7, 8, 9, 10]\n",
    "for K in klist:\n",
    "    print(\"!!!!!!!!!The number of K: {}\".format(K))\n",
    "    picklist = ['upper', 'lower', 'median']\n",
    "    for pick in picklist:\n",
    "        print(\"#########Test for differential heuristic:{}\".format(pick))\n",
    "        epsilon = 0.01\n",
    "        alg = 'L2'\n",
    "        dis_store = init_dis_store(G)\n",
    "        embedding = difastmap_max(G, K, epsilon, dis_store, alg)\n",
    "        S = int(1000)\n",
    "        subset = sample(list(G.nodes()), S)\n",
    "        results = distortion_dh_mp(G, dis_store, subset, pick)\n",
    "        print(results)"
   ]
  },
  {
   "cell_type": "code",
   "execution_count": 63,
   "metadata": {},
   "outputs": [
    {
     "name": "stdout",
     "output_type": "stream",
     "text": [
      "Pool size: 8\n"
     ]
    },
    {
     "data": {
      "image/png": "[encoded data removed]",
      "text/plain": [
       "<matplotlib.figure.Figure at 0x1537e9eeb8>"
      ]
     },
     "metadata": {},
     "output_type": "display_data"
    },
    {
     "data": {
      "image/png": "[encoded data removed]",
      "text/plain": [
       "<matplotlib.figure.Figure at 0x1538b23f60>"
      ]
     },
     "metadata": {},
     "output_type": "display_data"
    },
    {
     "data": {
      "image/png": "[encoded data removed]",
      "text/plain": [
       "<matplotlib.figure.Figure at 0x15382b7710>"
      ]
     },
     "metadata": {},
     "output_type": "display_data"
    },
    {
     "data": {
      "image/png": "[encoded data removed]",
      "text/plain": [
       "<matplotlib.figure.Figure at 0x150881eb00>"
      ]
     },
     "metadata": {},
     "output_type": "display_data"
    },
    {
     "name": "stdout",
     "output_type": "stream",
     "text": [
      "0.08002620429247838\n",
      "#########Test for differential heuristic:upper\n",
      "Pool size: 8\n",
      "2.7008217699914328\n",
      "#########Test for differential heuristic:lower\n",
      "Pool size: 8\n",
      "0.10785891160781666\n",
      "#########Test for differential heuristic:median\n",
      "Pool size: 8\n",
      "1.3210416302802972\n"
     ]
    }
   ],
   "source": [
    "epsilon = 0.01\n",
    "alg = 'L2'\n",
    "dis_store = init_dis_store(G)\n",
    "embedding_aver = difastmap_average(G, 3, epsilon, dis_store, alg)\n",
    "embedding_max = difastmap_max(G, 3, epsilon, dis_store, alg)\n",
    "S = int(2000)\n",
    "subset = sample(list(G.nodes()), S)\n",
    "results = fastmap_dh_distribution_mp(G, embedding_aver, embedding_max, subset, alg)\n",
    "print(results)\n",
    "picklist = ['upper', 'lower', 'median']\n",
    "for pick in picklist:\n",
    "    print(\"#########Test for differential heuristic:{}\".format(pick))\n",
    "    results = distortion_dh_mp(G, dis_store, subset, pick)\n",
    "    print(results)"
   ]
  },
  {
   "cell_type": "code",
   "execution_count": 105,
   "metadata": {},
   "outputs": [],
   "source": [
    "filepath = \"../data/roadmap/rome99.road\"\n",
    "\n",
    "def readDiGraph_type_even(infile):\n",
    "    G = nx.DiGraph()\n",
    "    with open(infile) as f:\n",
    "        l = f.readline()\n",
    "        while l:\n",
    "            if l[0] != 'a':\n",
    "                l = f.readline()\n",
    "                continue\n",
    "            items = l.strip().split()\n",
    "            if len(items) == 4:\n",
    "                node1, node2, weight = items[1:]\n",
    "                weight = 1.0\n",
    "            elif len(items) == 3:\n",
    "                node1, node2 = items[1:]\n",
    "                wight = 1.0\n",
    "            G.add_edge(node1, node2, weight=float(weight))\n",
    "            l = f.readline()\n",
    "    return G"
   ]
  },
  {
   "cell_type": "code",
   "execution_count": 106,
   "metadata": {},
   "outputs": [],
   "source": [
    "G = readDiGraph_type_even(filepath)"
   ]
  },
  {
   "cell_type": "code",
   "execution_count": 108,
   "metadata": {},
   "outputs": [],
   "source": [
    "dijkstra_path_length = get_dijkstra_path_length(G)"
   ]
  },
  {
   "cell_type": "code",
   "execution_count": 109,
   "metadata": {},
   "outputs": [
    {
     "data": {
      "image/png": "[encoded data removed]",
      "text/plain": [
       "<matplotlib.figure.Figure at 0x1538eb50f0>"
      ]
     },
     "metadata": {},
     "output_type": "display_data"
    }
   ],
   "source": [
    "thedistance_info(G)"
   ]
  },
  {
   "cell_type": "code",
   "execution_count": 112,
   "metadata": {},
   "outputs": [
    {
     "name": "stdout",
     "output_type": "stream",
     "text": [
      "#########Test for K:2\n",
      "Pool size: 8\n",
      "(0.3537921216501952, 48558.0, 908568.0, 3040874.0)\n",
      "#########Test for K:3\n",
      "Pool size: 8\n",
      "(0.19372684343255295, 190986.0, 1557718.0, 2249296.0)\n",
      "#########Test for K:4\n",
      "Pool size: 8\n",
      "(0.11131180062811712, 596268.0, 2223030.0, 1178702.0)\n",
      "#########Test for K:5\n",
      "Pool size: 8\n",
      "(0.10060533522437745, 892156.0, 2309616.0, 796228.0)\n",
      "#########Test for K:6\n",
      "Pool size: 8\n",
      "(0.0972060225564608, 1233014.0, 2273090.0, 491896.0)\n",
      "#########Test for K:7\n",
      "Pool size: 8\n",
      "(0.10565650953050457, 1401226.0, 2149184.0, 447590.0)\n"
     ]
    }
   ],
   "source": [
    "klist = [2,  3,  4,  5, 6, 7]\n",
    "for  K  in  klist:\n",
    "    print(\"#########Test for K:{}\".format(K))\n",
    "    epsilon = 0.01\n",
    "    threshold = 2\n",
    "    alg = 'L2'\n",
    "    dis_store = init_dis_store(G)\n",
    "    embedding = difastmap_average(G, K, epsilon, dis_store, alg)\n",
    "    S = int(2000)\n",
    "    subset = sample(list(G.nodes()), S)\n",
    "    variant = 'average'\n",
    "    results = distortion_analyse_mp(G, embedding, subset, alg, variant, threshold)\n",
    "    print(results)"
   ]
  },
  {
   "cell_type": "code",
   "execution_count": 73,
   "metadata": {},
   "outputs": [
    {
     "name": "stdout",
     "output_type": "stream",
     "text": [
      "#########Test for K:7\n",
      "Pool size: 8\n",
      "(0.10917192458626832, 0.0, 1999000.0, 0.0)\n",
      "#########Test for K:8\n",
      "Pool size: 8\n",
      "(0.11402014604143186, 0.0, 1999000.0, 0.0)\n",
      "#########Test for K:9\n",
      "Pool size: 8\n",
      "(0.11661444560335459, 0.0, 1999000.0, 0.0)\n",
      "#########Test for K:10\n",
      "Pool size: 8\n",
      "(0.13066909322401238, 0.0, 1999000.0, 0.0)\n"
     ]
    }
   ],
   "source": [
    "klist = [7, 8, 9, 10]\n",
    "for  K  in  klist:\n",
    "    print(\"#########Test for K:{}\".format(K))\n",
    "    epsilon = 0.01\n",
    "    threshold = 2\n",
    "    alg = 'L2'\n",
    "    dis_store = init_dis_store(G)\n",
    "    embedding = difastmap_average(G, K, epsilon, dis_store, alg)\n",
    "    S = int(2000)\n",
    "    subset = sample(list(G.nodes()), S)\n",
    "    variant = 'average'\n",
    "    results = distortion_analyse_mp(G, embedding, subset, alg, variant, threshold)\n",
    "    print(results)"
   ]
  },
  {
   "cell_type": "code",
   "execution_count": 72,
   "metadata": {},
   "outputs": [
    {
     "name": "stdout",
     "output_type": "stream",
     "text": [
      "#########Test for K:1\n",
      "Pool size: 8\n",
      "(0.6328455621767153, 0.0, 1539566.0, 459434.0)\n",
      "#########Test for K:2\n",
      "Pool size: 8\n",
      "(0.34435314267735256, 0.0, 1911557.0, 87443.0)\n",
      "#########Test for K:3\n",
      "Pool size: 8\n",
      "(0.27050446250373333, 61.0, 1977052.0, 21887.0)\n",
      "#########Test for K:4\n",
      "Pool size: 8\n",
      "(0.34793298360182334, 17432.0, 1981568.0, 0.0)\n",
      "#########Test for K:5\n",
      "Pool size: 8\n",
      "(0.4576240146529031, 112027.0, 1886973.0, 0.0)\n"
     ]
    }
   ],
   "source": [
    "klist = [1, 2,  3,  4,  5]\n",
    "for  K  in  klist:\n",
    "    print(\"#########Test for K:{}\".format(K))\n",
    "    epsilon = 0.01\n",
    "    threshold = 2\n",
    "    alg = 'L1'\n",
    "    dis_store = init_dis_store(G)\n",
    "    embedding = difastmap_average(G, K, epsilon, dis_store, alg)\n",
    "    S = int(2000)\n",
    "    subset = sample(list(G.nodes()), S)\n",
    "    variant = 'average'\n",
    "    results = distortion_analyse_mp(G, embedding, subset, alg, variant, threshold)\n",
    "    print(results)"
   ]
  },
  {
   "cell_type": "code",
   "execution_count": 113,
   "metadata": {},
   "outputs": [
    {
     "name": "stdout",
     "output_type": "stream",
     "text": [
      "#########Test for K:2\n",
      "Pool size: 8\n",
      "(0.3397634205411569, 74056.0, 865950.0, 3057994.0)\n",
      "#########Test for K:3\n",
      "Pool size: 8\n",
      "(0.1680109579334405, 252432.0, 1646070.0, 2099498.0)\n",
      "#########Test for K:4\n",
      "Pool size: 8\n",
      "(0.13161122641804435, 590384.0, 1962934.0, 1444682.0)\n",
      "#########Test for K:5\n",
      "Pool size: 8\n",
      "(0.09797163216738648, 820614.0, 2319146.0, 858240.0)\n",
      "#########Test for K:6\n",
      "Pool size: 8\n",
      "(0.09885638049084883, 1142422.0, 2235584.0, 619994.0)\n",
      "#########Test for K:7\n",
      "Pool size: 8\n",
      "(0.11312451975950018, 1496198.0, 2006322.0, 495480.0)\n",
      "#########Test for K:8\n",
      "Pool size: 8\n",
      "(0.11451200680482124, 1902014.0, 1871834.0, 224152.0)\n",
      "#########Test for K:9\n",
      "Pool size: 8\n",
      "(0.12012359188075213, 2028742.0, 1786994.0, 182264.0)\n",
      "#########Test for K:10\n",
      "Pool size: 8\n",
      "(0.13617459446773547, 2423072.0, 1428068.0, 146860.0)\n"
     ]
    }
   ],
   "source": [
    "klist = [2,  3,  4,  5, 6, 7, 8, 9, 10]\n",
    "for  K  in  klist:\n",
    "    print(\"#########Test for K:{}\".format(K))\n",
    "    epsilon = 0.01\n",
    "    threshold = 2\n",
    "    alg = 'L2'\n",
    "    dis_store = init_dis_store(G)\n",
    "    embedding = difastmap_max(G, K, epsilon, dis_store, alg)\n",
    "    S = int(2000)\n",
    "    subset = sample(list(G.nodes()), S)\n",
    "    variant = 'max'\n",
    "    results = distortion_analyse_mp(G, embedding, subset, alg, variant, threshold)\n",
    "    print(results)"
   ]
  },
  {
   "cell_type": "code",
   "execution_count": 75,
   "metadata": {},
   "outputs": [
    {
     "name": "stdout",
     "output_type": "stream",
     "text": [
      "#########Test for K1:2, K2:2\n",
      "Pool size: 8\n",
      "0.42098653684904946\n",
      "#########Test for K1:2, K2:3\n",
      "Pool size: 8\n",
      "0.601322380702411\n",
      "#########Test for K1:2, K2:4\n",
      "Pool size: 8\n",
      "0.6758645919853101\n",
      "#########Test for K1:2, K2:5\n",
      "Pool size: 8\n",
      "0.7287802535244805\n",
      "#########Test for K1:2, K2:6\n",
      "Pool size: 8\n",
      "0.7160597828339327\n",
      "#########Test for K1:2, K2:7\n",
      "Pool size: 8\n",
      "0.8864961528187632\n",
      "#########Test for K1:3, K2:2\n",
      "Pool size: 8\n",
      "0.27577527733643137\n",
      "#########Test for K1:3, K2:3\n",
      "Pool size: 8\n",
      "0.31095853033016807\n",
      "#########Test for K1:3, K2:4\n",
      "Pool size: 8\n",
      "0.22471439916383318\n",
      "#########Test for K1:3, K2:5\n",
      "Pool size: 8\n",
      "0.5125296717832989\n",
      "#########Test for K1:3, K2:6\n",
      "Pool size: 8\n",
      "0.27773196935936784\n",
      "#########Test for K1:3, K2:7\n",
      "Pool size: 8\n",
      "0.4464138950181875\n",
      "#########Test for K1:4, K2:2\n",
      "Pool size: 8\n",
      "0.3028499493847213\n",
      "#########Test for K1:4, K2:3\n",
      "Pool size: 8\n",
      "0.18866758078139687\n",
      "#########Test for K1:4, K2:4\n",
      "Pool size: 8\n",
      "0.20572595373952515\n",
      "#########Test for K1:4, K2:5\n",
      "Pool size: 8\n",
      "0.1880584383234236\n",
      "#########Test for K1:4, K2:6\n",
      "Pool size: 8\n",
      "0.21158054145738275\n",
      "#########Test for K1:4, K2:7\n",
      "Pool size: 8\n",
      "0.23031023634258171\n",
      "#########Test for K1:5, K2:2\n",
      "Pool size: 8\n",
      "0.38489212374609005\n",
      "#########Test for K1:5, K2:3\n",
      "Pool size: 8\n",
      "0.21087437784753618\n",
      "#########Test for K1:5, K2:4\n",
      "Pool size: 8\n",
      "0.1509015964157935\n",
      "#########Test for K1:5, K2:5\n",
      "Pool size: 8\n",
      "0.16748312273071886\n",
      "#########Test for K1:5, K2:6\n",
      "Pool size: 8\n",
      "0.17258168352629763\n",
      "#########Test for K1:5, K2:7\n",
      "Pool size: 8\n",
      "0.18934122050036517\n",
      "#########Test for K1:6, K2:2\n",
      "Pool size: 8\n",
      "0.42083418065780237\n",
      "#########Test for K1:6, K2:3\n",
      "Pool size: 8\n",
      "0.22444713728186366\n",
      "#########Test for K1:6, K2:4\n",
      "Pool size: 8\n",
      "0.20523191970082702\n",
      "#########Test for K1:6, K2:5\n",
      "Pool size: 8\n",
      "0.17688049542955342\n",
      "#########Test for K1:6, K2:6\n",
      "Pool size: 8\n",
      "0.1614984725531796\n",
      "#########Test for K1:6, K2:7\n",
      "Pool size: 8\n",
      "0.1635652345302869\n",
      "#########Test for K1:7, K2:2\n",
      "Pool size: 8\n",
      "0.4667346156294976\n",
      "#########Test for K1:7, K2:3\n",
      "Pool size: 8\n",
      "0.25506744853751045\n",
      "#########Test for K1:7, K2:4\n",
      "Pool size: 8\n",
      "0.22206150443438075\n",
      "#########Test for K1:7, K2:5\n",
      "Pool size: 8\n",
      "0.17601822434544487\n",
      "#########Test for K1:7, K2:6\n",
      "Pool size: 8\n",
      "0.17604042090347352\n",
      "#########Test for K1:7, K2:7\n",
      "Pool size: 8\n",
      "0.16169440023872134\n"
     ]
    }
   ],
   "source": [
    "klist = [2, 3, 4, 5, 6, 7]\n",
    "for K1 in klist:\n",
    "    for K2 in klist:\n",
    "        print(\"#########Test for K1:{}, K2:{}\".format(K1, K2))\n",
    "        epsilon = 0.01\n",
    "        alg = 'L2'\n",
    "        dis_store = init_dis_store(G)\n",
    "        embedding_aver = difastmap_average(G, K1, epsilon, dis_store, alg)\n",
    "        embedding_max = difastmap_max(G, K2, epsilon, dis_store, alg)\n",
    "        S = int(1000)\n",
    "        subset = sample(list(G.nodes()), S)\n",
    "        results = distortion_min_mp(G, embedding_aver, embedding_max, subset, alg)\n",
    "        print(results)"
   ]
  },
  {
   "cell_type": "code",
   "execution_count": 114,
   "metadata": {},
   "outputs": [
    {
     "name": "stdout",
     "output_type": "stream",
     "text": [
      "!!!!!!!!!The number of K: 3\n",
      "#########Test for differential heuristic:upper\n",
      "Pool size: 8\n",
      "0.6107369140594627\n",
      "#########Test for differential heuristic:lower\n",
      "Pool size: 8\n",
      "0.2801010842300045\n",
      "#########Test for differential heuristic:median\n",
      "Pool size: 8\n",
      "0.2945917823968205\n",
      "!!!!!!!!!The number of K: 4\n",
      "#########Test for differential heuristic:upper\n",
      "Pool size: 8\n",
      "0.5829227164157439\n",
      "#########Test for differential heuristic:lower\n",
      "Pool size: 8\n",
      "0.2362909139342199\n",
      "#########Test for differential heuristic:median\n",
      "Pool size: 8\n",
      "0.22982649777216052\n",
      "!!!!!!!!!The number of K: 5\n",
      "#########Test for differential heuristic:upper\n",
      "Pool size: 8\n",
      "0.5188444252035928\n",
      "#########Test for differential heuristic:lower\n",
      "Pool size: 8\n",
      "0.208041907553956\n",
      "#########Test for differential heuristic:median\n",
      "Pool size: 8\n",
      "0.18153763342398604\n",
      "!!!!!!!!!The number of K: 6\n",
      "#########Test for differential heuristic:upper\n",
      "Pool size: 8\n",
      "0.4967863726746566\n",
      "#########Test for differential heuristic:lower\n",
      "Pool size: 8\n",
      "0.1840280171229863\n",
      "#########Test for differential heuristic:median\n",
      "Pool size: 8\n",
      "0.17647303060345193\n",
      "!!!!!!!!!The number of K: 7\n",
      "#########Test for differential heuristic:upper\n",
      "Pool size: 8\n",
      "0.41719745669931935\n",
      "#########Test for differential heuristic:lower\n",
      "Pool size: 8\n",
      "0.17484815583193938\n",
      "#########Test for differential heuristic:median\n",
      "Pool size: 8\n",
      "0.17094258480627675\n",
      "!!!!!!!!!The number of K: 8\n",
      "#########Test for differential heuristic:upper\n",
      "Pool size: 8\n",
      "0.3814009647731297\n",
      "#########Test for differential heuristic:lower\n",
      "Pool size: 8\n",
      "0.1654853570618095\n",
      "#########Test for differential heuristic:median\n",
      "Pool size: 8\n",
      "0.1670051066434927\n",
      "!!!!!!!!!The number of K: 9\n",
      "#########Test for differential heuristic:upper\n",
      "Pool size: 8\n",
      "0.36437723521110627\n",
      "#########Test for differential heuristic:lower\n",
      "Pool size: 8\n",
      "0.16258245781046501\n",
      "#########Test for differential heuristic:median\n",
      "Pool size: 8\n",
      "0.16646099484135166\n",
      "!!!!!!!!!The number of K: 10\n",
      "#########Test for differential heuristic:upper\n",
      "Pool size: 8\n",
      "0.32567936116296486\n",
      "#########Test for differential heuristic:lower\n",
      "Pool size: 8\n",
      "0.15195385125128258\n",
      "#########Test for differential heuristic:median\n",
      "Pool size: 8\n",
      "0.15208545512541677\n"
     ]
    }
   ],
   "source": [
    "klist = [3, 4, 5, 6, 7, 8, 9, 10]\n",
    "for K in klist:\n",
    "    print(\"!!!!!!!!!The number of K: {}\".format(K))\n",
    "    picklist = ['upper', 'lower', 'median']\n",
    "    for pick in picklist:\n",
    "        print(\"#########Test for differential heuristic:{}\".format(pick))\n",
    "        epsilon = 0.01\n",
    "        alg = 'L2'\n",
    "        dis_store = init_dis_store(G)\n",
    "        embedding = difastmap_max(G, K, epsilon, dis_store, alg)\n",
    "        S = int(1000)\n",
    "        subset = sample(list(G.nodes()), S)\n",
    "        results = distortion_dh_mp(G, dis_store, subset, pick)\n",
    "        print(results)"
   ]
  },
  {
   "cell_type": "code",
   "execution_count": 115,
   "metadata": {},
   "outputs": [
    {
     "name": "stdout",
     "output_type": "stream",
     "text": [
      "Pool size: 8\n"
     ]
    },
    {
     "data": {
      "image/png": "[encoded data removed]",
      "text/plain": [
       "<matplotlib.figure.Figure at 0x1536a57b70>"
      ]
     },
     "metadata": {},
     "output_type": "display_data"
    },
    {
     "data": {
      "image/png": "[encoded data removed]",
      "text/plain": [
       "<matplotlib.figure.Figure at 0x1539979be0>"
      ]
     },
     "metadata": {},
     "output_type": "display_data"
    },
    {
     "data": {
      "image/png": "[encoded data removed]",
      "text/plain": [
       "<matplotlib.figure.Figure at 0x15360692b0>"
      ]
     },
     "metadata": {},
     "output_type": "display_data"
    },
    {
     "data": {
      "image/png": "[encoded data removed]",
      "text/plain": [
       "<matplotlib.figure.Figure at 0x1536463fd0>"
      ]
     },
     "metadata": {},
     "output_type": "display_data"
    },
    {
     "name": "stdout",
     "output_type": "stream",
     "text": [
      "0.11223329547142662\n",
      "#########Test for differential heuristic:upper\n",
      "Pool size: 8\n",
      "0.43915401738362864\n",
      "#########Test for differential heuristic:lower\n",
      "Pool size: 8\n",
      "0.19338731553426086\n",
      "#########Test for differential heuristic:median\n",
      "Pool size: 8\n",
      "0.1794725519572253\n"
     ]
    }
   ],
   "source": [
    "epsilon = 0.01\n",
    "alg = 'L2'\n",
    "dis_store = init_dis_store(G)\n",
    "embedding_aver = difastmap_average(G, 5, epsilon, dis_store, alg)\n",
    "embedding_max = difastmap_max(G, 4, epsilon, dis_store, alg)\n",
    "S = int(2000)\n",
    "subset = sample(list(G.nodes()), S)\n",
    "results = fastmap_dh_distribution_mp(G, embedding_aver, embedding_max, subset, alg)\n",
    "print(results)\n",
    "picklist = ['upper', 'lower', 'median']\n",
    "for pick in picklist:\n",
    "    print(\"#########Test for differential heuristic:{}\".format(pick))\n",
    "    results = distortion_dh_mp(G, dis_store, subset, pick)\n",
    "    print(results)"
   ]
  },
  {
   "cell_type": "markdown",
   "metadata": {},
   "source": [
    "**Conclution**\n",
    "\n",
    "Here we have found some interesting phenomena which can explain the first results got on the origin roadmap which has great differential between distances.\n",
    "\n",
    "1. The scale of edges' weight don't influence the approximation for both `DH` and `FastMap`.\n",
    "2. However, the difference between pathes have a great influence on `DH`, while have nearly nothing to do with `FastMap`.\n",
    "    - When edge difference is large: original roadmap with road length\n",
    "        - `Lower bound` can approximate the distance very well even when the number of pivot nodes is very small.\n",
    "        - `Median` and `Upper bound` are very bed.\n",
    "    - When edge difference is small: equal weigth roadmap\n",
    "        - `Lower bound` is much worse.\n",
    "        - `Median` is the best\n",
    "        - The total performance of DH is worse than FastMap.\n",
    "    - FastMap\n",
    "        - Doesn't influenced by the difference of distances\n",
    "        - Think about `RandomGraph`, it's clear that the structure may influence the performance of FastMap a lot.\n",
    "        - The combination can alway (unless $K$ is too big, which makes it's not competetive on random graph) improve the total performance and better than DH, especially when $K$ is small and the difference between disances is small.\n",
    "3. But from the experiment results from Random Graph, the structure still plays a more important role."
   ]
  },
  {
   "cell_type": "markdown",
   "metadata": {},
   "source": [
    "## More interesting questions\n",
    "\n",
    "1. Analysis the influence of `structures`.\n",
    "    - We already done Random graph (general) and roadmap (grid)\n",
    "    - But we need more analyses on specific structure\n",
    "        - Core-periphery\n",
    "        - Cycle\n",
    "        - Density\n",
    "        - ...\n",
    "2. Improve the combination more.\n",
    "    - I'm currently thinking the result of it is influenced by structure.\n",
    "    - But showed by the experiment result of distribution, we can still expect a improvements.\n",
    "3. More than combined strategy:\n",
    "    - Currently, the core contribution seems to lies on improving DH result by fine-tune it through FastMap.\n",
    "    - However, we ruined the properties of `admissible`\n",
    "    - So we need to find the structure that will carry more significant improvements.\n",
    "    - Or we need to find a perspective like using FastMap to turn general graph problems into Euclidean space and making use of more structures in Euclidean space. In other words, how to combine the two embedding."
   ]
  },
  {
   "cell_type": "code",
   "execution_count": null,
   "metadata": {},
   "outputs": [],
   "source": []
  }
 ],
 "metadata": {
  "kernelspec": {
   "display_name": "Python 3",
   "language": "python",
   "name": "python3"
  },
  "language_info": {
   "codemirror_mode": {
    "name": "ipython",
    "version": 3
   },
   "file_extension": ".py",
   "mimetype": "text/x-python",
   "name": "python",
   "nbconvert_exporter": "python",
   "pygments_lexer": "ipython3",
   "version": "3.6.4"
  }
 },
 "nbformat": 4,
 "nbformat_minor": 2
}
