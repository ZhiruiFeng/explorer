{
 "cells": [
  {
   "cell_type": "markdown",
   "metadata": {},
   "source": [
    "# Analysis of FastMap Algorithm on Directed Graph\n",
    "\n",
    "The content of this analysis includes:\n",
    "\n",
    "1. Dataset - testing graph:\n",
    "    - Generated random graph\n",
    "    - Some directed networks from [Stanford Large Network Dataset Collection (SNAP)](https://snap.stanford.edu/data/)\n",
    "2. Variant of FastMap on directed graph:\n",
    "    - Two embeddings:\n",
    "        1. $h_1(i, j)=\\frac{d_{ij}+d_{ji}}{2}$\n",
    "        2. $h_2(i, j)=\\frac{|d_{ij}-d_{ji}|}{2}$\n",
    "    - Part accurate distances: a byproduct, every nodes' distances with some pivot nodes\n",
    "3. Evaluation:\n",
    "    - Precision of picking the bigger one of $d_{ij}$ and $d_{ji}$, using stroed distances\n",
    "    - Distortion of embedding:\n",
    "        1. Using real comparation result of $d_{ij}$ and $d_{ji}$, then $h(i,j)=h_1(i, j)\\pm h_2(i, j)$\n",
    "        2. Using prediction of comparation result of $d_{ij}$ and $d_{ji}$, then $h(i,j)=h_1(i, j)\\pm h_2(i, j)$\n",
    "        3. Using stroed distances to fine-tune heuristic value from embedding.\n",
    "4. Experiments and results"
   ]
  },
  {
   "cell_type": "code",
   "execution_count": 1,
   "metadata": {},
   "outputs": [],
   "source": [
    "# Add libraries\n",
    "%load_ext autoreload\n",
    "%autoreload 2\n",
    "import os, sys\n",
    "lib_path = os.path.abspath(os.path.join('../heuristic/'))\n",
    "sys.path.append(lib_path)\n",
    "\n",
    "import fastmap.utils as utils\n",
    "from fastmap.difastmap import init_dis_store, difastmap_average, difastmap_diff \n",
    "import fastmap.analyse as analyse\n",
    "\n",
    "import matplotlib.pyplot as plt\n",
    "import networkx as nx\n",
    "import random"
   ]
  },
  {
   "cell_type": "markdown",
   "metadata": {},
   "source": [
    "## Generate random testing graph:\n",
    "\n",
    "1. `generate_random_digraph(n, p, low, high)`: generate a directed graph with `n` nodes, and every edge have positive weith range in `[low, high]`, it make sure the graph is strongly connected, otherwise there is a warning for increasing `p` (the probability of an directed edge exist between two nodes). Density $D = \\frac{|E|}{|V|(|V|-1)}$ is also printed.\n",
    "\n",
    "2. `distance_info(G)`: show the distribution of distances between nodes."
   ]
  },
  {
   "cell_type": "code",
   "execution_count": 18,
   "metadata": {},
   "outputs": [],
   "source": [
    "def generate_random_digraph(n, p, low, high):\n",
    "    for i in range(100):\n",
    "        G = nx.gnp_random_graph(n, p, directed = True)\n",
    "        if nx.is_strongly_connected(G):\n",
    "            break\n",
    "    if nx.is_strongly_connected(G) == False:\n",
    "        print(\"Unable to generate strongly connected graph, try increase 'p'.\")\n",
    "    density = float(len(G.edges()))/(n*(n-1))\n",
    "    print(\"Density: {}\".format(density))\n",
    "    for (n1, n2) in G.edges():\n",
    "        G[n1][n2]['weight']=random.randint(low, high)\n",
    "    return G, density\n",
    "\n",
    "def distance_info(G):\n",
    "    dis = []\n",
    "    for node in list(G.nodes()):\n",
    "        length = nx.single_source_dijkstra_path_length(G, node)\n",
    "        dis.extend(list(length.values()))\n",
    "    x = list(set(dis))\n",
    "    y = []\n",
    "    for i in x:\n",
    "        y.append(dis.count(i))\n",
    "    y[0]=0\n",
    "    s = sum(y)\n",
    "    for i in range(len(y)):\n",
    "        y[i] = float(y[i])/s\n",
    "    plt.plot(x,y,'r-o', linewidth=1)\n",
    "    plt.xlabel('distance')\n",
    "    plt.ylabel('count (persents)')\n",
    "    plt.title('Statistic of pair distances')\n",
    "    plt.show()"
   ]
  },
  {
   "cell_type": "markdown",
   "metadata": {},
   "source": [
    "An example:"
   ]
  },
  {
   "cell_type": "code",
   "execution_count": 19,
   "metadata": {},
   "outputs": [
    {
     "name": "stdout",
     "output_type": "stream",
     "text": [
      "Density: 0.007018018018018018\n"
     ]
    },
    {
     "data": {
      "image/png": "[encoded data removed]",
      "text/plain": [
       "<matplotlib.figure.Figure at 0x11109f4a8>"
      ]
     },
     "metadata": {},
     "output_type": "display_data"
    }
   ],
   "source": [
    "n = 1000\n",
    "p = 0.007\n",
    "low = 1\n",
    "high = 5\n",
    "\n",
    "G,_ = generate_random_digraph(n, p, low, high)\n",
    "distance_info(G)"
   ]
  },
  {
   "cell_type": "markdown",
   "metadata": {},
   "source": [
    "## Variant algorithms of embedding\n",
    "\n",
    "![Figure](alg-fastmap.png)\n",
    "\n",
    "1. `init_dis_store()`: init the data structure to store every nodes' distances to pivot nodes, the store process will be finish while doing the embedding.\n",
    "\n",
    "2. `difastmap_average(G, K, epsilon, dis_store, alg='L1')`: used to get the embedding of average distances.\n",
    "\n",
    "3. `difastmap_diff(G, K, epsilon, dis_store, alg='L1')`: used to get the embedding of absolute difference of distance.\n",
    "\n",
    "An example:"
   ]
  },
  {
   "cell_type": "code",
   "execution_count": 21,
   "metadata": {},
   "outputs": [
    {
     "name": "stdout",
     "output_type": "stream",
     "text": [
      "Node 614:\n",
      "[6.325, 8.042461608118403, 6.44658376595255, 6.479636442230581, 7.73458994599847, 7.772058097298405, 7.174728132219819, 7.233603101050599, 6.166457694005503, 5.588314172741528, 3.2053345106523268, 6.824782388628141, 6.44780240911064, 5.824723252576411, 4.5434089176598365, 6.423447739583986, 6.409712750561176, 5.924582333014045, 7.5058258144492775, 4.846270179392789]\n",
      "[3.2045454545454546, 2.4830983944420693, 1.7769330636610294, 2.703634453903815, 2.034123409741144, 2.688250122476972, 2.2667709351357415, 2.2021147569161164, 3.415484867996177, 2.6139967992568534, 2.2112131904684733, 2.1600702485014285, 3.1213915108414154, 3.22109389942683, 1.7224289305848648, 1.7372680917256171, 3.631318738973803, 2.2521545629129176, 2.3791793228127753, 2.1168648208533223]\n"
     ]
    }
   ],
   "source": [
    "K = 20\n",
    "epsilon = 0.01\n",
    "alg = 'L2'\n",
    "dis_store = init_dis_store(G)\n",
    "embedding_aver = difastmap_average(G, K, epsilon, dis_store, alg)\n",
    "embedding_diff = difastmap_diff(G, K, epsilon, dis_store, alg)\n",
    "S = 1\n",
    "subset = random.sample(list(G.nodes()), S)\n",
    "for i in subset:\n",
    "    print(\"Node {}:\\n{}\\n{}\".format(i, embedding_aver[i], embedding_diff[i]))"
   ]
  },
  {
   "cell_type": "markdown",
   "metadata": {},
   "source": [
    "## Evaluation functions\n",
    "\n",
    "`dinrmsd(G, embedding_aver, embedding_diff, dis_store, S, alg = 'L1')`: the function for evaluate the performance of the heuristic. `S` is the number of subset choosed for evaluation, and the `alg` should be set as the one used in FastMap embedding.\n",
    "\n",
    "The output has four value:\n",
    "\n",
    "- Precision of comparing $d_{ij}$, $d_{ji}$\n",
    "- Distortion when:\n",
    "    - Real comparision\n",
    "    - Predicted comparision\n",
    "    - Fine-tuned distance\n",
    "    \n",
    "Using the Normalized Root Mean Square Deviation (NRMSD):\n",
    "$$\\sigma = \\sqrt{\\frac{\\sum_{1\\le i < j\\le S}{(d_{ij}-x_{ij})^2}}{S(S-1)}}$$\n",
    "$$\\bar{d}=\\frac{\\sum_{1\\le i < j\\le S}{d_{ij}}}{S(S-1)}$$"
   ]
  },
  {
   "cell_type": "code",
   "execution_count": 34,
   "metadata": {},
   "outputs": [
    {
     "name": "stdout",
     "output_type": "stream",
     "text": [
      "Analysis Process: 0.0%\n",
      "Precision: 0.7421052631578947\n",
      "Distortion_real: 0.2775127004423273\n",
      "Distortion_pred: 0.32448200134466887\n",
      "Distortion_tune: 0.25130986069654365\n"
     ]
    }
   ],
   "source": [
    "S = int(0.2*len(list(G.nodes())))\n",
    "results = analyse.dinrmsd(G, embedding_aver, embedding_diff,dis_store, S, alg)\n",
    "print(\"\\nPrecision: \"+str(results[0]))\n",
    "print(\"Distortion_real: \"+ str(results[1]))\n",
    "print(\"Distortion_pred: \"+ str(results[2]))\n",
    "print(\"Distortion_tune: \"+ str(results[3]))"
   ]
  },
  {
   "cell_type": "markdown",
   "metadata": {},
   "source": [
    "## Experiments"
   ]
  },
  {
   "cell_type": "code",
   "execution_count": null,
   "metadata": {},
   "outputs": [],
   "source": []
  }
 ],
 "metadata": {
  "kernelspec": {
   "display_name": "Python 3",
   "language": "python",
   "name": "python3"
  },
  "language_info": {
   "codemirror_mode": {
    "name": "ipython",
    "version": 3
   },
   "file_extension": ".py",
   "mimetype": "text/x-python",
   "name": "python",
   "nbconvert_exporter": "python",
   "pygments_lexer": "ipython3",
   "version": "3.6.4"
  }
 },
 "nbformat": 4,
 "nbformat_minor": 2
}
