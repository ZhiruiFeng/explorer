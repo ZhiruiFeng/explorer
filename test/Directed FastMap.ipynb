{
 "cells": [
  {
   "cell_type": "markdown",
   "metadata": {},
   "source": [
    "# Analysis of FastMap Algorithm on Directed Graph\n",
    "\n",
    "The content of this analysis includes:\n",
    "\n",
    "1. Dataset - testing graph:\n",
    "    - Generated random graph\n",
    "    - Some directed networks from [Stanford Large Network Dataset Collection (SNAP)](https://snap.stanford.edu/data/)\n",
    "2. Variant of FastMap on directed graph:\n",
    "    - Two embeddings:\n",
    "        1. $h_1(i, j)=\\frac{d_{ij}+d_{ji}}{2}$\n",
    "        2. $h_2(i, j)=\\frac{|d_{ij}-d_{ji}|}{2}$\n",
    "    - Part accurate distances: a byproduct, every nodes' distances with some pivot nodes\n",
    "3. Evaluation:\n",
    "    - Precision of picking the bigger one of $d_{ij}$ and $d_{ji}$, using stroed distances\n",
    "    - Distortion of embedding:\n",
    "        1. Using real comparation result of $d_{ij}$ and $d_{ji}$, then $h(i,j)=h_1(i, j)\\pm h_2(i, j)$\n",
    "        2. Using prediction of comparation result of $d_{ij}$ and $d_{ji}$, then $h(i,j)=h_1(i, j)\\pm h_2(i, j)$\n",
    "        3. Using stroed distances to fine-tune heuristic value from embedding.\n",
    "4. Experiments and results"
   ]
  },
  {
   "cell_type": "code",
   "execution_count": 11,
   "metadata": {},
   "outputs": [
    {
     "name": "stdout",
     "output_type": "stream",
     "text": [
      "The autoreload extension is already loaded. To reload it, use:\n",
      "  %reload_ext autoreload\n"
     ]
    }
   ],
   "source": [
    "# Add libraries\n",
    "%load_ext autoreload\n",
    "%autoreload 2\n",
    "import os, sys\n",
    "lib_path = os.path.abspath(os.path.join('../heuristic/'))\n",
    "sys.path.append(lib_path)\n",
    "\n",
    "import fastmap.utils as utils\n",
    "from fastmap.difastmap import init_dis_store, difastmap_average, difastmap_diff \n",
    "import fastmap.analyse as analyse\n",
    "\n",
    "import matplotlib.pyplot as plt\n",
    "import networkx as nx\n",
    "import random\n",
    "import multiprocessing as mp\n",
    "from random import sample"
   ]
  },
  {
   "cell_type": "markdown",
   "metadata": {},
   "source": [
    "## Generate random testing graph:\n",
    "\n",
    "1. `generate_random_digraph(n, p, low, high)`: generate a directed graph with `n` nodes, and every edge have positive weith range in `[low, high]`, it make sure the graph is strongly connected, otherwise there is a warning for increasing `p` (the probability of an directed edge exist between two nodes). Density $D = \\frac{|E|}{|V|(|V|-1)}$ is also printed.\n",
    "\n",
    "2. `distance_info(G)`: show the distribution of distances between nodes."
   ]
  },
  {
   "cell_type": "code",
   "execution_count": 7,
   "metadata": {
    "collapsed": true
   },
   "outputs": [],
   "source": [
    "def generate_random_digraph(n, p, low, high):\n",
    "    for i in range(100):\n",
    "        G = nx.gnp_random_graph(n, p, directed = True)\n",
    "        if nx.is_strongly_connected(G):\n",
    "            break\n",
    "    if nx.is_strongly_connected(G) == False:\n",
    "        print(\"Unable to generate strongly connected graph, try increase 'p'.\")\n",
    "    density = float(len(G.edges()))/(n*(n-1))\n",
    "    print(\"Density: {}\".format(density))\n",
    "    for (n1, n2) in G.edges():\n",
    "        G[n1][n2]['weight']=random.randint(low, high)\n",
    "    return G, density\n",
    "\n",
    "def distance_info(G):\n",
    "    dis = []\n",
    "    for node in list(G.nodes()):\n",
    "        length = nx.single_source_dijkstra_path_length(G, node)\n",
    "        dis.extend(list(length.values()))\n",
    "    x = list(set(dis))\n",
    "    y = []\n",
    "    for i in x:\n",
    "        y.append(dis.count(i))\n",
    "    y[0]=0\n",
    "    s = sum(y)\n",
    "    for i in range(len(y)):\n",
    "        y[i] = float(y[i])/s\n",
    "    plt.plot(x,y,'r-o', linewidth=1)\n",
    "    plt.xlabel('distance')\n",
    "    plt.ylabel('count (persents)')\n",
    "    plt.title('Statistic of pair distances')\n",
    "    plt.show()"
   ]
  },
  {
   "cell_type": "markdown",
   "metadata": {},
   "source": [
    "An example:"
   ]
  },
  {
   "cell_type": "code",
   "execution_count": 8,
   "metadata": {},
   "outputs": [
    {
     "name": "stdout",
     "output_type": "stream",
     "text": [
      "Density: 0.006914914914914915\n"
     ]
    },
    {
     "data": {
      "image/png": "[encoded data removed]",
      "text/plain": [
       "<matplotlib.figure.Figure at 0x10c12ce48>"
      ]
     },
     "metadata": {},
     "output_type": "display_data"
    }
   ],
   "source": [
    "n = 1000\n",
    "p = 0.007\n",
    "low = 1\n",
    "high = 5\n",
    "\n",
    "G,_ = generate_random_digraph(n, p, low, high)\n",
    "distance_info(G)"
   ]
  },
  {
   "cell_type": "markdown",
   "metadata": {},
   "source": [
    "## Variant algorithms of embedding\n",
    "\n",
    "![Figure](alg-fastmap.png)\n",
    "\n",
    "1. `init_dis_store()`: init the data structure to store every nodes' distances to pivot nodes, the store process will be finish while doing the embedding.\n",
    "\n",
    "2. `difastmap_average(G, K, epsilon, dis_store, alg='L1')`: used to get the embedding of average distances.\n",
    "\n",
    "3. `difastmap_diff(G, K, epsilon, dis_store, alg='L1')`: used to get the embedding of absolute difference of distance.\n",
    "\n",
    "An example:"
   ]
  },
  {
   "cell_type": "code",
   "execution_count": 9,
   "metadata": {},
   "outputs": [
    {
     "name": "stdout",
     "output_type": "stream",
     "text": [
      "Node 615:\n",
      "[6.8515625, 6.869523113320263, 8.86154091225234, 7.447200452656599, 4.570804725755498, 7.039477015550669, 7.947599572978912, 7.54693705678538, 6.581930003238539, 7.292301424999881, 7.334134129143072, 7.641522790874139, 3.6532162142276006, 5.479246675188485, 3.5562385536760877, 5.080480419662634, 9.153607874877116, 7.3721225089425495, 5.187185181407477, 3.761223536217223]\n",
      "[3.0, 2.391431320862214, 2.0418466458986084, 4.721513982627134, 2.2740423124710687, 2.9807466530928903, 2.3655505967376222, 2.819873344059838, 2.7117007952706125, 2.3214125245991517, 3.1971581046880404, 3.1583191672285813, 1.8757985049002799, 2.4770051376754214, 2.2216308634309123, 1.950087116729213, 2.2695443798824804, 2.010669581056012, 2.650940252239136, 2.871613803893437]\n"
     ]
    }
   ],
   "source": [
    "K = 20\n",
    "epsilon = 0.01\n",
    "alg = 'L2'\n",
    "dis_store = init_dis_store(G)\n",
    "embedding_aver = difastmap_average(G, K, epsilon, dis_store, alg)\n",
    "embedding_diff = difastmap_diff(G, K, epsilon, dis_store, alg)\n",
    "S = 1\n",
    "subset = random.sample(list(G.nodes()), S)\n",
    "for i in subset:\n",
    "    print(\"Node {}:\\n{}\\n{}\".format(i, embedding_aver[i], embedding_diff[i]))"
   ]
  },
  {
   "cell_type": "markdown",
   "metadata": {},
   "source": [
    "## Evaluation functions\n",
    "\n",
    "`dinrmsd(G, embedding_aver, embedding_diff, dis_store, S, alg = 'L1')`: the function for evaluate the performance of the heuristic. `S` is the number of subset choosed for evaluation, and the `alg` should be set as the one used in FastMap embedding.\n",
    "\n",
    "The output has four value:\n",
    "\n",
    "- Precision of comparing $d_{ij}$, $d_{ji}$\n",
    "- Distortion when:\n",
    "    - Real comparision\n",
    "    - Predicted comparision\n",
    "    - Fine-tuned distance\n",
    "    \n",
    "Using the Normalized Root Mean Square Deviation (NRMSD):\n",
    "$$\\sigma = \\sqrt{\\frac{\\sum_{1\\le i < j\\le S}{(d_{ij}-x_{ij})^2}}{S(S-1)}}$$\n",
    "$$\\bar{d}=\\frac{\\sum_{1\\le i < j\\le S}{d_{ij}}}{S(S-1)}$$"
   ]
  },
  {
   "cell_type": "code",
   "execution_count": 34,
   "metadata": {},
   "outputs": [
    {
     "name": "stdout",
     "output_type": "stream",
     "text": [
      "Analysis Process: 0.0%\n",
      "Precision: 0.7421052631578947\n",
      "Distortion_real: 0.2775127004423273\n",
      "Distortion_pred: 0.32448200134466887\n",
      "Distortion_tune: 0.25130986069654365\n"
     ]
    }
   ],
   "source": [
    "S = int(0.2*len(list(G.nodes())))\n",
    "results = analyse.dinrmsd(G, embedding_aver, embedding_diff,dis_store, S, alg)\n",
    "print(\"\\nPrecision: \"+str(results[0]))\n",
    "print(\"Distortion_real: \"+ str(results[1]))\n",
    "print(\"Distortion_pred: \"+ str(results[2]))\n",
    "print(\"Distortion_tune: \"+ str(results[3]))"
   ]
  },
  {
   "cell_type": "markdown",
   "metadata": {},
   "source": [
    "## Experiments"
   ]
  },
  {
   "cell_type": "code",
   "execution_count": null,
   "metadata": {},
   "outputs": [],
   "source": [
    "# Test for real sets:\n",
    "K = 40\n",
    "in_directory = \"../data/snap/\"\n",
    "files= os.listdir(in_directory)\n",
    "for file in files:\n",
    "    if not os.path.isdir(file) and file[0:3]=='p2p':\n",
    "        print(\"Test for real dataset:{}\".format(file))\n",
    "        name = file\n",
    "        G = utils.readDiGraph(in_directory+name)\n",
    "        n = len(list(G.nodes()))\n",
    "        density = float(len(G.edges()))/(n*(n-1))\n",
    "        epsilon = 0.01\n",
    "        alg = 'L2'\n",
    "        dis_store = init_dis_store(G)\n",
    "        embedding_aver = difastmap_average(G, K, epsilon, dis_store, alg)\n",
    "        embedding_diff = difastmap_diff(G, K, epsilon, dis_store, alg)\n",
    "        S = int(0.2*len(list(G.nodes())))\n",
    "        if S > 400:\n",
    "            S = 400\n",
    "        results = analyse.dinrmsd(G, embedding_aver, embedding_diff,dis_store, S, alg)\n",
    "        print(\"\\nPrecision: \"+str(results[0]))\n",
    "        print(\"Distortion_real: \"+ str(results[1]))\n",
    "        print(\"Distortion_pred: \"+ str(results[2]))\n",
    "        print(\"Distortion_tune: \"+ str(results[3]))\n",
    "        results.append(density)\n",
    "        print(\"Density: \"+str(density))\n",
    "        name = 'Real-'+str(name)\n",
    "        all_result[name] = results\n",
    "\n",
    "# Test K\n",
    "      \n",
    "n = 1000\n",
    "p = 0.007\n",
    "low = 1\n",
    "high = 5\n",
    "\n",
    "G,density = generate_random_digraph(n, p, low, high)\n",
    "distance_info(G)\n",
    "\n",
    "k_list = [20,25,30,35,40, 45, 50]\n",
    "all_result = {}\n",
    "for K in k_list:\n",
    "    print(\"Test for K:{}\".format(K))\n",
    "    epsilon = 0.01\n",
    "    alg = 'L2'\n",
    "    dis_store = init_dis_store(G)\n",
    "    embedding_aver = difastmap_average(G, K, epsilon, dis_store, alg)\n",
    "    embedding_diff = difastmap_diff(G, K, epsilon, dis_store, alg)\n",
    "    S = int(0.2*len(list(G.nodes())))\n",
    "    results = analyse.dinrmsd(G, embedding_aver, embedding_diff,dis_store, S, alg)\n",
    "    print(\"\\nPrecision: \"+str(results[0]))\n",
    "    print(\"Distortion_real: \"+ str(results[1]))\n",
    "    print(\"Distortion_pred: \"+ str(results[2]))\n",
    "    print(\"Distortion_tune: \"+ str(results[3]))\n",
    "    results.append(density)\n",
    "    print(\"Density: \"+str(density))\n",
    "    name = 'Ktest-'+str(K)\n",
    "    all_result[name] = results\n",
    "\n",
    "# Test for more toy sets:\n",
    "K = 40\n",
    "for r in range(5):\n",
    "    print(\"Test for toy dataset, round:{}\".format(r))\n",
    "    G, density = generate_random_digraph(n, p, low, high)\n",
    "    epsilon = 0.01\n",
    "    alg = 'L2'\n",
    "    dis_store = init_dis_store(G)\n",
    "    embedding_aver = difastmap_average(G, K, epsilon, dis_store, alg)\n",
    "    embedding_diff = difastmap_diff(G, K, epsilon, dis_store, alg)\n",
    "    S = int(0.2*len(list(G.nodes())))\n",
    "    results = analyse.dinrmsd(G, embedding_aver, embedding_diff,dis_store, S, alg)\n",
    "    print(\"\\nPrecision: \"+str(results[0]))\n",
    "    print(\"Distortion_real: \"+ str(results[1]))\n",
    "    print(\"Distortion_pred: \"+ str(results[2]))\n",
    "    print(\"Distortion_tune: \"+ str(results[3]))\n",
    "    results.append(density)\n",
    "    print(\"Density: \"+str(density))\n",
    "    name = 'Round-'+str(r)\n",
    "    all_result[name] = results"
   ]
  },
  {
   "cell_type": "markdown",
   "metadata": {
    "collapsed": true
   },
   "source": [
    "## Test multiprocessing on analysis"
   ]
  },
  {
   "cell_type": "code",
   "execution_count": 22,
   "metadata": {
    "collapsed": true
   },
   "outputs": [],
   "source": [
    "def meta_calculation(node_1):\n",
    "    global G, embedding_aver, embedding_diff, dis_store, alg, subset\n",
    "    embcomb_1 = np.array(embedding_aver[node_1])\n",
    "    embdiff_1 = np.array(embedding_diff[node_1])\n",
    "    length = nx.single_source_dijkstra_path_length(G, node_1)\n",
    "    cnt_right = 0\n",
    "    real_sigma = 0\n",
    "    pred_sigma = 0\n",
    "    tune_sigma = 0\n",
    "    ave_d = 0\n",
    "    for j in range(S):\n",
    "        node_2 = subset[j]\n",
    "        if node_1 == node_2:\n",
    "            continue\n",
    "        embcomb_2 = np.array(embedding_aver[node_2])\n",
    "        embdiff_2 = np.array(embedding_diff[node_2])\n",
    "        distance = length[node_2]\n",
    "        if alg == 'L1':\n",
    "            embdis_comb = np.sum(np.abs(embcomb_1-embcomb_2))\n",
    "            embdis_diff = np.sum(np.abs(embdiff_1-embdiff_2))\n",
    "        elif alg == 'L2':\n",
    "            embdis_comb = math.sqrt(np.dot(embcomb_1-embcomb_2, embcomb_1-embcomb_2))\n",
    "            embdis_diff = math.sqrt(np.dot(embdiff_1-embdiff_2, embdiff_1-embdiff_2))\n",
    "        distance_reverse = nx.dijkstra_path_length(G, node_2, node_1)\n",
    "        maxdis = embdis_comb + embdis_diff\n",
    "        mindis = embdis_comb - embdis_diff\n",
    "        cmp_res, cmp_p, tune_embdis = analyse.compare_DiEdge(dis_store['pivots'], dis_store[node_1], dis_store[node_2], maxdis, mindis)\n",
    "        if distance > distance_reverse:\n",
    "            real_embdis = maxdis\n",
    "            if cmp_p == 0:\n",
    "                cnt_right += 1\n",
    "        elif distance == distance_reverse:\n",
    "            real_embdis = embdis_comb\n",
    "            cnt_right += 1\n",
    "        else:\n",
    "            real_embdis = mindis\n",
    "            if cmp_p == 2:\n",
    "                cnt_right += 1\n",
    "        if cmp_p == 0:\n",
    "            pred_embdis = maxdis\n",
    "        elif cmp_p == 1:\n",
    "            pred_embdis = embdis_comb\n",
    "        else:\n",
    "            pred_embdis = mindis\n",
    "        real_sigma += (distance-real_embdis)*(distance-real_embdis)\n",
    "        pred_sigma += (distance-pred_embdis)*(distance-pred_embdis)\n",
    "        tune_sigma += (distance-tune_embdis)*(distance-tune_embdis)\n",
    "        ave_d += distance\n",
    "    return [real_sigma, pred_sigma, tune_sigma, ave_d, cnt_right]\n",
    "\n",
    "def dinrmsd_mp(G, embedding_aver, embedding_diff, dis_store, subset, alg = 'L1'):\n",
    "    #if S<=1:\n",
    "    #    print(\"S should bigger than 1\")\n",
    "    #    exit\n",
    "    #subset = sample(list(G.nodes()), S)\n",
    "    input_set = list(subset)\n",
    "    real_sigma = 0\n",
    "    pred_sigma = 0\n",
    "    tune_sigma = 0\n",
    "    ave_d = 0\n",
    "    cnt_right = 0\n",
    "    pool_size = mp.cpu_count() * 2\n",
    "    print(\"Pool size: {}\".format(pool_size))\n",
    "    pool = mp.Pool(processes=pool_size)\n",
    "    pool_outputs = pool.map(meta_calculation, input_set)\n",
    "    pool.close()\n",
    "    pool.join()\n",
    "    # Sum the result of metacalculation\n",
    "    pool_outputs = np.array(pool_outputs)\n",
    "    real_sigma, pred_sigma, tune_sigma, ave_d, cnt_right = np.sum(pool_outputs, 0)\n",
    "    base = S*(S-1)\n",
    "    real_sigma = math.sqrt(float(real_sigma)/base)\n",
    "    pred_sigma = math.sqrt(float(pred_sigma)/base)\n",
    "    tune_sigma = math.sqrt(float(tune_sigma)/base)\n",
    "    ave_d = float(ave_d)/base\n",
    "    precision = float(cnt_right)/base\n",
    "    distorsion_real = float(real_sigma)/ave_d\n",
    "    distorsion_pred = float(pred_sigma)/ave_d\n",
    "    distorsion_tune = float(tune_sigma)/ave_d\n",
    "    return precision, distorsion_real, distorsion_pred, distorsion_tune\n"
   ]
  },
  {
   "cell_type": "code",
   "execution_count": 23,
   "metadata": {},
   "outputs": [
    {
     "name": "stdout",
     "output_type": "stream",
     "text": [
      "Pool size: 8\n",
      "\n",
      "Precision: 0.7096984924623115\n",
      "Distortion_real: 0.2968770082012998\n",
      "Distortion_pred: 0.35323881424845693\n",
      "Distortion_tune: 0.25758484804706344\n"
     ]
    }
   ],
   "source": [
    "S = int(0.2*len(list(G.nodes())))\n",
    "subset = sample(list(G.nodes()), S)\n",
    "results = dinrmsd_mp(G, embedding_aver, embedding_diff,dis_store, subset, alg)\n",
    "print(\"\\nPrecision: \"+str(results[0]))\n",
    "print(\"Distortion_real: \"+ str(results[1]))\n",
    "print(\"Distortion_pred: \"+ str(results[2]))\n",
    "print(\"Distortion_tune: \"+ str(results[3]))"
   ]
  },
  {
   "cell_type": "code",
   "execution_count": null,
   "metadata": {
    "collapsed": true
   },
   "outputs": [],
   "source": []
  }
 ],
 "metadata": {
  "kernelspec": {
   "display_name": "Python 3",
   "language": "python",
   "name": "python3"
  },
  "language_info": {
   "codemirror_mode": {
    "name": "ipython",
    "version": 3
   },
   "file_extension": ".py",
   "mimetype": "text/x-python",
   "name": "python",
   "nbconvert_exporter": "python",
   "pygments_lexer": "ipython3",
   "version": "3.6.4"
  }
 },
 "nbformat": 4,
 "nbformat_minor": 2
}
