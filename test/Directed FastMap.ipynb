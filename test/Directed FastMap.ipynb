{
 "cells": [
  {
   "cell_type": "markdown",
   "metadata": {},
   "source": [
    "# Analysis of FastMap Algorithm on Directed Graph\n",
    "\n",
    "The content of this analysis includes:\n",
    "\n",
    "1. Dataset - testing graph:\n",
    "    - Generated random graph\n",
    "    - Directed networks from [Stanford Large Network Dataset Collection (SNAP)](https://snap.stanford.edu/data/)\n",
    "        - Internet peer-to-peer networks\n",
    "2. Variant of FastMap on directed graph:\n",
    "    - Two embeddings:\n",
    "        1. $h_1(i, j)=\\frac{d_{ij}+d_{ji}}{2}$\n",
    "        2. $h_2(i, j)=\\frac{|d_{ij}-d_{ji}|}{2}$\n",
    "    - A byproduct: every nodes' distances with some pivot nodes\n",
    "3. Evaluation:\n",
    "    - Precision of picking the bigger one of $d_{ij}$ and $d_{ji}$, using stroed distances\n",
    "    - Distortion of embedding:\n",
    "        1. Using real comparation result of $d_{ij}$ and $d_{ji}$, then $h(i,j)=h_1(i, j)\\pm h_2(i, j)$\n",
    "        2. Using prediction of comparation result of $d_{ij}$ and $d_{ji}$, then $h(i,j)=h_1(i, j)\\pm h_2(i, j)$\n",
    "        3. Using stroed distances to fine-tune heuristic value from embedding."
   ]
  },
  {
   "cell_type": "code",
   "execution_count": 3,
   "metadata": {},
   "outputs": [],
   "source": [
    "# Add libraries\n",
    "import os, sys\n",
    "lib_path = os.path.abspath(os.path.join('../heuristic/'))\n",
    "sys.path.append(lib_path)\n",
    "\n",
    "import fastmap.utils as utils\n",
    "import fastmap.difastmap as fm\n",
    "import fastmap.analyse as analyse\n",
    "\n",
    "import matplotlib.pyplot as plt\n",
    "import networkx as nx\n",
    "import random"
   ]
  },
  {
   "cell_type": "markdown",
   "metadata": {},
   "source": [
    "## Generate random testing graph:\n",
    "\n",
    "1. `generate_random_digraph(n, p, low, high)`: generate a directed graph with `n` nodes, and every edge have positive weith range in `[low, high]`, it make sure the graph is strongly connected, otherwise there is a warning for increasing `p` (the probability of an directed edge exist between two nodes). Density $D = \\frac{|E|}{|V|(|V|-1)}$ is also printed.\n",
    "\n",
    "2. `distance_info(G)`: show the distribution of distances between nodes."
   ]
  },
  {
   "cell_type": "code",
   "execution_count": 5,
   "metadata": {},
   "outputs": [],
   "source": [
    "def generate_random_digraph(n, p, low, high):\n",
    "    for i in range(100):\n",
    "        G = nx.gnp_random_graph(n, p, directed = True)\n",
    "        if nx.is_strongly_connected(G):\n",
    "            break\n",
    "    if nx.is_strongly_connected(G) == False:\n",
    "        print(\"Unable to generate strongly connected graph, try increase 'p'.\")\n",
    "    density = float(len(G.edges()))/(n*(n-1))\n",
    "    print(\"Density: {}\".format(density))\n",
    "    for (n1, n2) in G.edges():\n",
    "        G[n1][n2]['weight']=random.randint(low, high)\n",
    "    return G\n",
    "\n",
    "def distance_info(G):\n",
    "    dis = []\n",
    "    for node in list(G.nodes()):\n",
    "        length = nx.single_source_dijkstra_path_length(G, node)\n",
    "        dis.extend(list(length.values()))\n",
    "    x = list(set(dis))\n",
    "    y = []\n",
    "    for i in x:\n",
    "        y.append(dis.count(i))\n",
    "    plt.plot(x,y,'r-o', linewidth=1)\n",
    "    plt.xlabel('distance')\n",
    "    plt.ylabel('count')\n",
    "    plt.title('Statistic of pair distances')\n",
    "    plt.show()"
   ]
  },
  {
   "cell_type": "markdown",
   "metadata": {},
   "source": [
    "An example:"
   ]
  },
  {
   "cell_type": "code",
   "execution_count": 7,
   "metadata": {},
   "outputs": [
    {
     "name": "stdout",
     "output_type": "stream",
     "text": [
      "Density: 0.0070200200200200204\n"
     ]
    },
    {
     "data": {
      "image/png": "[encoded data removed]",
      "text/plain": [
       "<matplotlib.figure.Figure at 0x1511e87b00>"
      ]
     },
     "metadata": {},
     "output_type": "display_data"
    }
   ],
   "source": [
    "n = 1000\n",
    "p = 0.007\n",
    "low = 1\n",
    "high = 5\n",
    "\n",
    "G = generate_random_digraph(n, p, low, high)\n",
    "distance_info(G)"
   ]
  },
  {
   "cell_type": "code",
   "execution_count": null,
   "metadata": {},
   "outputs": [],
   "source": []
  }
 ],
 "metadata": {
  "kernelspec": {
   "display_name": "Python 3",
   "language": "python",
   "name": "python3"
  },
  "language_info": {
   "codemirror_mode": {
    "name": "ipython",
    "version": 3
   },
   "file_extension": ".py",
   "mimetype": "text/x-python",
   "name": "python",
   "nbconvert_exporter": "python",
   "pygments_lexer": "ipython3",
   "version": "3.6.4"
  }
 },
 "nbformat": 4,
 "nbformat_minor": 2
}
