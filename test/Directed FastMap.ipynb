{
 "cells": [
  {
   "cell_type": "markdown",
   "metadata": {},
   "source": [
    "# Analysis of FastMap Algorithm on Directed Graph\n",
    "\n",
    "The content of this analysis includes:\n",
    "\n",
    "1. Dataset - testing graph:\n",
    "    - Generated random graph\n",
    "    - Some directed networks from [Stanford Large Network Dataset Collection (SNAP)](https://snap.stanford.edu/data/)\n",
    "2. Variant of FastMap on directed graph:\n",
    "    - Two embeddings:\n",
    "        1. $h_1(i, j)=\\frac{d_{ij}+d_{ji}}{2}$\n",
    "        2. $h_2(i, j)=\\frac{|d_{ij}-d_{ji}|}{2}$\n",
    "    - Part accurate distances: a byproduct, every nodes' distances with some pivot nodes\n",
    "3. Evaluation:\n",
    "    - Precision of picking the bigger one of $d_{ij}$ and $d_{ji}$, using stroed distances\n",
    "    - Distortion of embedding:\n",
    "        1. Using real comparation result of $d_{ij}$ and $d_{ji}$, then $h(i,j)=h_1(i, j)\\pm h_2(i, j)$\n",
    "        2. Using prediction of comparation result of $d_{ij}$ and $d_{ji}$, then $h(i,j)=h_1(i, j)\\pm h_2(i, j)$\n",
    "        3. Using stroed distances to fine-tune heuristic value from embedding.\n",
    "4. Experiments and results"
   ]
  },
  {
   "cell_type": "code",
   "execution_count": 12,
   "metadata": {},
   "outputs": [
    {
     "name": "stdout",
     "output_type": "stream",
     "text": [
      "The autoreload extension is already loaded. To reload it, use:\n",
      "  %reload_ext autoreload\n"
     ]
    }
   ],
   "source": [
    "# Add libraries\n",
    "%load_ext autoreload\n",
    "%autoreload 2\n",
    "import os, sys\n",
    "lib_path = os.path.abspath(os.path.join('../heuristic/'))\n",
    "sys.path.append(lib_path)\n",
    "\n",
    "import fastmap.utils as utils\n",
    "from fastmap.difastmap import init_dis_store, difastmap_average, difastmap_diff \n",
    "import fastmap.analyse as analyse\n",
    "\n",
    "import matplotlib.pyplot as plt\n",
    "import networkx as nx\n",
    "import random\n",
    "import multiprocessing as mp\n",
    "from random import sample"
   ]
  },
  {
   "cell_type": "markdown",
   "metadata": {},
   "source": [
    "## Generate random testing graph:\n",
    "\n",
    "1. `generate_random_digraph(n, p, low, high)`: generate a directed graph with `n` nodes, and every edge have positive weith range in `[low, high]`, it make sure the graph is strongly connected, otherwise there is a warning for increasing `p` (the probability of an directed edge exist between two nodes). Density $D = \\frac{|E|}{|V|(|V|-1)}$ is also printed.\n",
    "\n",
    "2. `distance_info(G)`: show the distribution of distances between nodes."
   ]
  },
  {
   "cell_type": "markdown",
   "metadata": {},
   "source": [
    "An example:"
   ]
  },
  {
   "cell_type": "code",
   "execution_count": 13,
   "metadata": {},
   "outputs": [
    {
     "name": "stdout",
     "output_type": "stream",
     "text": [
      "Density: 0.006936936936936937\n"
     ]
    },
    {
     "data": {
      "image/png": "[encoded data removed]",
      "text/plain": [
       "<matplotlib.figure.Figure at 0x10d272588>"
      ]
     },
     "metadata": {},
     "output_type": "display_data"
    }
   ],
   "source": [
    "n = 1000\n",
    "p = 0.007\n",
    "low = 1\n",
    "high = 5\n",
    "\n",
    "G, density = utils.generate_random_digraph(n, p, low, high)\n",
    "utils.distance_info(G)"
   ]
  },
  {
   "cell_type": "markdown",
   "metadata": {},
   "source": [
    "## Variant algorithms of embedding\n",
    "\n",
    "![Figure](alg-fastmap.png)\n",
    "\n",
    "1. `init_dis_store()`: init the data structure to store every nodes' distances to pivot nodes, the store process will be finish while doing the embedding.\n",
    "\n",
    "2. `difastmap_average(G, K, epsilon, dis_store, alg='L1')`: used to get the embedding of average distances.\n",
    "\n",
    "3. `difastmap_diff(G, K, epsilon, dis_store, alg='L1')`: used to get the embedding of absolute difference of distance."
   ]
  },
  {
   "cell_type": "markdown",
   "metadata": {},
   "source": [
    "An example:"
   ]
  },
  {
   "cell_type": "code",
   "execution_count": 14,
   "metadata": {},
   "outputs": [
    {
     "name": "stdout",
     "output_type": "stream",
     "text": [
      "Node 584:\n",
      "[6.137931034482759, 8.072245669456558, 7.017792183010349, 5.915087287454047, 6.488457712965836, 6.404585052666489, 5.508267374400154, 6.750216687536121, 4.315351520691282, 7.656042045085046, 4.669826850302655, 5.724544907422509, 4.816724836661969, 6.266607795246967, 6.501232603486956, 4.996439801868418, 6.268492801065082, 5.49431527393524, 6.788118911363188, 3.7520084913847094]\n",
      "[2.8958333333333335, 2.0156916782879253, 3.251876875790709, 2.1611997323918284, 3.037708425066985, 2.2206555914968513, 2.249813522950724, 3.14573474649297, 1.4434390286727965, 2.1376471528783787, 2.9811751029389524, 2.024512405779397, 2.1188023796089386, 2.270537725849048, 2.5554440602072583, 2.9996155279677637, 2.341334286476193, 2.3263365119004, 2.02141584205973, 2.2297494147779138]\n"
     ]
    }
   ],
   "source": [
    "K = 20\n",
    "epsilon = 0.01\n",
    "alg = 'L2'\n",
    "dis_store = init_dis_store(G)\n",
    "embedding_aver = difastmap_average(G, K, epsilon, dis_store, alg)\n",
    "embedding_diff = difastmap_diff(G, K, epsilon, dis_store, alg)\n",
    "S = 1\n",
    "subset = random.sample(list(G.nodes()), S)\n",
    "for i in subset:\n",
    "    print(\"Node {}:\\n{}\\n{}\".format(i, embedding_aver[i], embedding_diff[i]))"
   ]
  },
  {
   "cell_type": "markdown",
   "metadata": {},
   "source": [
    "## Evaluation functions\n",
    "\n",
    "`dinrmsd(G, embedding_aver, embedding_diff, dis_store, S, alg = 'L1')`: the function for evaluate the performance of the heuristic. `S` is the number of subset choosed for evaluation, and the `alg` should be set as the one used in FastMap embedding.\n",
    "\n",
    "The output has four value:\n",
    "\n",
    "- Precision of comparing $d_{ij}$, $d_{ji}$\n",
    "- Distortion when:\n",
    "    - Real comparision\n",
    "    - Predicted comparision\n",
    "    - Fine-tuned distance\n",
    "    \n",
    "Using the Normalized Root Mean Square Deviation (NRMSD):\n",
    "$$\\sigma = \\sqrt{\\frac{\\sum_{1\\le i < j\\le S}{(d_{ij}-x_{ij})^2}}{S(S-1)}}$$\n",
    "$$\\bar{d}=\\frac{\\sum_{1\\le i < j\\le S}{d_{ij}}}{S(S-1)}$$"
   ]
  },
  {
   "cell_type": "code",
   "execution_count": 34,
   "metadata": {},
   "outputs": [
    {
     "name": "stdout",
     "output_type": "stream",
     "text": [
      "Analysis Process: 0.0%\n",
      "Precision: 0.7421052631578947\n",
      "Distortion_real: 0.2775127004423273\n",
      "Distortion_pred: 0.32448200134466887\n",
      "Distortion_tune: 0.25130986069654365\n"
     ]
    }
   ],
   "source": [
    "S = int(0.2*len(list(G.nodes())))\n",
    "results = analyse.dinrmsd(G, embedding_aver, embedding_diff,dis_store, S, alg)\n",
    "print(\"\\nPrecision: \"+str(results[0]))\n",
    "print(\"Distortion_real: \"+ str(results[1]))\n",
    "print(\"Distortion_pred: \"+ str(results[2]))\n",
    "print(\"Distortion_tune: \"+ str(results[3]))"
   ]
  },
  {
   "cell_type": "markdown",
   "metadata": {},
   "source": [
    "## Experiments\n",
    "\n",
    "There are three kinds of experiments:\n",
    "\n",
    "1. How distortions changes with different `K`, the demention of embedding\n",
    "2. Try multiple times on simulated network to get average evalution results.\n",
    "3. Try test on real datasets."
   ]
  },
  {
   "cell_type": "code",
   "execution_count": null,
   "metadata": {
    "collapsed": true
   },
   "outputs": [],
   "source": [
    "# Test K     \n",
    "n = 1000\n",
    "p = 0.007\n",
    "low = 1\n",
    "high = 5\n",
    "\n",
    "G,density = generate_random_digraph(n, p, low, high)\n",
    "distance_info(G)\n",
    "\n",
    "k_list = [10, 15, 20,25,30,35,40,45,50]\n",
    "all_result = {}\n",
    "for K in k_list:\n",
    "    print(\"#########Test for K:{}\".format(K))\n",
    "    epsilon = 0.01\n",
    "    alg = 'L2'\n",
    "    dis_store = init_dis_store(G)\n",
    "    embedding_aver = difastmap_average(G, K, epsilon, dis_store, alg)\n",
    "    embedding_diff = difastmap_diff(G, K, epsilon, dis_store, alg)\n",
    "    S = int(0.2*len(list(G.nodes())))\n",
    "    subset = sample(list(G.nodes()), S)\n",
    "    results = dinrmsd_mp(G, embedding_aver, embedding_diff,dis_store, subset, alg)\n",
    "    print(\"\\nPrecision: \"+str(results[0]))\n",
    "    print(\"Distortion_real: \"+ str(results[1]))\n",
    "    print(\"Distortion_pred: \"+ str(results[2]))\n",
    "    print(\"Distortion_tune: \"+ str(results[3]))\n",
    "    results = list(results)\n",
    "    results.append(density)\n",
    "    print(\"Density: \"+str(density))\n",
    "    name = 'Ktest-'+str(K)\n",
    "    all_result[name] = results"
   ]
  },
  {
   "cell_type": "code",
   "execution_count": null,
   "metadata": {
    "collapsed": true
   },
   "outputs": [],
   "source": [
    "# Test for more simulated datasets to get average:\n",
    "K = 20\n",
    "for r in range(5):\n",
    "    print(\"#########Test for toy dataset, round:{}\".format(r))\n",
    "    G, density = generate_random_digraph(n, p, low, high)\n",
    "    epsilon = 0.01\n",
    "    alg = 'L2'\n",
    "    dis_store = init_dis_store(G)\n",
    "    embedding_aver = difastmap_average(G, K, epsilon, dis_store, alg)\n",
    "    embedding_diff = difastmap_diff(G, K, epsilon, dis_store, alg)\n",
    "    S = int(0.2*len(list(G.nodes())))\n",
    "    subset = sample(list(G.nodes()), S)\n",
    "    results = dinrmsd_mp(G, embedding_aver, embedding_diff,dis_store, subset, alg)\n",
    "    print(\"\\nPrecision: \"+str(results[0]))\n",
    "    print(\"Distortion_real: \"+ str(results[1]))\n",
    "    print(\"Distortion_pred: \"+ str(results[2]))\n",
    "    print(\"Distortion_tune: \"+ str(results[3]))\n",
    "    results = list(results)\n",
    "    results.append(density)\n",
    "    print(\"Density: \"+str(density))\n",
    "    name = 'Round-'+str(r)\n",
    "    all_result[name] = results"
   ]
  },
  {
   "cell_type": "code",
   "execution_count": null,
   "metadata": {
    "collapsed": true
   },
   "outputs": [],
   "source": [
    "# Test for real sets:\n",
    "K = 30\n",
    "in_directory = \"../data/snap/\"\n",
    "files= os.listdir(in_directory)\n",
    "for file in files:\n",
    "    if not os.path.isdir(file) and file[0:3]=='p2p':\n",
    "        print(\"#########Test for real dataset:{}\".format(file))\n",
    "        name = file\n",
    "        G = utils.readDiGraph(in_directory+name)\n",
    "        n = len(list(G.nodes()))\n",
    "        density = float(len(G.edges()))/(n*(n-1))\n",
    "        epsilon = 0.01\n",
    "        alg = 'L2'\n",
    "        dis_store = init_dis_store(G)\n",
    "        embedding_aver = difastmap_average(G, K, epsilon, dis_store, alg)\n",
    "        embedding_diff = difastmap_diff(G, K, epsilon, dis_store, alg)\n",
    "        S = int(0.2*len(list(G.nodes())))\n",
    "        if S > 400:\n",
    "            S = 400\n",
    "        subset = sample(list(G.nodes()), S)\n",
    "        results = dinrmsd_mp(G, embedding_aver, embedding_diff,dis_store, subset, alg)\n",
    "        print(\"\\nPrecision: \"+str(results[0]))\n",
    "        print(\"Distortion_real: \"+ str(results[1]))\n",
    "        print(\"Distortion_pred: \"+ str(results[2]))\n",
    "        print(\"Distortion_tune: \"+ str(results[3]))\n",
    "        results = list(results)\n",
    "        results.append(density)\n",
    "        print(\"Density: \"+str(density))\n",
    "        name = 'Real-'+str(name)\n",
    "        all_result[name] = results"
   ]
  },
  {
   "cell_type": "markdown",
   "metadata": {
    "collapsed": true
   },
   "source": [
    "### Using multi-processing to speed up analysis\n",
    "\n",
    "Because it's very time cosuming on the analysing process, so I add multi-processing on it. And put it on Google Cloud Platform to do run the experiment."
   ]
  },
  {
   "cell_type": "markdown",
   "metadata": {},
   "source": [
    "An simple example for using the multi-processing version."
   ]
  },
  {
   "cell_type": "code",
   "execution_count": null,
   "metadata": {},
   "outputs": [],
   "source": [
    "\"\"\"\n",
    "S = int(0.2*len(list(G.nodes())))\n",
    "subset = sample(list(G.nodes()), S)\n",
    "results = dinrmsd_mp(G, embedding_aver, embedding_diff,dis_store, subset, alg)\n",
    "print(\"\\nPrecision: \"+str(results[0]))\n",
    "print(\"Distortion_real: \"+ str(results[1]))\n",
    "print(\"Distortion_pred: \"+ str(results[2]))\n",
    "print(\"Distortion_tune: \"+ str(results[3]))\n",
    "\"\"\""
   ]
  },
  {
   "cell_type": "code",
   "execution_count": 18,
   "metadata": {},
   "outputs": [
    {
     "name": "stdout",
     "output_type": "stream",
     "text": [
      "Density: 0.00700800800801\n",
      "Pool size: 8\n",
      "\n",
      "Precision: 0.702412060302\n",
      "Distortion_real: 0.314788688477\n",
      "Distortion_pred: 0.379831831446\n",
      "Distortion_tune: 0.273899519868\n"
     ]
    }
   ],
   "source": [
    "%%bash\n",
    "python mp_example.py"
   ]
  },
  {
   "cell_type": "markdown",
   "metadata": {},
   "source": [
    "The experiment code includes in `mp_experiment1.py`: it is runnable"
   ]
  },
  {
   "cell_type": "code",
   "execution_count": null,
   "metadata": {
    "collapsed": true
   },
   "outputs": [],
   "source": [
    "%%bash\n",
    "python mp_experiment.py"
   ]
  },
  {
   "cell_type": "markdown",
   "metadata": {},
   "source": [
    "### Result:\n",
    "\n",
    "Recap the meaning of the measurement:\n",
    "\n",
    "- Precision of picking the bigger one of $d_{ij}$ and $d_{ji}$, using stroed distances\n",
    "- Distortion of the heuristic:\n",
    "    1. Using real comparation result of $d_{ij}$ and $d_{ji}$, then $h(i,j)=h_1(i, j)\\pm h_2(i, j)$\n",
    "    2. Using prediction of comparation result of $d_{ij}$ and $d_{ji}$, then $h(i,j)=h_1(i, j)\\pm h_2(i, j)$\n",
    "    3. Using stroed distances to fine-tune heuristic value from embedding."
   ]
  },
  {
   "attachments": {},
   "cell_type": "markdown",
   "metadata": {},
   "source": [
    "|    K          |  10  |  15  |  20  |  25  |  35  |  40  |  45  |  50  |\n",
    "|---------------|------|------|------|------|------|------|------|------|\n",
    "|Precision      |0.6598|0.6990|0.7062|0.7236|0.7481|0.7363|0.7356|**0.7875**|\n",
    "|Real-distortion|0.4698|0.3418|**0.2748**|0.3123|0.3917|0.9653|0.9219|1.003 |\n",
    "|Pred-distortion|0.5042|0.3870|**0.3316**|0.3676|0.4330|0.9837|0.9475|1.028 |\n",
    "|Tune-distortion|0.3105|**0.2387**|0.2467|0.2882|0.3168|0.2675|0.3062|0.2471|"
   ]
  },
  {
   "cell_type": "markdown",
   "metadata": {},
   "source": [
    "In this table, the origin graph is same, a generated graph with $|G.nodes()| = 1000$, and $Density(G)=0.0071$. The density is almost at the edge of keep the graph strongly connected.\n",
    "\n",
    "Some conclusion about the dimension $K$:\n",
    "\n",
    "- The precision of comparing $d_{ij}, d_{ji}$ increase with $K$, the can be a result of more stored distances with pivot nodes.\n",
    "- The tune-distortion is stable with the increasement of $K$, while the distortion of heuristic value from embedding distance will be very large if $K$ is too big. (Increase $\\epsilon$ can avoid this situation.)\n"
   ]
  },
  {
   "cell_type": "markdown",
   "metadata": {},
   "source": [
    "|               |  Nodes  |  Density  |  K  |  Precision  |  Real-distortion  |  Pred-distortion  |  Tune-distortion  |\n",
    "|---------------|------|------|------|------|------|------|------|\n",
    "| Ramdom Graph  |1000  |0.0070|20|0.7232|0.2910|0.3525|**0.2673**|\n",
    "| RealGraph-1   |3234  |0.0012|30|0.7563|0.4558|0.5059|**0.3890**|\n",
    "| RealGraph-2   |3226  |0.0013|30|0.7433|0.3717|0.4295|**0.3831**|\n",
    "| RealGraph-3   |2068  |0.0021|30|0.7421|0.4101|0.4662|**0.3654**|\n",
    "| RealGraph-4   |2624  |0.0015|30|0.7737|0.4519|0.5020|**0.3167**|"
   ]
  },
  {
   "cell_type": "markdown",
   "metadata": {},
   "source": [
    "In this table, all real graph is extracted strongly connected component of directed graph, [internet peer-to-peer networks](https://snap.stanford.edu/data/p2p-Gnutella05.html), given uniform edge weights.\n",
    "\n",
    "The conclusion is:\n",
    "\n",
    "- The fine-tuned heuristic value is closest to real distance."
   ]
  },
  {
   "cell_type": "code",
   "execution_count": null,
   "metadata": {
    "collapsed": true
   },
   "outputs": [],
   "source": []
  }
 ],
 "metadata": {
  "kernelspec": {
   "display_name": "Python 3",
   "language": "python",
   "name": "python3"
  },
  "language_info": {
   "codemirror_mode": {
    "name": "ipython",
    "version": 3
   },
   "file_extension": ".py",
   "mimetype": "text/x-python",
   "name": "python",
   "nbconvert_exporter": "python",
   "pygments_lexer": "ipython3",
   "version": "3.6.4"
  }
 },
 "nbformat": 4,
 "nbformat_minor": 2
}
