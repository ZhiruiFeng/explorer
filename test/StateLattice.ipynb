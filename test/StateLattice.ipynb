{
 "cells": [
  {
   "cell_type": "markdown",
   "metadata": {},
   "source": [
    "# StateLattice of GameMap -- Distortion\n",
    "\n",
    "Here we use state lattice simulated from [Pathfinding benchmark](https://www.movingai.com/benchmarks/).\n",
    "\n",
    "This is the real dataset test of [Experiment Distortion](https://github.com/ZhiruiFeng/explorer/blob/master/test/RandomGraph.ipynb).\n",
    "\n",
    "Then we will analysis the distortion on this graph as what we have done on random graph."
   ]
  },
  {
   "cell_type": "code",
   "execution_count": 1,
   "metadata": {},
   "outputs": [],
   "source": [
    "# Add libraries\n",
    "%load_ext autoreload\n",
    "%autoreload 2\n",
    "import os, sys\n",
    "lib_path = os.path.abspath(os.path.join('../'))\n",
    "sys.path.append(lib_path)\n",
    "\n",
    "import heuristic.fastmap.utils as utils\n",
    "from heuristic.fastmap.difastmap import init_dis_store, difastmap_average, difastmap_diff, difastmap_max \n",
    "import heuristic.fastmap.analyse as analyse\n",
    "\n",
    "import matplotlib.pyplot as plt\n",
    "import networkx as nx\n",
    "import random\n",
    "import multiprocessing as mp\n",
    "import numpy as np\n",
    "import math\n",
    "from random import sample"
   ]
  },
  {
   "cell_type": "code",
   "execution_count": 6,
   "metadata": {},
   "outputs": [],
   "source": [
    "filepath = \"../data/statelattice/arena.dimap\"\n",
    "\n",
    "G = utils.readDiGraph(filepath)"
   ]
  },
  {
   "cell_type": "code",
   "execution_count": 9,
   "metadata": {},
   "outputs": [
    {
     "name": "stdout",
     "output_type": "stream",
     "text": [
      "A strongly connected graph.\n",
      "31897\n",
      "103081\n",
      "0.00010131938896406581\n"
     ]
    }
   ],
   "source": [
    "utils.connectivity_info(G)\n",
    "countn = G.number_of_nodes()\n",
    "counte = G.number_of_edges()\n",
    "density = float(counte)/(countn * (countn-1))\n",
    "print(countn)\n",
    "print(counte)\n",
    "print(density)"
   ]
  },
  {
   "cell_type": "code",
   "execution_count": 16,
   "metadata": {},
   "outputs": [],
   "source": [
    "def get_dijkstra_path_length(G, S):\n",
    "    subset = sample(list(G.nodes()), S)\n",
    "    dijkstra_path_length = {}\n",
    "    i = 0\n",
    "    for node in subset:\n",
    "        if i%10 == 0:\n",
    "            sys.stdout.write(\"\\r {}%\".format(i/10))\n",
    "        i+=1\n",
    "        length = nx.single_source_dijkstra_path_length(G, node)\n",
    "        dijkstra_path_length[node] = {}\n",
    "        for theother in subset:\n",
    "            dijkstra_path_length[node][theother] = length[theother]\n",
    "    return dijkstra_path_length, subset"
   ]
  },
  {
   "cell_type": "code",
   "execution_count": 23,
   "metadata": {},
   "outputs": [
    {
     "name": "stdout",
     "output_type": "stream",
     "text": [
      " 99.0%"
     ]
    }
   ],
   "source": [
    "S = 1000\n",
    "dijkstra_path_length, subset = get_dijkstra_path_length(G, S)"
   ]
  },
  {
   "cell_type": "code",
   "execution_count": 24,
   "metadata": {},
   "outputs": [],
   "source": [
    "def thedistance_info(dijkstra_path_length, subset):\n",
    "    dis = []\n",
    "    for n1 in subset:\n",
    "        dis.extend(dijkstra_path_length[n1].values())\n",
    "    plt.hist(dis)\n",
    "    plt.xlabel('distance')\n",
    "    plt.ylabel('count')\n",
    "    plt.title('Statistic of pair distances')\n",
    "    plt.show()"
   ]
  },
  {
   "cell_type": "code",
   "execution_count": 25,
   "metadata": {},
   "outputs": [
    {
     "data": {
      "image/png": "[encoded data removed]",
      "text/plain": [
       "<matplotlib.figure.Figure at 0x15a1848f60>"
      ]
     },
     "metadata": {},
     "output_type": "display_data"
    }
   ],
   "source": [
    "thedistance_info(dijkstra_path_length, subset)"
   ]
  },
  {
   "cell_type": "markdown",
   "metadata": {},
   "source": [
    "## Distortion of embedding average and max"
   ]
  },
  {
   "cell_type": "code",
   "execution_count": 26,
   "metadata": {},
   "outputs": [],
   "source": [
    "def meta_distortion_analyse(i):\n",
    "    global G, embedding, subset, alg, variant, threshold\n",
    "    node_1=subset[i]\n",
    "    emb_1 = np.array(embedding[node_1])\n",
    "    length = dijkstra_path_length[node_1]\n",
    "    sigma = 0\n",
    "    ave_d = 0\n",
    "    larger = 0\n",
    "    equal = 0\n",
    "    smaller = 0\n",
    "    for j in range(len(subset)):\n",
    "        if i == j:\n",
    "            continue\n",
    "        node_2 = subset[j]\n",
    "        emb_2 = np.array(embedding[node_2])\n",
    "        distance = length[node_2]\n",
    "        if variant == 'undirected':\n",
    "            target_dis = distance\n",
    "        elif variant == 'average':\n",
    "            distance_reverse = dijkstra_path_length[node_2][node_1]\n",
    "            target_dis = (float(distance) + float(distance_reverse))/2\n",
    "        elif variant == 'max':\n",
    "            distance_reverse = dijkstra_path_length[node_2][node_1]\n",
    "            target_dis = max(float(distance), float(distance_reverse))\n",
    "        elif variant == 'diff':\n",
    "            distance_reverse = dijkstra_path_length[node_2][node_1]\n",
    "            target_dis = abs(float(distance) - float(distance_reverse))/2\n",
    "        if alg == 'L1':\n",
    "            embdis = np.sum(np.abs(emb_1-emb_2))\n",
    "        elif alg == 'L2':\n",
    "            embdis = math.sqrt(np.dot(emb_1-emb_2, emb_1-emb_2))\n",
    "        if embdis > target_dis + threshold:\n",
    "            larger += 1\n",
    "        elif embdis < target_dis - threshold:\n",
    "            smaller += 1\n",
    "        else:\n",
    "            equal += 1\n",
    "        sigma += (target_dis-embdis)*(target_dis-embdis)\n",
    "        ave_d += target_dis\n",
    "    return [sigma, ave_d, larger, equal, smaller]\n",
    "\n",
    "def distortion_analyse_mp(G, embedding, subset, alg, variant, threshold):\n",
    "    input_set = list(range(len(subset)))\n",
    "    sigma = 0\n",
    "    ave_d = 0\n",
    "    larger = 0\n",
    "    equal = 0\n",
    "    smaller = 0\n",
    "    pool_size = mp.cpu_count() * 2\n",
    "    print(\"Pool size: {}\".format(pool_size))\n",
    "    pool = mp.Pool(processes=pool_size)\n",
    "    pool_outputs = pool.map(meta_distortion_analyse, input_set)\n",
    "    pool.close()\n",
    "    pool.join()\n",
    "    # Sum the result of metacalculation\n",
    "    pool_outputs = np.array(pool_outputs)\n",
    "    #print(pool_outputs)\n",
    "    sigma, ave_d, larger, equal, smaller = np.sum(pool_outputs, 0)\n",
    "    base = float(S)*float(S-1)\n",
    "    sigma = math.sqrt(float(sigma)/base)\n",
    "    ave_d = float(ave_d)/base\n",
    "\n",
    "    return float(sigma)/ave_d, larger, equal, smaller"
   ]
  },
  {
   "cell_type": "code",
   "execution_count": 30,
   "metadata": {},
   "outputs": [
    {
     "name": "stdout",
     "output_type": "stream",
     "text": [
      "#########Test for K:13\n",
      "Pool size: 8\n",
      "(0.12877838039150638, 298340.0, 121946.0, 578714.0)\n",
      "#########Test for K:14\n",
      "Pool size: 8\n",
      "(0.12950614126618623, 355438.0, 120322.0, 523240.0)\n",
      "#########Test for K:15\n",
      "Pool size: 8\n",
      "(0.12056309682752811, 416212.0, 131032.0, 451756.0)\n",
      "#########Test for K:16\n",
      "Pool size: 8\n",
      "(0.1268154203798833, 323068.0, 128128.0, 547804.0)\n",
      "#########Test for K:17\n",
      "Pool size: 8\n",
      "(0.1268474408220042, 393132.0, 129874.0, 475994.0)\n",
      "#########Test for K:18\n",
      "Pool size: 8\n",
      "(0.12414520156252881, 477310.0, 130748.0, 390942.0)\n"
     ]
    }
   ],
   "source": [
    "klist = [13, 14, 15, 16, 17, 18]\n",
    "for K in klist:\n",
    "    print(\"#########Test for K:{}\".format(K))\n",
    "    epsilon = 0.01\n",
    "    threshold = 5\n",
    "    alg = 'L2'\n",
    "    dis_store = init_dis_store(G)\n",
    "    embedding = difastmap_average(G, K, epsilon, dis_store, alg)\n",
    "    variant = 'average'\n",
    "    results = distortion_analyse_mp(G, embedding, subset, alg, variant, threshold)\n",
    "    print(results)"
   ]
  },
  {
   "cell_type": "code",
   "execution_count": 32,
   "metadata": {},
   "outputs": [
    {
     "name": "stdout",
     "output_type": "stream",
     "text": [
      "#########Test for K:3\n",
      "Pool size: 8\n",
      "(0.39489004746822365, 74322.0, 28130.0, 896548.0)\n",
      "#########Test for K:4\n",
      "Pool size: 8\n",
      "(0.3170990506266598, 178814.0, 46924.0, 773262.0)\n",
      "#########Test for K:5\n",
      "Pool size: 8\n",
      "(0.28889902820772717, 421194.0, 53284.0, 524522.0)\n",
      "#########Test for K:6\n",
      "Pool size: 8\n",
      "(0.2683341253057589, 408448.0, 59230.0, 531322.0)\n",
      "#########Test for K:7\n",
      "Pool size: 8\n",
      "(0.3402070373955034, 733000.0, 44952.0, 221048.0)\n"
     ]
    }
   ],
   "source": [
    "klist = [3, 4, 5, 6, 7]\n",
    "for K in klist:\n",
    "    print(\"#########Test for K:{}\".format(K))\n",
    "    epsilon = 0.01\n",
    "    threshold = 5\n",
    "    alg = 'L1'\n",
    "    dis_store = init_dis_store(G)\n",
    "    embedding = difastmap_average(G, K, epsilon, dis_store, alg)\n",
    "    variant = 'average'\n",
    "    results = distortion_analyse_mp(G, embedding, subset, alg, variant, threshold)\n",
    "    print(results)"
   ]
  },
  {
   "cell_type": "code",
   "execution_count": 35,
   "metadata": {},
   "outputs": [
    {
     "name": "stdout",
     "output_type": "stream",
     "text": [
      "#########Test for K:3\n",
      "Pool size: 8\n",
      "(0.4155907529168531, 87862.0, 23052.0, 888086.0)\n",
      "#########Test for K:4\n",
      "Pool size: 8\n",
      "(0.3918268238014172, 109282.0, 25760.0, 863958.0)\n",
      "#########Test for K:5\n",
      "Pool size: 8\n",
      "(0.30568985507162394, 309222.0, 40266.0, 649512.0)\n",
      "#########Test for K:6\n",
      "Pool size: 8\n",
      "(0.2768427761850029, 406340.0, 43110.0, 549550.0)\n",
      "#########Test for K:7\n",
      "Pool size: 8\n",
      "(0.24553490831054553, 476254.0, 49234.0, 473512.0)\n",
      "#########Test for K:8\n",
      "Pool size: 8\n",
      "(0.25159328551666826, 540706.0, 51126.0, 407168.0)\n",
      "#########Test for K:9\n",
      "Pool size: 8\n",
      "(0.28158832987742083, 637442.0, 45594.0, 315964.0)\n"
     ]
    }
   ],
   "source": [
    "klist = [3, 4, 5, 6, 7, 8, 9]\n",
    "for K in klist:\n",
    "    print(\"#########Test for K:{}\".format(K))\n",
    "    epsilon = 0.01\n",
    "    threshold = 5\n",
    "    alg = 'L2'\n",
    "    dis_store = init_dis_store(G)\n",
    "    embedding = difastmap_max(G, K, epsilon, dis_store, alg)\n",
    "    variant = 'max'\n",
    "    results = distortion_analyse_mp(G, embedding, subset, alg, variant, threshold)\n",
    "    print(results)"
   ]
  },
  {
   "cell_type": "code",
   "execution_count": 37,
   "metadata": {},
   "outputs": [
    {
     "name": "stdout",
     "output_type": "stream",
     "text": [
      "#########Test for K:3\n",
      "Pool size: 8\n",
      "(0.373166189858431, 287016.0, 13088.0, 698896.0)\n",
      "#########Test for K:4\n",
      "Pool size: 8\n",
      "(0.3643842187700292, 396004.0, 14364.0, 588632.0)\n",
      "#########Test for K:5\n",
      "Pool size: 8\n",
      "(0.39035047098785763, 548012.0, 14304.0, 436684.0)\n",
      "#########Test for K:6\n",
      "Pool size: 8\n",
      "(0.35732572011050173, 661200.0, 15458.0, 322342.0)\n"
     ]
    }
   ],
   "source": [
    "klist = [3, 4, 5, 6]\n",
    "for K in klist:\n",
    "    print(\"#########Test for K:{}\".format(K))\n",
    "    epsilon = 0.01\n",
    "    threshold = 2\n",
    "    alg = 'L1'\n",
    "    dis_store = init_dis_store(G)\n",
    "    embedding = difastmap_max(G, K, epsilon, dis_store, alg)\n",
    "    variant = 'max'\n",
    "    results = distortion_analyse_mp(G, embedding, subset, alg, variant, threshold)\n",
    "    print(results)"
   ]
  },
  {
   "cell_type": "markdown",
   "metadata": {},
   "source": [
    "**Conclusion**\n",
    "\n",
    "Currently I have no idea why `average` and `max` have so different approximation."
   ]
  },
  {
   "cell_type": "markdown",
   "metadata": {},
   "source": [
    "## Test the distortion of embedding min"
   ]
  },
  {
   "cell_type": "code",
   "execution_count": 40,
   "metadata": {},
   "outputs": [],
   "source": [
    "def meta_distortion_min(i):\n",
    "    global G, embedding_aver, embedding_max, subset, alg\n",
    "    node_1=subset[i]\n",
    "    emb_aver_1 = np.array(embedding_aver[node_1])\n",
    "    emb_max_1 = np.array(embedding_max[node_1])\n",
    "    length = dijkstra_path_length[node_1]\n",
    "    sigma = 0\n",
    "    ave_d = 0\n",
    "    for j in range(len(subset)):\n",
    "        if i == j:\n",
    "            continue\n",
    "        node_2 = subset[j]\n",
    "        emb_aver_2 = np.array(embedding_aver[node_2])\n",
    "        emb_max_2 = np.array(embedding_max[node_2])\n",
    "        distance = length[node_2]\n",
    "        distance_reverse = dijkstra_path_length[node_2][node_1]\n",
    "        target_dis = min(float(distance), float(distance_reverse))\n",
    "        if alg == 'L1':\n",
    "            embdis_aver = np.sum(np.abs(emb_aver_1-emb_aver_2))\n",
    "            embdis_max = np.sum(np.abs(emb_max_1-emb_max_2))\n",
    "        elif alg == 'L2':\n",
    "            embdis_aver = math.sqrt(np.dot(emb_aver_1-emb_aver_2, emb_aver_1-emb_aver_2))\n",
    "            embdis_max = math.sqrt(np.dot(emb_max_1-emb_max_2, emb_max_1-emb_max_2))\n",
    "        embdis = 2.0*embdis_aver - embdis_max\n",
    "        sigma += (target_dis-embdis)*(target_dis-embdis)\n",
    "        ave_d += target_dis\n",
    "    return [sigma, ave_d]\n",
    "\n",
    "def distortion_min_mp(G, embedding_aver, embedding_max, subset, alg):\n",
    "    input_set = list(range(len(subset)))\n",
    "    sigma = 0\n",
    "    ave_d = 0\n",
    "    pool_size = mp.cpu_count() * 2\n",
    "    print(\"Pool size: {}\".format(pool_size))\n",
    "    pool = mp.Pool(processes=pool_size)\n",
    "    pool_outputs = pool.map(meta_distortion_min, input_set)\n",
    "    pool.close()\n",
    "    pool.join()\n",
    "    # Sum the result of metacalculation\n",
    "    pool_outputs = np.array(pool_outputs)\n",
    "    #print(pool_outputs)\n",
    "    sigma, ave_d = np.sum(pool_outputs, 0)\n",
    "    base = float(S)*float(S-1)\n",
    "    sigma = math.sqrt(float(sigma)/base)\n",
    "    ave_d = float(ave_d)/base\n",
    "    return float(sigma)/ave_d"
   ]
  },
  {
   "cell_type": "code",
   "execution_count": 42,
   "metadata": {},
   "outputs": [
    {
     "name": "stdout",
     "output_type": "stream",
     "text": [
      "#########Test for K1:14, K2:6\n",
      "Pool size: 8\n",
      "0.42732127059268815\n",
      "#########Test for K1:14, K2:7\n",
      "Pool size: 8\n",
      "0.40815129787493937\n",
      "#########Test for K1:14, K2:8\n",
      "Pool size: 8\n",
      "0.4880959202016164\n",
      "#########Test for K1:15, K2:6\n",
      "Pool size: 8\n",
      "0.4265990452345787\n",
      "#########Test for K1:15, K2:7\n",
      "Pool size: 8\n",
      "0.49928172318939357\n",
      "#########Test for K1:15, K2:8\n",
      "Pool size: 8\n",
      "0.4067403863002687\n",
      "#########Test for K1:16, K2:6\n",
      "Pool size: 8\n",
      "0.5169117677366762\n",
      "#########Test for K1:16, K2:7\n",
      "Pool size: 8\n",
      "0.4786973262480331\n",
      "#########Test for K1:16, K2:8\n",
      "Pool size: 8\n",
      "0.414748677202301\n"
     ]
    }
   ],
   "source": [
    "k1list = [14, 15, 16]\n",
    "k2list = [6, 7, 8]\n",
    "for K1 in k1list:\n",
    "    for K2 in k2list:\n",
    "        print(\"#########Test for K1:{}, K2:{}\".format(K1, K2))\n",
    "        epsilon = 0.01\n",
    "        alg = 'L2'\n",
    "        dis_store = init_dis_store(G)\n",
    "        embedding_aver = difastmap_average(G, K1, epsilon, dis_store, alg)\n",
    "        embedding_max = difastmap_max(G, K2, epsilon, dis_store, alg)\n",
    "        results = distortion_min_mp(G, embedding_aver, embedding_max, subset, alg)\n",
    "        print(results)"
   ]
  },
  {
   "cell_type": "markdown",
   "metadata": {},
   "source": [
    "## Test the distortion of differential heuristic"
   ]
  },
  {
   "cell_type": "code",
   "execution_count": 43,
   "metadata": {},
   "outputs": [],
   "source": [
    "def edgebound(pivots, pivots_dis_i, pivots_dis_j):\n",
    "    upper_ij = float('inf')\n",
    "    lower_ij = 0    \n",
    "    for p in pivots:\n",
    "        dip = pivots_dis_i[p]\n",
    "        dpj = pivots_dis_j['-'+str(p)]\n",
    "        djp = pivots_dis_j[p]\n",
    "        dpi = pivots_dis_i['-'+str(p)]\n",
    "        temp_upper_ij = dip + dpj\n",
    "        if temp_upper_ij < upper_ij:\n",
    "            upper_ij = temp_upper_ij\n",
    "        if dip > djp:\n",
    "            temp_ij = dip - djp\n",
    "            if temp_ij > lower_ij:\n",
    "                lower_ij = temp_ij\n",
    "        if dpj > dpi:\n",
    "            temp_ij = dpj - dpi\n",
    "            if temp_ij > lower_ij:\n",
    "                lower_ij = temp_ij\n",
    "    return lower_ij, upper_ij\n",
    "\n",
    "def meta_distortion_dh(i):\n",
    "    global G, dis_store, subset, pick\n",
    "    node_1=subset[i]\n",
    "    emb_1 = np.array(embedding[node_1])\n",
    "    length = dijkstra_path_length[node_1]\n",
    "    sigma = 0\n",
    "    ave_d = 0\n",
    "    for j in range(len(subset)):\n",
    "        if i == j:\n",
    "            continue\n",
    "        node_2 = subset[j]\n",
    "        emb_2 = np.array(embedding[node_2])\n",
    "        distance = length[node_2]\n",
    "        target_dis = distance\n",
    "        lower, upper = edgebound(dis_store['pivots'], dis_store[node_1], dis_store[node_2])\n",
    "        if pick == 'upper':\n",
    "            embdis = upper\n",
    "        elif pick == 'lower':\n",
    "            embdis = lower\n",
    "        elif pick == 'median':\n",
    "            embdis = (float(upper)+float(lower))/2\n",
    "        sigma += (target_dis-embdis)*(target_dis-embdis)\n",
    "        ave_d += target_dis\n",
    "    return [sigma, ave_d]\n",
    "\n",
    "def distortion_dh_mp(G, dis_store, subset, pick='upper'):\n",
    "    input_set = list(range(len(subset)))\n",
    "    sigma = 0\n",
    "    ave_d = 0\n",
    "    pool_size = mp.cpu_count() * 2\n",
    "    print(\"Pool size: {}\".format(pool_size))\n",
    "    pool = mp.Pool(processes=pool_size)\n",
    "    pool_outputs = pool.map(meta_distortion_dh, input_set)\n",
    "    pool.close()\n",
    "    pool.join()\n",
    "    # Sum the result of metacalculation\n",
    "    pool_outputs = np.array(pool_outputs)\n",
    "    #print(pool_outputs)\n",
    "    sigma, ave_d = np.sum(pool_outputs, 0)\n",
    "    base = float(S)*float(S-1)\n",
    "    sigma = math.sqrt(float(sigma)/base)\n",
    "    ave_d = float(ave_d)/base\n",
    "    return float(sigma)/ave_d"
   ]
  },
  {
   "cell_type": "code",
   "execution_count": 44,
   "metadata": {},
   "outputs": [
    {
     "name": "stdout",
     "output_type": "stream",
     "text": [
      "!!!!!!!!!The number of K: 3\n",
      "#########Test for differential heuristic:upper\n",
      "Pool size: 8\n",
      "0.8358953728675993\n",
      "#########Test for differential heuristic:lower\n",
      "Pool size: 8\n",
      "0.44037582376521606\n",
      "#########Test for differential heuristic:median\n",
      "Pool size: 8\n",
      "0.3341994425526674\n",
      "!!!!!!!!!The number of K: 8\n",
      "#########Test for differential heuristic:upper\n",
      "Pool size: 8\n",
      "0.5698353579690127\n",
      "#########Test for differential heuristic:lower\n",
      "Pool size: 8\n",
      "0.28286169138264705\n",
      "#########Test for differential heuristic:median\n",
      "Pool size: 8\n",
      "0.2566631591550971\n",
      "!!!!!!!!!The number of K: 13\n",
      "#########Test for differential heuristic:upper\n",
      "Pool size: 8\n",
      "0.4916539548069063\n",
      "#########Test for differential heuristic:lower\n",
      "Pool size: 8\n",
      "0.24610443795119968\n",
      "#########Test for differential heuristic:median\n",
      "Pool size: 8\n",
      "0.20802194779505073\n",
      "!!!!!!!!!The number of K: 18\n",
      "#########Test for differential heuristic:upper\n",
      "Pool size: 8\n",
      "0.46567054305493943\n",
      "#########Test for differential heuristic:lower\n",
      "Pool size: 8\n",
      "0.22898342688472703\n",
      "#########Test for differential heuristic:median\n",
      "Pool size: 8\n",
      "0.18203904781868083\n"
     ]
    }
   ],
   "source": [
    "klist = [3, 8, 13, 18]\n",
    "for K in klist:\n",
    "    print(\"!!!!!!!!!The number of K: {}\".format(K))\n",
    "    picklist = ['upper', 'lower', 'median']\n",
    "    for pick in picklist:\n",
    "        print(\"#########Test for differential heuristic:{}\".format(pick))\n",
    "        epsilon = 0.01\n",
    "        alg = 'L2'\n",
    "        dis_store = init_dis_store(G)\n",
    "        embedding = difastmap_max(G, K, epsilon, dis_store, alg)\n",
    "        results = distortion_dh_mp(G, dis_store, subset, pick)\n",
    "        print(results)"
   ]
  },
  {
   "cell_type": "markdown",
   "metadata": {},
   "source": [
    "## Fine-tune the approximation of distances."
   ]
  },
  {
   "cell_type": "code",
   "execution_count": 45,
   "metadata": {},
   "outputs": [],
   "source": [
    "def edgebound(pivots, pivots_dis_i, pivots_dis_j):\n",
    "    upper_ij = float('inf')\n",
    "    lower_ij = 0    \n",
    "    for p in pivots:\n",
    "        dip = pivots_dis_i[p]\n",
    "        dpj = pivots_dis_j['-'+str(p)]\n",
    "        djp = pivots_dis_j[p]\n",
    "        dpi = pivots_dis_i['-'+str(p)]\n",
    "        temp_upper_ij = dip + dpj\n",
    "        if temp_upper_ij < upper_ij:\n",
    "            upper_ij = temp_upper_ij\n",
    "        if dip > djp:\n",
    "            temp_ij = dip - djp\n",
    "            if temp_ij > lower_ij:\n",
    "                lower_ij = temp_ij\n",
    "        if dpj > dpi:\n",
    "            temp_ij = dpj - dpi\n",
    "            if temp_ij > lower_ij:\n",
    "                lower_ij = temp_ij\n",
    "    return lower_ij, upper_ij\n",
    "\n",
    "def compare(pivots, pivots_dis_i, pivots_dis_j, disaver, dismax, realdis):\n",
    "    lower, upper = edgebound(pivots, pivots_dis_i, pivots_dis_j)\n",
    "    median = (float(lower)+float(upper))/2\n",
    "    dismin = 2.0*disaver - dismax\n",
    "    if dismin < 0:\n",
    "        dismin = 0\n",
    "    if upper <= dismin:\n",
    "        state = 1\n",
    "        distune = upper\n",
    "        substate = 1 + np.argmin(np.abs(np.array([lower, median, upper])-realdis))\n",
    "    elif upper > dismin and upper <= disaver and lower <=dismin:\n",
    "        state = 2\n",
    "        distune = dismin\n",
    "        substate = 4 + np.argmin(np.abs(np.array([lower, dismin, median, upper])-realdis))\n",
    "    elif upper > disaver and upper <= dismax and lower <=dismin: # spe\n",
    "        state = 3\n",
    "        distune = median\n",
    "        substate = 8 + np.argmin(np.abs(np.array([lower, dismin, median, disaver, upper])-realdis))\n",
    "    elif upper > dismax and lower <=dismin: # spe\n",
    "        state = 4\n",
    "        distune = disaver\n",
    "        substate = 13 + np.argmin(np.abs(np.array([lower, dismin, median, disaver, dismax, upper])-realdis))\n",
    "    elif upper <= disaver and lower > dismin:\n",
    "        state = 5\n",
    "        distune = lower\n",
    "        substate = 19 + np.argmin(np.abs(np.array([lower, median, upper])-realdis))\n",
    "    elif upper > disaver and upper <= dismax and lower <= disaver and lower > dismin:\n",
    "        state = 6\n",
    "        distune = disaver\n",
    "        substate = 22 + np.argmin(np.abs(np.array([lower, median, disaver, upper])-realdis))\n",
    "    elif upper > dismax and lower <= disaver and lower > dismin: #spe\n",
    "        state = 7\n",
    "        distune = dismax\n",
    "        substate = 26 + np.argmin(np.abs(np.array([lower, disaver, median, dismax, upper])-realdis))\n",
    "    elif upper <= dismax and lower > disaver:\n",
    "        state = 8\n",
    "        distune = upper\n",
    "        substate = 31 + np.argmin(np.abs(np.array([lower, median, upper])-realdis))\n",
    "    elif upper > dismax and lower <= dismax:\n",
    "        state = 9\n",
    "        distune = dismax\n",
    "        substate = 34 + np.argmin(np.abs(np.array([lower, median, dismax, upper])-realdis))\n",
    "    elif lower > dismax:\n",
    "        state = 10\n",
    "        distune = lower\n",
    "        substate = 38 + np.argmin(np.abs(np.array([lower, median, upper])-realdis))\n",
    "    else:\n",
    "        state = 0\n",
    "        distune = disaver\n",
    "    return state, distune, substate\n",
    "\n",
    "def meta_fastmap_dh(i):\n",
    "    global G, embedding_aver, embedding_max, subset, alg\n",
    "    node_1=subset[i]\n",
    "    emb_aver_1 = np.array(embedding_aver[node_1])\n",
    "    emb_max_1 = np.array(embedding_max[node_1])\n",
    "    length = dijkstra_path_length[node_1]\n",
    "    sigma = 0\n",
    "    ave_d = 0\n",
    "    compare_state = []\n",
    "    for t in range(11):\n",
    "        compare_state.append(0)\n",
    "    compare_substate = []\n",
    "    for t in range(41):\n",
    "        compare_substate.append(0)\n",
    "    for j in range(len(subset)):\n",
    "        if i == j:\n",
    "            continue\n",
    "        node_2 = subset[j]\n",
    "        emb_aver_2 = np.array(embedding_aver[node_2])\n",
    "        emb_max_2 = np.array(embedding_max[node_2])\n",
    "        distance = length[node_2]\n",
    "        target_dis = distance\n",
    "        if alg == 'L1':\n",
    "            embdis_aver = np.sum(np.abs(emb_aver_1-emb_aver_2))\n",
    "            embdis_max = np.sum(np.abs(emb_max_1-emb_max_2))\n",
    "        elif alg == 'L2':\n",
    "            embdis_aver = math.sqrt(np.dot(emb_aver_1-emb_aver_2, emb_aver_1-emb_aver_2))\n",
    "            embdis_max = math.sqrt(np.dot(emb_max_1-emb_max_2, emb_max_1-emb_max_2))\n",
    "        state, tunedis, substate = compare(dis_store['pivots'], dis_store[node_1], dis_store[node_2], embdis_aver, embdis_max, target_dis)\n",
    "        compare_state[state] += 1\n",
    "        compare_substate[substate] += 1 \n",
    "        sigma += (target_dis-tunedis)*(target_dis-tunedis)\n",
    "        ave_d += target_dis\n",
    "    output = list([sigma, ave_d])\n",
    "    for n in compare_state:\n",
    "        output.append(n)\n",
    "    for n in compare_substate:\n",
    "        output.append(n)\n",
    "    return output\n",
    "\n",
    "def draw_distribution(states, xl, yl, title):\n",
    "    s = sum(states)\n",
    "    x = list(range(len(states)))\n",
    "    y = []\n",
    "    for i in range(len(states)):\n",
    "        y.append(float(states[i])/s)\n",
    "    plt.plot(x,y,'r-o', linewidth=1)\n",
    "    plt.xlabel(xl)\n",
    "    plt.ylabel(yl)\n",
    "    plt.title(title)\n",
    "    plt.show()\n",
    "    \n",
    "def fastmap_dh_distribution_mp(G, embedding_aver, embedding_max, subset, alg):\n",
    "    input_set = list(range(len(subset)))\n",
    "    sigma = 0\n",
    "    ave_d = 0\n",
    "    pool_size = mp.cpu_count() * 2\n",
    "    print(\"Pool size: {}\".format(pool_size))\n",
    "    pool = mp.Pool(processes=pool_size)\n",
    "    pool_outputs = pool.map(meta_fastmap_dh, input_set)\n",
    "    pool.close()\n",
    "    pool.join()\n",
    "    # Sum the result of metacalculation\n",
    "    pool_outputs = np.array(pool_outputs)\n",
    "    #print(pool_outputs)\n",
    "    resultsum = np.sum(pool_outputs, 0)\n",
    "    sigma, ave_d = resultsum[:2]\n",
    "    states = resultsum[2:13]\n",
    "    substates = resultsum[13:]\n",
    "    xlabel = 'states'\n",
    "    ylabel = 'count (persents)'\n",
    "    title = 'Distribution of DH and FastMap result'\n",
    "    s = sum(states)\n",
    "    x = list(range(len(states)))\n",
    "    y = []\n",
    "    for i in range(len(states)):\n",
    "        y.append(float(states[i])/s)\n",
    "    s_sub = sum(substates)\n",
    "    x_sub =[0,\n",
    "            0.75, 1, 1.25,\n",
    "            1.7, 1.9, 2.1, 2.3,\n",
    "            2.6, 2.8, 3, 3.2, 3.4,\n",
    "            3.5, 3.7, 3.9, 4.1, 4.3, 4.5,\n",
    "            4.75, 5, 5.25,\n",
    "            5.7, 5.9, 6.1, 6.3,\n",
    "            6.6, 6.8, 7, 7.2, 7.4,\n",
    "            7.75, 8, 8.25,\n",
    "            8.7, 8.9, 9.1, 9.3,\n",
    "            9.75, 10, 10.25]\n",
    "    y_sub = []\n",
    "    for i in range(len(substates)):\n",
    "        y_sub.append(float(substates[i])/s_sub)\n",
    "    plt.plot(x,y,'r-o', linewidth=1)\n",
    "    plt.plot(x_sub, y_sub, 'g-*')\n",
    "    plt.xlabel(xlabel)\n",
    "    plt.ylabel(ylabel)\n",
    "    plt.title(title)\n",
    "    plt.show()\n",
    "    \n",
    "    plt.figure(1)\n",
    "    adjlist = [3,4,5,6,3,4,5,3,4,3]\n",
    "    for i in range(1,11):\n",
    "        tempx = [i-1, i, i+1]\n",
    "        tempy = [0, y[i], 0]\n",
    "        tempxsub = x_sub[sum(adjlist[:i-1])+1:sum(adjlist[:i])+1]\n",
    "        tempysub = y_sub[sum(adjlist[:i-1])+1:sum(adjlist[:i])+1]\n",
    "        plt.subplot(4, 3, i)\n",
    "        plt.plot(tempx,tempy,'r-o', linewidth=1)\n",
    "        plt.plot(tempxsub, tempysub, 'g-*')\n",
    "    plt.show()\n",
    "    \n",
    "    upper_states = [0,0,0,0]\n",
    "    upper_states[0] += states[1]\n",
    "    upper_states[1] += states[2] + states[5]\n",
    "    upper_states[2] += states[3] + states[6] + states[8]\n",
    "    upper_states[3] += states[4] + states[7] + states[9] + states[10]\n",
    "    title = 'Upper Distribution of DH and FastMap result'\n",
    "    draw_distribution(upper_states, xlabel, ylabel, title)\n",
    "    \n",
    "    lower_states = [0,0,0,0]\n",
    "    lower_states[0] += states[1] + states[2] + states[3] + states[4]\n",
    "    lower_states[1] += states[5] + states[6] + states[7]\n",
    "    lower_states[2] += states[8] + states[9]\n",
    "    lower_states[3] += states[10]\n",
    "    title = 'Lower Distribution of DH and FastMap result'\n",
    "    draw_distribution(lower_states, xlabel, ylabel, title) \n",
    "    \n",
    "    base = float(S)*float(S-1)\n",
    "    sigma = math.sqrt(float(sigma)/base)\n",
    "    ave_d = float(ave_d)/base\n",
    "    return float(sigma)/ave_d"
   ]
  },
  {
   "cell_type": "code",
   "execution_count": 46,
   "metadata": {},
   "outputs": [
    {
     "name": "stdout",
     "output_type": "stream",
     "text": [
      "Pool size: 8\n"
     ]
    },
    {
     "data": {
      "image/png": "[encoded data removed]",
      "text/plain": [
       "<matplotlib.figure.Figure at 0x152043cd68>"
      ]
     },
     "metadata": {},
     "output_type": "display_data"
    },
    {
     "data": {
      "image/png": "[encoded data removed]",
      "text/plain": [
       "<matplotlib.figure.Figure at 0x1518862d68>"
      ]
     },
     "metadata": {},
     "output_type": "display_data"
    },
    {
     "data": {
      "image/png": "[encoded data removed]",
      "text/plain": [
       "<matplotlib.figure.Figure at 0x15a1032940>"
      ]
     },
     "metadata": {},
     "output_type": "display_data"
    },
    {
     "data": {
      "image/png": "[encoded data removed]",
      "text/plain": [
       "<matplotlib.figure.Figure at 0x151bfd4208>"
      ]
     },
     "metadata": {},
     "output_type": "display_data"
    },
    {
     "name": "stdout",
     "output_type": "stream",
     "text": [
      "0.2204180481719387\n",
      "#########Test for differential heuristic:upper\n",
      "Pool size: 8\n",
      "0.4356076002179444\n",
      "#########Test for differential heuristic:lower\n",
      "Pool size: 8\n",
      "0.22298175077070725\n",
      "#########Test for differential heuristic:median\n",
      "Pool size: 8\n",
      "0.1856954501111051\n"
     ]
    }
   ],
   "source": [
    "epsilon = 0.01\n",
    "alg = 'L2'\n",
    "dis_store = init_dis_store(G)\n",
    "embedding_aver = difastmap_average(G, 14, epsilon, dis_store, alg)\n",
    "embedding_max = difastmap_max(G, 7, epsilon, dis_store, alg)\n",
    "results = fastmap_dh_distribution_mp(G, embedding_aver, embedding_max, subset, alg)\n",
    "print(results)\n",
    "picklist = ['upper', 'lower', 'median']\n",
    "for pick in picklist:\n",
    "    print(\"#########Test for differential heuristic:{}\".format(pick))\n",
    "    results = distortion_dh_mp(G, dis_store, subset, pick)\n",
    "    print(results)"
   ]
  },
  {
   "cell_type": "markdown",
   "metadata": {},
   "source": [
    "**Summary**\n",
    "\n",
    "The result seems confusing, here is two plans.\n",
    "\n",
    "1. Figure out this graph's structure.\n",
    "2. And try subset bigger."
   ]
  },
  {
   "cell_type": "code",
   "execution_count": null,
   "metadata": {},
   "outputs": [],
   "source": []
  }
 ],
 "metadata": {
  "kernelspec": {
   "display_name": "Python 3",
   "language": "python",
   "name": "python3"
  },
  "language_info": {
   "codemirror_mode": {
    "name": "ipython",
    "version": 3
   },
   "file_extension": ".py",
   "mimetype": "text/x-python",
   "name": "python",
   "nbconvert_exporter": "python",
   "pygments_lexer": "ipython3",
   "version": "3.6.4"
  }
 },
 "nbformat": 4,
 "nbformat_minor": 2
}
