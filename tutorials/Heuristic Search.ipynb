{
 "cells": [
  {
   "cell_type": "markdown",
   "metadata": {},
   "source": [
    "# Problem Solving and Search\n",
    "\n",
    "## Backgrounds: \n",
    "\n",
    "Modern research regards problem solving as the Infomation-Processsing approach. It was first proposed by Alan Newell and Herbert Simon, and they described their “logic theorist” computer program that was designed to simulate human problem solving. In other words, instead of just considering the initial structure of a problem and then the new structure achieved when the problem is solved, Newell and Simon described problem solving as a search that occurs between the posing of the problem and its solution.\n",
    "\n",
    "One of the main contributions of Newell and Simon’s approach to problem solving\n",
    "is that it provided a way to specify the possible pathways from the initial to goal states.\n",
    "\n",
    "**Beyond problem space**\n",
    "\n",
    "In phycology perspective, how a problem is stated can affect its diffculty. This is very similar to the Gestalt psychologists’ idea of restructuring. \n",
    "\n"
   ]
  },
  {
   "cell_type": "code",
   "execution_count": null,
   "metadata": {},
   "outputs": [],
   "source": []
  }
 ],
 "metadata": {
  "kernelspec": {
   "display_name": "Python 3",
   "language": "python",
   "name": "python3"
  },
  "language_info": {
   "codemirror_mode": {
    "name": "ipython",
    "version": 3
   },
   "file_extension": ".py",
   "mimetype": "text/x-python",
   "name": "python",
   "nbconvert_exporter": "python",
   "pygments_lexer": "ipython3",
   "version": "3.6.4"
  }
 },
 "nbformat": 4,
 "nbformat_minor": 2
}
