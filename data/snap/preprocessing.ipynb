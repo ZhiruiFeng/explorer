{
 "cells": [
  {
   "cell_type": "code",
   "execution_count": 2,
   "metadata": {},
   "outputs": [
    {
     "name": "stdout",
     "output_type": "stream",
     "text": [
      "The autoreload extension is already loaded. To reload it, use:\n",
      "  %reload_ext autoreload\n"
     ]
    }
   ],
   "source": [
    "# Add libraries\n",
    "%load_ext autoreload\n",
    "%autoreload 2\n",
    "import os, sys\n",
    "lib_path = os.path.abspath(os.path.join('../../heuristic/'))\n",
    "sys.path.append(lib_path)\n",
    "\n",
    "import fastmap.utils as utils\n",
    "import networkx as nx"
   ]
  },
  {
   "cell_type": "code",
   "execution_count": 7,
   "metadata": {},
   "outputs": [
    {
     "name": "stdout",
     "output_type": "stream",
     "text": [
      "./raw/p2p-Gnutella05.txt\n",
      "Finish reading\n",
      "Not a strongly connected graph, have 5613 component\n",
      "Not a strongly connected graph, have 5613 components\n",
      "The largest components:\n",
      "Nodes: 3234\n",
      "Edges: 13453\n",
      "Start writing into file <_io.TextIOWrapper name='./p2p-Gnutella05_3234_13453' mode='w' encoding='UTF-8'>\n",
      "./raw/p2p-Gnutella06.txt\n",
      "Finish reading\n",
      "A weakly connected graph.\n",
      "Not a strongly connected graph, have 5492 components\n",
      "The largest components:\n",
      "Nodes: 3226\n",
      "Edges: 13589\n",
      "Start writing into file <_io.TextIOWrapper name='./p2p-Gnutella06_3226_13589' mode='w' encoding='UTF-8'>\n",
      "./raw/p2p-Gnutella09.txt\n",
      "Finish reading\n",
      "Not a strongly connected graph, have 5491 component\n",
      "Not a strongly connected graph, have 5491 components\n",
      "The largest components:\n",
      "Nodes: 2624\n",
      "Edges: 10776\n",
      "Start writing into file <_io.TextIOWrapper name='./p2p-Gnutella09_2624_10776' mode='w' encoding='UTF-8'>\n"
     ]
    }
   ],
   "source": [
    "in_directory = \"./raw/\"\n",
    "out_directory = \"./\"\n",
    "files= os.listdir(in_directory)\n",
    "for file in files:\n",
    "    if not os.path.isdir(file) and file[-4:]=='.txt':\n",
    "        name = file\n",
    "        infile = in_directory + name\n",
    "        print(infile)\n",
    "        G = utils.readDiGraph(infile)\n",
    "        print(\"Finish reading\")\n",
    "        utils.connectivity_info(G)\n",
    "        largest = utils.largest_strongly_conencted_component(G)\n",
    "        num_nodes = len(largest.nodes())\n",
    "        num_edges = len(largest.edges())\n",
    "        outfile = out_directory+name.strip().split('.')[0]+'_'+str(num_nodes)+'_'+str(num_edges)\n",
    "        utils.writeDiGraph(largest, outfile)"
   ]
  },
  {
   "cell_type": "code",
   "execution_count": null,
   "metadata": {
    "collapsed": true
   },
   "outputs": [],
   "source": []
  }
 ],
 "metadata": {
  "kernelspec": {
   "display_name": "Python 3",
   "language": "python",
   "name": "python3"
  },
  "language_info": {
   "codemirror_mode": {
    "name": "ipython",
    "version": 3
   },
   "file_extension": ".py",
   "mimetype": "text/x-python",
   "name": "python",
   "nbconvert_exporter": "python",
   "pygments_lexer": "ipython3",
   "version": "3.6.4"
  }
 },
 "nbformat": 4,
 "nbformat_minor": 2
}
