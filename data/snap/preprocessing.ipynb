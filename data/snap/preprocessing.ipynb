{
 "cells": [
  {
   "cell_type": "code",
   "execution_count": 2,
   "metadata": {},
   "outputs": [
    {
     "name": "stdout",
     "output_type": "stream",
     "text": [
      "The autoreload extension is already loaded. To reload it, use:\n",
      "  %reload_ext autoreload\n"
     ]
    }
   ],
   "source": [
    "# Add libraries\n",
    "%load_ext autoreload\n",
    "%autoreload 2\n",
    "import os, sys\n",
    "lib_path = os.path.abspath(os.path.join('../../heuristic/'))\n",
    "sys.path.append(lib_path)\n",
    "\n",
    "import fastmap.utils as utils\n",
    "import networkx as nx"
   ]
  },
  {
   "cell_type": "code",
   "execution_count": 4,
   "metadata": {},
   "outputs": [
    {
     "ename": "SyntaxError",
     "evalue": "invalid syntax (<ipython-input-4-b96a681d57a1>, line 5)",
     "output_type": "error",
     "traceback": [
      "\u001b[0;36m  File \u001b[0;32m\"<ipython-input-4-b96a681d57a1>\"\u001b[0;36m, line \u001b[0;32m5\u001b[0m\n\u001b[0;31m    if not os.path.isdir(file) and file[-4:]='.txt':\u001b[0m\n\u001b[0m                                            ^\u001b[0m\n\u001b[0;31mSyntaxError\u001b[0m\u001b[0;31m:\u001b[0m invalid syntax\n"
     ]
    }
   ],
   "source": [
    "in_directory = \"./raw/\"\n",
    "out_directory = \"./\"\n",
    "files= os.listdir(in_directory)\n",
    "for file in files:\n",
    "    if not os.path.isdir(file) and file[-4:]='.txt':\n",
    "        name = file\n",
    "        infile = in_directory + name\n",
    "        print(infile)\n",
    "        G = utils.readDiGraph(infile)\n",
    "        print(\"Finish reading\")\n",
    "        connectivity_info(G)\n",
    "        largest = utils.largest_strongly_conencted_component(G)\n",
    "        num_nodes = len(largest.nodes())\n",
    "        num_edges = len(largest.edges())\n",
    "        outfile = out_directory+name.strip().split('.')[0]+'_'+str(num_nodes)+'_'+str(num_edges)\n",
    "        writeDiGraph(largest, outfile)"
   ]
  },
  {
   "cell_type": "code",
   "execution_count": null,
   "metadata": {
    "collapsed": true
   },
   "outputs": [],
   "source": []
  }
 ],
 "metadata": {
  "kernelspec": {
   "display_name": "Python 3",
   "language": "python",
   "name": "python3"
  },
  "language_info": {
   "codemirror_mode": {
    "name": "ipython",
    "version": 3
   },
   "file_extension": ".py",
   "mimetype": "text/x-python",
   "name": "python",
   "nbconvert_exporter": "python",
   "pygments_lexer": "ipython3",
   "version": "3.6.4"
  }
 },
 "nbformat": 4,
 "nbformat_minor": 2
}
