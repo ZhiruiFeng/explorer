{
 "cells": [
  {
   "cell_type": "markdown",
   "metadata": {},
   "source": [
    "# View the dataset\n",
    "\n",
    "From the game map [here](https://www.movingai.com/benchmarks/dao/), the path finding benchmark."
   ]
  },
  {
   "cell_type": "code",
   "execution_count": 2,
   "metadata": {},
   "outputs": [
    {
     "name": "stdout",
     "output_type": "stream",
     "text": [
      "The autoreload extension is already loaded. To reload it, use:\n",
      "  %reload_ext autoreload\n"
     ]
    }
   ],
   "source": [
    "# Add libraries\n",
    "%load_ext autoreload\n",
    "%autoreload 2\n",
    "import os, sys\n",
    "lib_path = os.path.abspath(os.path.join('../../'))\n",
    "sys.path.append(lib_path)\n",
    "\n",
    "import heuristic.fastmap.utils as utils\n",
    "from heuristic.fastmap.difastmap import init_dis_store, difastmap_average, difastmap_diff, difastmap_max \n",
    "import heuristic.fastmap.analyse as analyse\n",
    "\n",
    "import matplotlib.pyplot as plt\n",
    "import networkx as nx\n",
    "import random\n",
    "import multiprocessing as mp\n",
    "import numpy as np\n",
    "import math\n",
    "from random import sample"
   ]
  },
  {
   "cell_type": "code",
   "execution_count": 3,
   "metadata": {},
   "outputs": [
    {
     "name": "stdout",
     "output_type": "stream",
     "text": [
      "############## orz101d.dimap\n",
      "A strongly connected graph.\n",
      "22681\n",
      "62816\n",
      "0.0001221138795907692\n",
      "############## den009d.dimap\n",
      "A strongly connected graph.\n",
      "13710\n",
      "40331\n",
      "0.00021458322060411792\n",
      "############## lak102d.dimap\n",
      "A strongly connected graph.\n",
      "4628\n",
      "12261\n",
      "0.0005725758713230879\n",
      "############## den203d.dimap\n",
      "A strongly connected graph.\n",
      "7719\n",
      "18934\n",
      "0.0003178165856212552\n",
      "############## hrt002d.dimap\n",
      "A strongly connected graph.\n",
      "5796\n",
      "15535\n",
      "0.0004625188535606062\n",
      "############## arena.dimap\n",
      "A strongly connected graph.\n",
      "31897\n",
      "103081\n",
      "0.00010131938896406581\n",
      "############## isound.dimap\n",
      "A strongly connected graph.\n",
      "46468\n",
      "154424\n",
      "7.151813529461307e-05\n",
      "############## ost102d.dimap\n",
      "A strongly connected graph.\n",
      "2753\n",
      "6811\n",
      "0.000898992853462185\n",
      "############## brc300d.dimap\n",
      "A strongly connected graph.\n",
      "69270\n",
      "197383\n",
      "4.113633914691761e-05\n"
     ]
    }
   ],
   "source": [
    "path = \"./\"\n",
    "files = os.listdir(path)\n",
    "for file in files:\n",
    "    if not os.path.isdir(file) and file[-6:] == '.dimap':\n",
    "        print(\"############## {}\".format(file))\n",
    "        G = utils.readDiGraph(path+file)\n",
    "        utils.connectivity_info(G)\n",
    "        countn = G.number_of_nodes()\n",
    "        counte = G.number_of_edges()\n",
    "        density = float(counte)/(countn * (countn-1))\n",
    "        print(countn)\n",
    "        print(counte)\n",
    "        print(density)"
   ]
  },
  {
   "cell_type": "code",
   "execution_count": null,
   "metadata": {},
   "outputs": [],
   "source": []
  }
 ],
 "metadata": {
  "kernelspec": {
   "display_name": "Python 3",
   "language": "python",
   "name": "python3"
  },
  "language_info": {
   "codemirror_mode": {
    "name": "ipython",
    "version": 3
   },
   "file_extension": ".py",
   "mimetype": "text/x-python",
   "name": "python",
   "nbconvert_exporter": "python",
   "pygments_lexer": "ipython3",
   "version": "3.6.4"
  }
 },
 "nbformat": 4,
 "nbformat_minor": 2
}
